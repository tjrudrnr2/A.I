{
  "cells": [
    {
      "cell_type": "markdown",
      "metadata": {
        "id": "XUS2KAxUEa_L"
      },
      "source": [
        "# Pytorch Project Template\n",
        "\n",
        "\n",
        "[![Open In Colab](https://colab.research.google.com/assets/colab-badge.svg)](https://colab.research.google.com/github/BoostcampAITech/lecture-note-python-basics-for-ai/blob/main/codes/pytorch/07_torch-study/pytorch_project.ipynb)"
      ]
    },
    {
      "cell_type": "code",
      "execution_count": null,
      "metadata": {
        "id": "KbfYQDbeJ-L3"
      },
      "outputs": [],
      "source": [
        "!pip3 install torch\n",
        "!pip3 install torchvision"
      ]
    },
    {
      "cell_type": "code",
      "execution_count": null,
      "metadata": {
        "id": "7txSJtWdEa_O"
      },
      "outputs": [],
      "source": [
        "from google.colab import drive\n",
        "drive.mount('/content/drive')"
      ]
    },
    {
      "cell_type": "code",
      "execution_count": null,
      "metadata": {
        "id": "xehLXl7tHBkR"
      },
      "outputs": [],
      "source": [
        "!git clone https://github.com/victoresque/pytorch-template"
      ]
    },
    {
      "cell_type": "code",
      "execution_count": null,
      "metadata": {
        "id": "ygK7oSjUEa_O"
      },
      "outputs": [],
      "source": [
        "!ls"
      ]
    },
    {
      "cell_type": "code",
      "execution_count": null,
      "metadata": {
        "id": "aRKwDoCXHTVs"
      },
      "outputs": [],
      "source": [
        "%cd /content/pytorch-template"
      ]
    },
    {
      "cell_type": "code",
      "execution_count": null,
      "metadata": {
        "id": "sBJwRFsmMfWB"
      },
      "outputs": [],
      "source": [
        "!python new_project.py MNIST-example"
      ]
    },
    {
      "cell_type": "code",
      "execution_count": null,
      "metadata": {
        "id": "C37YT-6wHR1Z"
      },
      "outputs": [],
      "source": [
        "NGROK_TOKEN = '1mn46f5zchuMTvgUwv7MECrVYy1_7rVtSq7XzXgCd1qZB6CBE' # ngrok 토큰\n",
        "PASSWORD = 'upstage' # 비밀번호 설정"
      ]
    },
    {
      "cell_type": "code",
      "execution_count": null,
      "metadata": {
        "id": "S9SLF0uQHXn_"
      },
      "outputs": [],
      "source": [
        "!pip install colab-ssh"
      ]
    },
    {
      "cell_type": "code",
      "execution_count": null,
      "metadata": {
        "id": "tlPH6DT0HjEZ"
      },
      "outputs": [],
      "source": [
        "from colab_ssh import launch_ssh\n",
        "launch_ssh(NGROK_TOKEN, PASSWORD)"
      ]
    },
    {
      "cell_type": "code",
      "execution_count": null,
      "metadata": {
        "id": "VriDhlP_HnB_"
      },
      "outputs": [],
      "source": [
        "class Test(object):\n",
        "    def __getitem__(self, items):\n",
        "        print (type(items), items)\n",
        "\n",
        "# Driver code\n",
        "test = Test()\n",
        "test[5]\n",
        "test[5:65:5]\n",
        "test['GeeksforGeeks']\n",
        "test[1, 'x', 10.0]\n",
        "test['a':'z':2]\n",
        "test[object()]"
      ]
    }
  ],
  "metadata": {
    "accelerator": "GPU",
    "colab": {
      "collapsed_sections": [],
      "name": "pytorch_project.ipynb",
      "provenance": []
    },
    "kernelspec": {
      "display_name": "Lablup FF 20.07 on Python 3.6 (CUDA 10.1)",
      "language": "python",
      "name": "python3"
    },
    "language_info": {
      "codemirror_mode": {
        "name": "ipython",
        "version": 3
      },
      "file_extension": ".py",
      "mimetype": "text/x-python",
      "name": "python",
      "nbconvert_exporter": "python",
      "pygments_lexer": "ipython3",
      "version": "3.6.9"
    }
  },
  "nbformat": 4,
  "nbformat_minor": 0
}