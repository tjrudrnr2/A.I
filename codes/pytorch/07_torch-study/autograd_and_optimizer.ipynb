{
  "cells": [
    {
      "cell_type": "markdown",
      "metadata": {
        "id": "NsgbmKUjl5f6"
      },
      "source": [
        "## Tensor ve Parameter"
      ]
    },
    {
      "cell_type": "markdown",
      "metadata": {
        "id": "uwJDgOHVuIsL"
      },
      "source": [
        "[![Open In Colab](https://colab.research.google.com/assets/colab-badge.svg)](https://colab.research.google.com/github/BoostcampAITech/lecture-note-python-basics-for-ai/blob/main/codes/pytorch/07_torch-study/autograd_and_optimizer.ipynb)"
      ]
    },
    {
      "cell_type": "code",
      "execution_count": null,
      "metadata": {
        "id": "OvcvXA0ol5f8"
      },
      "outputs": [],
      "source": [
        "import torch\n",
        "from torch import nn\n",
        "from torch import Tensor\n"
      ]
    },
    {
      "cell_type": "code",
      "execution_count": null,
      "metadata": {
        "id": "w8xVd3-Dl5f-"
      },
      "outputs": [],
      "source": [
        "class MyLiner(nn.Module):\n",
        "    def __init__(self, in_features, out_features, bias=True):\n",
        "        super().__init__()\n",
        "        self.in_features = in_features\n",
        "        self.out_features = out_features\n",
        "        \n",
        "        self.weights = nn.Parameter(\n",
        "                torch.randn(in_features, out_features))\n",
        "        \n",
        "        self.bias = nn.Parameter(torch.randn(out_features))\n",
        "\n",
        "    def forward(self, x : Tensor):\n",
        "        return x @ self.weights + self.bias"
      ]
    },
    {
      "cell_type": "code",
      "execution_count": null,
      "metadata": {
        "id": "_YLfgvhgl5f-"
      },
      "outputs": [],
      "source": [
        "x = torch.randn(5, 7)"
      ]
    },
    {
      "cell_type": "code",
      "execution_count": null,
      "metadata": {
        "colab": {
          "base_uri": "https://localhost:8080/"
        },
        "id": "yRMOGgPA0eyn",
        "outputId": "ddce3f8b-a32f-4dad-c34f-17e9a8734afa"
      },
      "outputs": [
        {
          "data": {
            "text/plain": [
              "tensor([[-0.1290,  0.9276,  1.4571, -0.7998, -0.2309,  1.4767, -0.7163],\n",
              "        [-0.4124,  2.4545, -0.0843,  1.9181,  0.4909,  0.1743,  0.8474],\n",
              "        [-0.8565,  0.3048, -1.0143, -0.8152, -0.4915, -0.2336,  1.5950],\n",
              "        [ 1.0215,  0.6244,  0.9713, -0.0904,  0.8092, -0.1705, -0.4818],\n",
              "        [-1.5510,  0.6296,  1.7044, -0.3278,  0.2561, -0.0385,  0.5673]])"
            ]
          },
          "execution_count": 4,
          "metadata": {
            "tags": []
          },
          "output_type": "execute_result"
        }
      ],
      "source": [
        "x"
      ]
    },
    {
      "cell_type": "code",
      "execution_count": null,
      "metadata": {
        "colab": {
          "base_uri": "https://localhost:8080/"
        },
        "id": "q_gKNtCGl5f_",
        "outputId": "d756dbc3-c02a-4457-a712-437af9df6e17"
      },
      "outputs": [
        {
          "data": {
            "text/plain": [
              "torch.Size([5, 12])"
            ]
          },
          "execution_count": 6,
          "metadata": {
            "tags": []
          },
          "output_type": "execute_result"
        }
      ],
      "source": [
        "layer = MyLiner(7, 12)\n",
        "layer(x).shape"
      ]
    },
    {
      "cell_type": "code",
      "execution_count": null,
      "metadata": {
        "id": "_-HjPZVL0ike"
      },
      "outputs": [],
      "source": [
        ""
      ]
    },
    {
      "cell_type": "code",
      "execution_count": null,
      "metadata": {
        "colab": {
          "base_uri": "https://localhost:8080/"
        },
        "id": "x1UHDx9bl5gA",
        "outputId": "f2da7685-1940-4b7e-f031-903f0902eefb"
      },
      "outputs": [
        {
          "name": "stdout",
          "output_type": "stream",
          "text": [
            "Parameter containing:\n",
            "tensor([[ 0.5629,  0.8195, -1.4077,  0.8770,  0.2219,  0.8223,  1.8810, -0.1525,\n",
            "         -0.9357,  0.7541,  0.7736, -2.8399],\n",
            "        [-0.8456,  0.1043, -0.5932,  0.3054,  0.2600, -0.3360, -0.7937,  1.5192,\n",
            "          0.1650, -0.5944,  1.9097,  0.6564],\n",
            "        [ 0.4087,  0.5548, -0.9089, -0.2926,  0.3594, -0.1939,  2.2032, -1.0533,\n",
            "         -0.7218, -1.7363, -1.3961, -0.7586],\n",
            "        [ 0.2267,  0.8794, -1.2312,  0.1698,  0.3916,  0.2688,  0.4599,  2.1481,\n",
            "          0.1497, -0.3310,  0.4746,  0.3253],\n",
            "        [-0.1326,  0.9534, -0.6116,  1.2717, -1.6121, -0.7353,  2.1038, -1.4438,\n",
            "          0.0502,  1.1931, -0.7239,  0.7101],\n",
            "        [-2.0860,  0.2396,  2.0077, -1.2387, -1.3745, -1.0013,  1.6849, -1.6709,\n",
            "         -0.8155, -1.5970,  0.2834, -2.0063],\n",
            "        [ 0.6734,  0.8970, -0.6373,  2.0053, -0.7883, -0.4614,  1.6959, -0.8284,\n",
            "          1.9163, -0.7048,  0.2177,  0.7888]], requires_grad=True)\n",
            "Parameter containing:\n",
            "tensor([ 0.4265, -0.1408, -1.1188, -1.0250,  0.8245,  0.1349, -0.6078, -1.0341,\n",
            "        -0.3866, -0.1478,  0.0690,  1.0962], requires_grad=True)\n"
          ]
        }
      ],
      "source": [
        "for value in layer.parameters():\n",
        "    print(value)"
      ]
    },
    {
      "cell_type": "code",
      "execution_count": null,
      "metadata": {
        "colab": {
          "base_uri": "https://localhost:8080/"
        },
        "id": "SpGBPlWKl5gA",
        "outputId": "568d6843-f33c-47b6-a3c5-4bfc235dbe20"
      },
      "outputs": [
        {
          "data": {
            "text/plain": [
              "torch.Size([5, 12])"
            ]
          },
          "execution_count": 10,
          "metadata": {
            "tags": []
          },
          "output_type": "execute_result"
        }
      ],
      "source": [
        "class MyLiner(nn.Module):\n",
        "    def __init__(self, in_features, out_features, bias=True):\n",
        "        super().__init__()\n",
        "        self.in_features = in_features\n",
        "        self.out_features = out_features\n",
        "        \n",
        "        self.weights = Tensor(\n",
        "                torch.randn(in_features, out_features))\n",
        "        \n",
        "        self.bias = Tensor(torch.randn(out_features))\n",
        "\n",
        "    def forward(self, x : Tensor):\n",
        "        return x @ self.weights + self.bias\n",
        "\n",
        "\n",
        "layer = MyLiner(7, 12)\n",
        "layer(x).shape"
      ]
    },
    {
      "cell_type": "code",
      "execution_count": null,
      "metadata": {
        "id": "GUezLINrl5gB"
      },
      "outputs": [],
      "source": [
        "for value in layer.parameters():\n",
        "    print(value)"
      ]
    },
    {
      "cell_type": "markdown",
      "metadata": {
        "id": "aUKvDp-ll5gB"
      },
      "source": [
        "## AutoGrad for Linear Regression\n",
        "https://towardsdatascience.com/linear-regression-with-pytorch-eb6dedead817"
      ]
    },
    {
      "cell_type": "markdown",
      "metadata": {
        "id": "QjjiARk2l5gC"
      },
      "source": [
        "$$ y=2x+1 $$"
      ]
    },
    {
      "cell_type": "code",
      "execution_count": null,
      "metadata": {
        "id": "45sSIbtPl5gC"
      },
      "outputs": [],
      "source": [
        "import numpy as np\n",
        "# create dummy data for training\n",
        "x_values = [i for i in range(11)]\n",
        "x_train = np.array(x_values, dtype=np.float32)\n",
        "x_train = x_train.reshape(-1, 1)\n",
        "\n",
        "y_values = [2*i + 1 for i in x_values]\n",
        "y_train = np.array(y_values, dtype=np.float32)\n",
        "y_train = y_train.reshape(-1, 1)"
      ]
    },
    {
      "cell_type": "code",
      "execution_count": null,
      "metadata": {
        "colab": {
          "base_uri": "https://localhost:8080/"
        },
        "id": "5d5GyTBi1mNb",
        "outputId": "56baafcf-e090-4dbc-df8a-73453d868e7f"
      },
      "outputs": [
        {
          "data": {
            "text/plain": [
              "array([[ 0.],\n",
              "       [ 1.],\n",
              "       [ 2.],\n",
              "       [ 3.],\n",
              "       [ 4.],\n",
              "       [ 5.],\n",
              "       [ 6.],\n",
              "       [ 7.],\n",
              "       [ 8.],\n",
              "       [ 9.],\n",
              "       [10.]], dtype=float32)"
            ]
          },
          "execution_count": 13,
          "metadata": {
            "tags": []
          },
          "output_type": "execute_result"
        }
      ],
      "source": [
        "x_train"
      ]
    },
    {
      "cell_type": "code",
      "execution_count": null,
      "metadata": {
        "colab": {
          "base_uri": "https://localhost:8080/"
        },
        "id": "UzQc5jRFl5gC",
        "outputId": "ca48fdb3-8cfe-49b1-8a2d-343af4b34f2c"
      },
      "outputs": [
        {
          "data": {
            "text/plain": [
              "array([[ 1.],\n",
              "       [ 3.],\n",
              "       [ 5.],\n",
              "       [ 7.],\n",
              "       [ 9.],\n",
              "       [11.],\n",
              "       [13.],\n",
              "       [15.],\n",
              "       [17.],\n",
              "       [19.],\n",
              "       [21.]], dtype=float32)"
            ]
          },
          "execution_count": 14,
          "metadata": {
            "tags": []
          },
          "output_type": "execute_result"
        }
      ],
      "source": [
        "y_train"
      ]
    },
    {
      "cell_type": "code",
      "execution_count": null,
      "metadata": {
        "id": "PHcKjU23l5gD"
      },
      "outputs": [],
      "source": [
        "import torch\n",
        "from torch.autograd import Variable\n",
        "class LinearRegression(torch.nn.Module):\n",
        "    def __init__(self, inputSize, outputSize):\n",
        "        super(LinearRegression, self).__init__()\n",
        "        self.linear = torch.nn.Linear(inputSize, outputSize)\n",
        "\n",
        "    def forward(self, x):\n",
        "        out = self.linear(x)\n",
        "        return out"
      ]
    },
    {
      "cell_type": "code",
      "execution_count": null,
      "metadata": {
        "id": "CT7_Izp-l5gD"
      },
      "outputs": [],
      "source": [
        "inputDim = 1        # takes variable 'x' \n",
        "outputDim = 1       # takes variable 'y'\n",
        "learningRate = 0.01 \n",
        "epochs = 100\n",
        "\n",
        "model = LinearRegression(inputDim, outputDim)\n",
        "##### For GPU #######\n",
        "if torch.cuda.is_available():\n",
        "    model.cuda()"
      ]
    },
    {
      "cell_type": "code",
      "execution_count": null,
      "metadata": {
        "id": "Ln6AarOul5gD"
      },
      "outputs": [],
      "source": [
        "criterion = torch.nn.MSELoss() \n",
        "optimizer = torch.optim.SGD(model.parameters(), lr=learningRate)"
      ]
    },
    {
      "cell_type": "code",
      "execution_count": null,
      "metadata": {
        "colab": {
          "base_uri": "https://localhost:8080/"
        },
        "id": "MdsVX6wjl5gD",
        "outputId": "4008e8ee-79dd-4120-ad8d-6ca48f74c875"
      },
      "outputs": [
        {
          "name": "stdout",
          "output_type": "stream",
          "text": [
            "tensor(204.0788, grad_fn=<MseLossBackward>)\n",
            "epoch 0, loss 204.07884216308594\n",
            "tensor(16.9175, grad_fn=<MseLossBackward>)\n",
            "epoch 1, loss 16.91753387451172\n",
            "tensor(1.6483, grad_fn=<MseLossBackward>)\n",
            "epoch 2, loss 1.6483410596847534\n",
            "tensor(0.3999, grad_fn=<MseLossBackward>)\n",
            "epoch 3, loss 0.3998833894729614\n",
            "tensor(0.2951, grad_fn=<MseLossBackward>)\n",
            "epoch 4, loss 0.29508668184280396\n",
            "tensor(0.2836, grad_fn=<MseLossBackward>)\n",
            "epoch 5, loss 0.2836077809333801\n",
            "tensor(0.2798, grad_fn=<MseLossBackward>)\n",
            "epoch 6, loss 0.2797733545303345\n",
            "tensor(0.2766, grad_fn=<MseLossBackward>)\n",
            "epoch 7, loss 0.27659451961517334\n",
            "tensor(0.2735, grad_fn=<MseLossBackward>)\n",
            "epoch 8, loss 0.27350136637687683\n",
            "tensor(0.2704, grad_fn=<MseLossBackward>)\n",
            "epoch 9, loss 0.27044668793678284\n",
            "tensor(0.2674, grad_fn=<MseLossBackward>)\n",
            "epoch 10, loss 0.26742690801620483\n",
            "tensor(0.2644, grad_fn=<MseLossBackward>)\n",
            "epoch 11, loss 0.2644406259059906\n",
            "tensor(0.2615, grad_fn=<MseLossBackward>)\n",
            "epoch 12, loss 0.2614874839782715\n",
            "tensor(0.2586, grad_fn=<MseLossBackward>)\n",
            "epoch 13, loss 0.2585675120353699\n",
            "tensor(0.2557, grad_fn=<MseLossBackward>)\n",
            "epoch 14, loss 0.2556803524494171\n",
            "tensor(0.2528, grad_fn=<MseLossBackward>)\n",
            "epoch 15, loss 0.2528248429298401\n",
            "tensor(0.2500, grad_fn=<MseLossBackward>)\n",
            "epoch 16, loss 0.2500019669532776\n",
            "tensor(0.2472, grad_fn=<MseLossBackward>)\n",
            "epoch 17, loss 0.24720992147922516\n",
            "tensor(0.2444, grad_fn=<MseLossBackward>)\n",
            "epoch 18, loss 0.24444963037967682\n",
            "tensor(0.2417, grad_fn=<MseLossBackward>)\n",
            "epoch 19, loss 0.24171987175941467\n",
            "tensor(0.2390, grad_fn=<MseLossBackward>)\n",
            "epoch 20, loss 0.2390207201242447\n",
            "tensor(0.2364, grad_fn=<MseLossBackward>)\n",
            "epoch 21, loss 0.2363511621952057\n",
            "tensor(0.2337, grad_fn=<MseLossBackward>)\n",
            "epoch 22, loss 0.23371218144893646\n",
            "tensor(0.2311, grad_fn=<MseLossBackward>)\n",
            "epoch 23, loss 0.23110221326351166\n",
            "tensor(0.2285, grad_fn=<MseLossBackward>)\n",
            "epoch 24, loss 0.22852164506912231\n",
            "tensor(0.2260, grad_fn=<MseLossBackward>)\n",
            "epoch 25, loss 0.22596974670886993\n",
            "tensor(0.2234, grad_fn=<MseLossBackward>)\n",
            "epoch 26, loss 0.22344623506069183\n",
            "tensor(0.2210, grad_fn=<MseLossBackward>)\n",
            "epoch 27, loss 0.2209511250257492\n",
            "tensor(0.2185, grad_fn=<MseLossBackward>)\n",
            "epoch 28, loss 0.21848374605178833\n",
            "tensor(0.2160, grad_fn=<MseLossBackward>)\n",
            "epoch 29, loss 0.2160438895225525\n",
            "tensor(0.2136, grad_fn=<MseLossBackward>)\n",
            "epoch 30, loss 0.21363162994384766\n",
            "tensor(0.2112, grad_fn=<MseLossBackward>)\n",
            "epoch 31, loss 0.21124586462974548\n",
            "tensor(0.2089, grad_fn=<MseLossBackward>)\n",
            "epoch 32, loss 0.2088869959115982\n",
            "tensor(0.2066, grad_fn=<MseLossBackward>)\n",
            "epoch 33, loss 0.20655439794063568\n",
            "tensor(0.2042, grad_fn=<MseLossBackward>)\n",
            "epoch 34, loss 0.20424771308898926\n",
            "tensor(0.2020, grad_fn=<MseLossBackward>)\n",
            "epoch 35, loss 0.2019670009613037\n",
            "tensor(0.1997, grad_fn=<MseLossBackward>)\n",
            "epoch 36, loss 0.19971169531345367\n",
            "tensor(0.1975, grad_fn=<MseLossBackward>)\n",
            "epoch 37, loss 0.1974814534187317\n",
            "tensor(0.1953, grad_fn=<MseLossBackward>)\n",
            "epoch 38, loss 0.19527634978294373\n",
            "tensor(0.1931, grad_fn=<MseLossBackward>)\n",
            "epoch 39, loss 0.19309557974338531\n",
            "tensor(0.1909, grad_fn=<MseLossBackward>)\n",
            "epoch 40, loss 0.19093920290470123\n",
            "tensor(0.1888, grad_fn=<MseLossBackward>)\n",
            "epoch 41, loss 0.1888071894645691\n",
            "tensor(0.1867, grad_fn=<MseLossBackward>)\n",
            "epoch 42, loss 0.1866988092660904\n",
            "tensor(0.1846, grad_fn=<MseLossBackward>)\n",
            "epoch 43, loss 0.1846139281988144\n",
            "tensor(0.1826, grad_fn=<MseLossBackward>)\n",
            "epoch 44, loss 0.1825522482395172\n",
            "tensor(0.1805, grad_fn=<MseLossBackward>)\n",
            "epoch 45, loss 0.18051399290561676\n",
            "tensor(0.1785, grad_fn=<MseLossBackward>)\n",
            "epoch 46, loss 0.17849819362163544\n",
            "tensor(0.1765, grad_fn=<MseLossBackward>)\n",
            "epoch 47, loss 0.17650485038757324\n",
            "tensor(0.1745, grad_fn=<MseLossBackward>)\n",
            "epoch 48, loss 0.17453373968601227\n",
            "tensor(0.1726, grad_fn=<MseLossBackward>)\n",
            "epoch 49, loss 0.1725849062204361\n",
            "tensor(0.1707, grad_fn=<MseLossBackward>)\n",
            "epoch 50, loss 0.17065750062465668\n",
            "tensor(0.1688, grad_fn=<MseLossBackward>)\n",
            "epoch 51, loss 0.16875195503234863\n",
            "tensor(0.1669, grad_fn=<MseLossBackward>)\n",
            "epoch 52, loss 0.16686755418777466\n",
            "tensor(0.1650, grad_fn=<MseLossBackward>)\n",
            "epoch 53, loss 0.1650041788816452\n",
            "tensor(0.1632, grad_fn=<MseLossBackward>)\n",
            "epoch 54, loss 0.16316165030002594\n",
            "tensor(0.1613, grad_fn=<MseLossBackward>)\n",
            "epoch 55, loss 0.16133952140808105\n",
            "tensor(0.1595, grad_fn=<MseLossBackward>)\n",
            "epoch 56, loss 0.15953800082206726\n",
            "tensor(0.1578, grad_fn=<MseLossBackward>)\n",
            "epoch 57, loss 0.15775635838508606\n",
            "tensor(0.1560, grad_fn=<MseLossBackward>)\n",
            "epoch 58, loss 0.1559947431087494\n",
            "tensor(0.1543, grad_fn=<MseLossBackward>)\n",
            "epoch 59, loss 0.15425272285938263\n",
            "tensor(0.1525, grad_fn=<MseLossBackward>)\n",
            "epoch 60, loss 0.15253031253814697\n",
            "tensor(0.1508, grad_fn=<MseLossBackward>)\n",
            "epoch 61, loss 0.1508268415927887\n",
            "tensor(0.1491, grad_fn=<MseLossBackward>)\n",
            "epoch 62, loss 0.14914272725582123\n",
            "tensor(0.1475, grad_fn=<MseLossBackward>)\n",
            "epoch 63, loss 0.1474771648645401\n",
            "tensor(0.1458, grad_fn=<MseLossBackward>)\n",
            "epoch 64, loss 0.14583037793636322\n",
            "tensor(0.1442, grad_fn=<MseLossBackward>)\n",
            "epoch 65, loss 0.14420193433761597\n",
            "tensor(0.1426, grad_fn=<MseLossBackward>)\n",
            "epoch 66, loss 0.14259158074855804\n",
            "tensor(0.1410, grad_fn=<MseLossBackward>)\n",
            "epoch 67, loss 0.14099940657615662\n",
            "tensor(0.1394, grad_fn=<MseLossBackward>)\n",
            "epoch 68, loss 0.13942483067512512\n",
            "tensor(0.1379, grad_fn=<MseLossBackward>)\n",
            "epoch 69, loss 0.1378677487373352\n",
            "tensor(0.1363, grad_fn=<MseLossBackward>)\n",
            "epoch 70, loss 0.13632823526859283\n",
            "tensor(0.1348, grad_fn=<MseLossBackward>)\n",
            "epoch 71, loss 0.13480593264102936\n",
            "tensor(0.1333, grad_fn=<MseLossBackward>)\n",
            "epoch 72, loss 0.1333005279302597\n",
            "tensor(0.1318, grad_fn=<MseLossBackward>)\n",
            "epoch 73, loss 0.13181208074092865\n",
            "tensor(0.1303, grad_fn=<MseLossBackward>)\n",
            "epoch 74, loss 0.13034020364284515\n",
            "tensor(0.1289, grad_fn=<MseLossBackward>)\n",
            "epoch 75, loss 0.12888452410697937\n",
            "tensor(0.1274, grad_fn=<MseLossBackward>)\n",
            "epoch 76, loss 0.12744539976119995\n",
            "tensor(0.1260, grad_fn=<MseLossBackward>)\n",
            "epoch 77, loss 0.1260223239660263\n",
            "tensor(0.1246, grad_fn=<MseLossBackward>)\n",
            "epoch 78, loss 0.12461508065462112\n",
            "tensor(0.1232, grad_fn=<MseLossBackward>)\n",
            "epoch 79, loss 0.12322349101305008\n",
            "tensor(0.1218, grad_fn=<MseLossBackward>)\n",
            "epoch 80, loss 0.12184738367795944\n",
            "tensor(0.1205, grad_fn=<MseLossBackward>)\n",
            "epoch 81, loss 0.12048676609992981\n",
            "tensor(0.1191, grad_fn=<MseLossBackward>)\n",
            "epoch 82, loss 0.11914137005805969\n",
            "tensor(0.1178, grad_fn=<MseLossBackward>)\n",
            "epoch 83, loss 0.11781087517738342\n",
            "tensor(0.1165, grad_fn=<MseLossBackward>)\n",
            "epoch 84, loss 0.11649525165557861\n",
            "tensor(0.1152, grad_fn=<MseLossBackward>)\n",
            "epoch 85, loss 0.11519456654787064\n",
            "tensor(0.1139, grad_fn=<MseLossBackward>)\n",
            "epoch 86, loss 0.11390800774097443\n",
            "tensor(0.1126, grad_fn=<MseLossBackward>)\n",
            "epoch 87, loss 0.11263613402843475\n",
            "tensor(0.1114, grad_fn=<MseLossBackward>)\n",
            "epoch 88, loss 0.11137836426496506\n",
            "tensor(0.1101, grad_fn=<MseLossBackward>)\n",
            "epoch 89, loss 0.11013448238372803\n",
            "tensor(0.1089, grad_fn=<MseLossBackward>)\n",
            "epoch 90, loss 0.1089046522974968\n",
            "tensor(0.1077, grad_fn=<MseLossBackward>)\n",
            "epoch 91, loss 0.1076885461807251\n",
            "tensor(0.1065, grad_fn=<MseLossBackward>)\n",
            "epoch 92, loss 0.10648608207702637\n",
            "tensor(0.1053, grad_fn=<MseLossBackward>)\n",
            "epoch 93, loss 0.10529697686433792\n",
            "tensor(0.1041, grad_fn=<MseLossBackward>)\n",
            "epoch 94, loss 0.10412105917930603\n",
            "tensor(0.1030, grad_fn=<MseLossBackward>)\n",
            "epoch 95, loss 0.10295839607715607\n",
            "tensor(0.1018, grad_fn=<MseLossBackward>)\n",
            "epoch 96, loss 0.10180863738059998\n",
            "tensor(0.1007, grad_fn=<MseLossBackward>)\n",
            "epoch 97, loss 0.10067181289196014\n",
            "tensor(0.0995, grad_fn=<MseLossBackward>)\n",
            "epoch 98, loss 0.09954769909381866\n",
            "tensor(0.0984, grad_fn=<MseLossBackward>)\n",
            "epoch 99, loss 0.09843595325946808\n"
          ]
        }
      ],
      "source": [
        "for epoch in range(epochs):\n",
        "    # Converting inputs and labels to Variable\n",
        "    if torch.cuda.is_available():\n",
        "        inputs = Variable(torch.from_numpy(x_train).cuda())\n",
        "        labels = Variable(torch.from_numpy(y_train).cuda())\n",
        "    else:\n",
        "        inputs = Variable(torch.from_numpy(x_train))\n",
        "        labels = Variable(torch.from_numpy(y_train))\n",
        "\n",
        "    # Clear gradient buffers because we don't want any gradient from previous epoch to carry forward, dont want to cummulate gradients\n",
        "    optimizer.zero_grad()\n",
        "\n",
        "    # get output from the model, given the inputs\n",
        "    outputs = model(inputs)\n",
        "\n",
        "    # get loss for the predicted output\n",
        "    loss = criterion(outputs, labels)\n",
        "    print(loss)\n",
        "    # get gradients w.r.t to parameters\n",
        "    loss.backward()\n",
        "\n",
        "    # update parameters\n",
        "    optimizer.step()\n",
        "\n",
        "    print('epoch {}, loss {}'.format(epoch, loss.item()))"
      ]
    },
    {
      "cell_type": "code",
      "execution_count": null,
      "metadata": {
        "colab": {
          "base_uri": "https://localhost:8080/"
        },
        "id": "pVP_zgSnl5gE",
        "outputId": "6e80fa45-ad4d-4814-ebf2-625acf0e66bd"
      },
      "outputs": [
        {
          "name": "stdout",
          "output_type": "stream",
          "text": [
            "[[ 0.41637066]\n",
            " [ 2.5004187 ]\n",
            " [ 4.584467  ]\n",
            " [ 6.6685147 ]\n",
            " [ 8.7525625 ]\n",
            " [10.836611  ]\n",
            " [12.920658  ]\n",
            " [15.004706  ]\n",
            " [17.088755  ]\n",
            " [19.172802  ]\n",
            " [21.256851  ]]\n"
          ]
        }
      ],
      "source": [
        "with torch.no_grad(): # we don't need gradients in the testing phase\n",
        "    if torch.cuda.is_available():\n",
        "        predicted = model(Variable(torch.from_numpy(x_train).cuda())).cpu().data.numpy()\n",
        "    else:\n",
        "        predicted = model(Variable(torch.from_numpy(x_train))).data.numpy()\n",
        "    print(predicted)\n"
      ]
    },
    {
      "cell_type": "code",
      "execution_count": null,
      "metadata": {
        "colab": {
          "base_uri": "https://localhost:8080/"
        },
        "id": "hFzE8SPl2XrD",
        "outputId": "a0a5b688-da0f-4dca-b570-f3897c5a3184"
      },
      "outputs": [
        {
          "data": {
            "text/plain": [
              "array([[ 1.],\n",
              "       [ 3.],\n",
              "       [ 5.],\n",
              "       [ 7.],\n",
              "       [ 9.],\n",
              "       [11.],\n",
              "       [13.],\n",
              "       [15.],\n",
              "       [17.],\n",
              "       [19.],\n",
              "       [21.]], dtype=float32)"
            ]
          },
          "execution_count": 21,
          "metadata": {
            "tags": []
          },
          "output_type": "execute_result"
        }
      ],
      "source": [
        "y_train"
      ]
    },
    {
      "cell_type": "code",
      "execution_count": null,
      "metadata": {
        "colab": {
          "base_uri": "https://localhost:8080/"
        },
        "id": "0VyqD7_Gl5gE",
        "outputId": "57cabeba-9f3c-41e0-9afa-e30a7218513b"
      },
      "outputs": [
        {
          "name": "stdout",
          "output_type": "stream",
          "text": [
            "None tensor([[2.0840]])\n",
            "None tensor([0.4164])\n"
          ]
        }
      ],
      "source": [
        "for p in model.parameters():\n",
        "    if p.requires_grad:\n",
        "         print(p.name, p.data)"
      ]
    },
    {
      "cell_type": "markdown",
      "metadata": {
        "id": "ZMDg_PfKl5gE"
      },
      "source": [
        "## Logistic Regression"
      ]
    },
    {
      "cell_type": "code",
      "execution_count": null,
      "metadata": {
        "colab": {
          "base_uri": "https://localhost:8080/"
        },
        "id": "Ja93YiFXl5gF",
        "outputId": "5b097f9b-20ec-4976-f8e0-74bea0a4dfb8"
      },
      "outputs": [
        {
          "name": "stdout",
          "output_type": "stream",
          "text": [
            "1.9.0+cu102\n"
          ]
        }
      ],
      "source": [
        "import torch\n",
        "import torchvision\n",
        "import torch.nn as nn\n",
        "from torchvision import datasets, models, transforms\n",
        "import os\n",
        "import numpy as np\n",
        "import matplotlib.pyplot as plt\n",
        "\n",
        "%matplotlib inline\n",
        "\n",
        "## print out the pytorch version used (1.31 at the time of this tutorial)\n",
        "print(torch.__version__)"
      ]
    },
    {
      "cell_type": "code",
      "execution_count": null,
      "metadata": {
        "colab": {
          "base_uri": "https://localhost:8080/"
        },
        "id": "bMsHz4lRl5gF",
        "outputId": "195a42a3-12b9-4d07-8d9f-f2c1fbfd90ea"
      },
      "outputs": [
        {
          "name": "stdout",
          "output_type": "stream",
          "text": [
            "cpu\n"
          ]
        }
      ],
      "source": [
        "## configuration to detect cuda or cpu\n",
        "device = torch.device(\"cuda:0\" if torch.cuda.is_available() else \"cpu\")\n",
        "print (device)"
      ]
    },
    {
      "cell_type": "code",
      "execution_count": null,
      "metadata": {
        "id": "fAB05_tBl5gF"
      },
      "outputs": [],
      "source": [
        "DATA_PATH = \"https://download.pytorch.org/tutorial/hymenoptera_data.zip\""
      ]
    },
    {
      "cell_type": "code",
      "execution_count": null,
      "metadata": {
        "id": "t2Y5eZWal5gG"
      },
      "outputs": [],
      "source": [
        "import urllib\n",
        "import os\n",
        "import shutil\n",
        "from zipfile import ZipFile\n",
        "\n",
        "\n",
        "urllib.request .urlretrieve(DATA_PATH, \"hymenoptera_data.zip\")\n",
        "\n",
        "\n",
        "\n",
        "with ZipFile(\"hymenoptera_data.zip\", 'r') as zipObj:\n",
        "   # Extract all the contents of zip file in current directory\n",
        "   zipObj.extractall()\n",
        "\n",
        "os.rename(\"hymenoptera_data\", \"data\")\n"
      ]
    },
    {
      "cell_type": "code",
      "execution_count": null,
      "metadata": {
        "id": "pJH8jaQil5gG"
      },
      "outputs": [],
      "source": [
        "## configure root folder on your gdrive\n",
        "data_dir = \"./data\"\n",
        "\n",
        "## custom transformer to flatten the image tensors\n",
        "class ReshapeTransform:\n",
        "    def __init__(self, new_size):\n",
        "        self.new_size = new_size\n",
        "\n",
        "    def __call__(self, img):\n",
        "        result = torch.reshape(img, self.new_size)\n",
        "        return result\n",
        "\n",
        "## transformations used to standardize and normalize the datasets\n",
        "data_transforms = {\n",
        "    'train': transforms.Compose([\n",
        "        transforms.Resize(224),\n",
        "        transforms.CenterCrop(224),\n",
        "        transforms.ToTensor(),\n",
        "        ReshapeTransform((-1,)) # flattens the data\n",
        "    ]),\n",
        "    'val': transforms.Compose([\n",
        "        transforms.Resize(224),\n",
        "        transforms.CenterCrop(224),\n",
        "        transforms.ToTensor(),\n",
        "        ReshapeTransform((-1,)) # flattens the data\n",
        "    ]),\n",
        "}\n",
        "\n",
        "## load the correspoding folders\n",
        "image_datasets = {x: datasets.ImageFolder(os.path.join(data_dir, x),\n",
        "                                          data_transforms[x])\n",
        "                  for x in ['train', 'val']}\n",
        "\n",
        "## load the entire dataset; we are not using minibatches here\n",
        "train_dataset = torch.utils.data.DataLoader(image_datasets['train'],\n",
        "                                            batch_size=len(image_datasets['train']),\n",
        "                                            shuffle=True)\n",
        "test_dataset = torch.utils.data.DataLoader(image_datasets['val'],\n",
        "                                           batch_size=len(image_datasets['val']),\n",
        "                                           shuffle=True)"
      ]
    },
    {
      "cell_type": "code",
      "execution_count": null,
      "metadata": {
        "colab": {
          "base_uri": "https://localhost:8080/",
          "height": 322
        },
        "id": "55VriLYpl5gH",
        "outputId": "3552104b-9ad4-44c1-ca1f-81004095225b"
      },
      "outputs": [
        {
          "name": "stdout",
          "output_type": "stream",
          "text": [
            "Dimension of image: torch.Size([244, 150528]) \n",
            " Dimension of labels torch.Size([244])\n"
          ]
        },
        {
          "data": {
            "text/plain": [
              "<matplotlib.image.AxesImage at 0x7ff45c7f4950>"
            ]
          },
          "execution_count": 28,
          "metadata": {
            "tags": []
          },
          "output_type": "execute_result"
        },
        {
          "data": {
            "image/png": "[encoded data removed]",
            "text/plain": [
              "<Figure size 432x288 with 1 Axes>"
            ]
          },
          "metadata": {
            "needs_background": "light",
            "tags": []
          },
          "output_type": "display_data"
        }
      ],
      "source": [
        "## load the entire dataset\n",
        "x, y = next(iter(train_dataset))\n",
        "\n",
        "## print one example\n",
        "dim = x.shape[1]\n",
        "print(\"Dimension of image:\", x.shape, \"\\n\", \n",
        "      \"Dimension of labels\", y.shape)\n",
        "\n",
        "plt.imshow(x[160].reshape(1, 3, 224, 224).squeeze().T.numpy())"
      ]
    },
    {
      "cell_type": "code",
      "execution_count": null,
      "metadata": {
        "id": "HMThCUEjl5gH"
      },
      "outputs": [],
      "source": [
        "class LR(nn.Module):\n",
        "    def __init__(self, dim, lr=torch.scalar_tensor(0.01)):\n",
        "        super(LR, self).__init__()\n",
        "        # intialize parameters\n",
        "        self.w = torch.zeros(dim, 1, dtype=torch.float).to(device)\n",
        "        self.b = torch.scalar_tensor(0).to(device)\n",
        "        self.grads = {\"dw\": torch.zeros(dim, 1, dtype=torch.float).to(device),\n",
        "                      \"db\": torch.scalar_tensor(0).to(device)}\n",
        "        self.lr = lr.to(device)\n",
        "\n",
        "    def forward(self, x):\n",
        "        ## compute forward\n",
        "        z = torch.mm(self.w.T, x) + self.b\n",
        "        a = self.sigmoid(z)\n",
        "        return a\n",
        "\n",
        "    def sigmoid(self, z):\n",
        "        return 1/(1 + torch.exp(-z))\n",
        "\n",
        "    def backward(self, x, yhat, y):\n",
        "        ## compute backward\n",
        "        self.grads[\"dw\"] = (1/x.shape[1]) * torch.mm(x, (yhat - y).T)\n",
        "        self.grads[\"db\"] = (1/x.shape[1]) * torch.sum(yhat - y)\n",
        "    \n",
        "    def optimize(self):\n",
        "        ## optimization step\n",
        "        self.w = self.w - self.lr * self.grads[\"dw\"]\n",
        "        self.b = self.b - self.lr * self.grads[\"db\"]\n",
        "\n",
        "## utility functions\n",
        "def loss(yhat, y):\n",
        "    m = y.size()[1]\n",
        "    return -(1/m)* torch.sum(y*torch.log(yhat) + (1 - y)* torch.log(1-yhat))\n",
        "\n",
        "def predict(yhat, y):\n",
        "    y_prediction = torch.zeros(1, y.size()[1])\n",
        "    for i in range(yhat.size()[1]):\n",
        "        if yhat[0, i] <= 0.5:\n",
        "            y_prediction[0, i] = 0\n",
        "        else:\n",
        "            y_prediction[0, i] = 1\n",
        "    return 100 - torch.mean(torch.abs(y_prediction - y)) * 100"
      ]
    },
    {
      "cell_type": "code",
      "execution_count": null,
      "metadata": {
        "colab": {
          "base_uri": "https://localhost:8080/"
        },
        "id": "gfulqH7Vl5gI",
        "outputId": "c54e2d6b-5800-4f33-e96c-ccc3ab8fd973"
      },
      "outputs": [
        {
          "name": "stdout",
          "output_type": "stream",
          "text": [
            "Cost:  tensor(0.6931)\n",
            "Accuracy:  tensor(50.4098)\n"
          ]
        }
      ],
      "source": [
        "## model pretesting\n",
        "x, y = next(iter(train_dataset))\n",
        "\n",
        "## flatten/transform the data\n",
        "x_flatten = x.T\n",
        "y = y.unsqueeze(0) \n",
        "\n",
        "## num_px is the dimension of the images\n",
        "dim = x_flatten.shape[0]\n",
        "\n",
        "## model instance\n",
        "model = LR(dim)\n",
        "model.to(device)\n",
        "yhat = model.forward(x_flatten.to(device))\n",
        "yhat = yhat.data.cpu()\n",
        "\n",
        "## calculate loss\n",
        "cost = loss(yhat, y)\n",
        "prediction = predict(yhat, y)\n",
        "print(\"Cost: \", cost)\n",
        "print(\"Accuracy: \", prediction)\n",
        "\n",
        "## backpropagate\n",
        "model.backward(x_flatten.to(device), yhat.to(device), y.to(device))\n",
        "model.optimize()"
      ]
    },
    {
      "cell_type": "code",
      "execution_count": null,
      "metadata": {
        "colab": {
          "base_uri": "https://localhost:8080/"
        },
        "id": "yo_Cqg86l5gI",
        "outputId": "e88ffcf0-f6ea-4b38-e094-7f842e6a9af9"
      },
      "outputs": [
        {
          "name": "stdout",
          "output_type": "stream",
          "text": [
            "Cost after iteration 0: 0.6931472420692444 | Train Acc: 50.40983581542969 | Test Acc: 45.75163269042969\n",
            "Cost after iteration 10: 0.6691471338272095 | Train Acc: 64.3442611694336 | Test Acc: 54.24836730957031\n",
            "Cost after iteration 20: 0.6513182520866394 | Train Acc: 68.44261932373047 | Test Acc: 54.24836730957031\n",
            "Cost after iteration 30: 0.6367825269699097 | Train Acc: 68.03278350830078 | Test Acc: 54.24836730957031\n",
            "Cost after iteration 40: 0.6245337128639221 | Train Acc: 69.67213439941406 | Test Acc: 54.90196228027344\n",
            "Cost after iteration 50: 0.6139225363731384 | Train Acc: 70.90164184570312 | Test Acc: 56.20914840698242\n",
            "Cost after iteration 60: 0.6045236587524414 | Train Acc: 72.54098510742188 | Test Acc: 56.86274337768555\n",
            "Cost after iteration 70: 0.5960512161254883 | Train Acc: 74.18032836914062 | Test Acc: 57.51633834838867\n",
            "Cost after iteration 80: 0.5883085131645203 | Train Acc: 73.77049255371094 | Test Acc: 57.51633834838867\n",
            "Cost after iteration 90: 0.5811557769775391 | Train Acc: 74.59016418457031 | Test Acc: 58.1699333190918\n"
          ]
        }
      ],
      "source": [
        "## hyperparams\n",
        "costs = []\n",
        "dim = x_flatten.shape[0]\n",
        "learning_rate = torch.scalar_tensor(0.0001).to(device)\n",
        "num_iterations = 100\n",
        "lrmodel = LR(dim, learning_rate)\n",
        "lrmodel.to(device)\n",
        "\n",
        "## transform the data\n",
        "def transform_data(x, y):\n",
        "    x_flatten = x.T\n",
        "    y = y.unsqueeze(0) \n",
        "    return x_flatten, y \n",
        "\n",
        "## training the model\n",
        "for i in range(num_iterations):\n",
        "    x, y = next(iter(train_dataset))\n",
        "    test_x, test_y = next(iter(test_dataset))\n",
        "    x, y = transform_data(x, y)\n",
        "    test_x, test_y = transform_data(test_x, test_y)\n",
        "\n",
        "    # forward\n",
        "    yhat = lrmodel.forward(x.to(device))\n",
        "    cost = loss(yhat.data.cpu(), y)\n",
        "    train_pred = predict(yhat, y)\n",
        "        \n",
        "    # backward\n",
        "    lrmodel.backward(x.to(device), \n",
        "                    yhat.to(device), \n",
        "                    y.to(device))\n",
        "    lrmodel.optimize()\n",
        "    ## test\n",
        "    yhat_test = lrmodel.forward(test_x.to(device))\n",
        "    test_pred = predict(yhat_test, test_y)\n",
        "\n",
        "    if i % 10 == 0:\n",
        "        costs.append(cost)\n",
        "\n",
        "    if i % 10 == 0:\n",
        "        print(\"Cost after iteration {}: {} | Train Acc: {} | Test Acc: {}\".format(i, \n",
        "                                                                                    cost, \n",
        "                                                                                    train_pred,\n",
        "                                                                                    test_pred))\n"
      ]
    },
    {
      "cell_type": "code",
      "execution_count": null,
      "metadata": {
        "colab": {
          "base_uri": "https://localhost:8080/",
          "height": 265
        },
        "id": "zdGGiFdOl5gJ",
        "outputId": "5d02706d-23bb-4473-b1ce-8fe02aa2cb76"
      },
      "outputs": [
        {
          "data": {
            "image/png": "[encoded data removed]",
            "text/plain": [
              "<Figure size 432x288 with 1 Axes>"
            ]
          },
          "metadata": {
            "needs_background": "light",
            "tags": []
          },
          "output_type": "display_data"
        }
      ],
      "source": [
        "\n",
        "## the trend in the context of loss\n",
        "plt.plot(costs)\n",
        "plt.show()"
      ]
    },
    {
      "cell_type": "code",
      "execution_count": null,
      "metadata": {
        "id": "Sr1ouDZA46pA"
      },
      "outputs": [],
      "source": [
        ""
      ]
    }
  ],
  "metadata": {
    "colab": {
      "collapsed_sections": [],
      "name": "autograd_and_optimizer.ipynb",
      "provenance": []
    },
    "kernelspec": {
      "display_name": "Lablup FF 20.07 on Python 3.6 (CUDA 10.1)",
      "language": "python",
      "name": "python3"
    },
    "language_info": {
      "codemirror_mode": {
        "name": "ipython",
        "version": 3
      },
      "file_extension": ".py",
      "mimetype": "text/x-python",
      "name": "python",
      "nbconvert_exporter": "python",
      "pygments_lexer": "ipython3",
      "version": "3.6.9"
    }
  },
  "nbformat": 4,
  "nbformat_minor": 0
}