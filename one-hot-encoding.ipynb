{
  "nbformat": 4,
  "nbformat_minor": 0,
  "metadata": {
    "colab": {
      "name": "챗 봇 공부.ipynb",
      "provenance": [],
      "collapsed_sections": [],
      "authorship_tag": "ABX9TyPPzB2cmhlWR53hUzkub+yn",
      "include_colab_link": true
    },
    "kernelspec": {
      "name": "python3",
      "display_name": "Python 3"
    },
    "language_info": {
      "name": "python"
    }
  },
  "cells": [
    {
      "cell_type": "markdown",
      "metadata": {
        "id": "view-in-github",
        "colab_type": "text"
      },
      "source": [
        "<a href=\"https://colab.research.google.com/github/tjrudrnr2/Pytorch/blob/main/one-hot-encoding.ipynb\" target=\"_parent\"><img src=\"https://colab.research.google.com/assets/colab-badge.svg\" alt=\"Open In Colab\"/></a>"
      ]
    },
    {
      "cell_type": "code",
      "metadata": {
        "colab": {
          "base_uri": "https://localhost:8080/"
        },
        "id": "8cWHGPbwnvkR",
        "outputId": "f71c1d16-94d5-4539-9397-b083896ce544"
      },
      "source": [
        "from konlpy.tag import Okt\n",
        "okt=Okt()\n",
        "token=okt.morphs(\"나는 자연어 처리를 배운다\")\n",
        "print(token)\n",
        "\n",
        "word2index={}\n",
        "for voca in token:\n",
        "  if voca not in word2index.keys():\n",
        "    word2index[voca]=len(word2index)\n",
        "print(word2index)\n",
        "\n",
        "def one_hot_encoding(word, word2index):\n",
        "  one_hot_vector=[0]*(len(word2index))\n",
        "  index=word2index[word]\n",
        "  one_hot_vector[index]=1\n",
        "  return one_hot_vector\n",
        "\n",
        "one_hot_encoding(\"처리\", word2index)"
      ],
      "execution_count": 8,
      "outputs": [
        {
          "output_type": "stream",
          "name": "stdout",
          "text": [
            "['나', '는', '자연어', '처리', '를', '배운다']\n",
            "{'나': 0, '는': 1, '자연어': 2, '처리': 3, '를': 4, '배운다': 5}\n"
          ]
        },
        {
          "output_type": "execute_result",
          "data": {
            "text/plain": [
              "[0, 0, 0, 1, 0, 0]"
            ]
          },
          "metadata": {},
          "execution_count": 8
        }
      ]
    },
    {
      "cell_type": "markdown",
      "metadata": {
        "id": "502SIdOayqVa"
      },
      "source": [
        ""
      ]
    }
  ]
}