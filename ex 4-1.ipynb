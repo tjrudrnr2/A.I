{
  "nbformat": 4,
  "nbformat_minor": 0,
  "metadata": {
    "colab": {
      "name": "챗 봇 공부.ipynb",
      "provenance": [],
      "collapsed_sections": [],
      "authorship_tag": "ABX9TyOuMQb4bfG/mhfc0Jtq0tlV",
      "include_colab_link": true
    },
    "kernelspec": {
      "name": "python3",
      "display_name": "Python 3"
    },
    "language_info": {
      "name": "python"
    }
  },
  "cells": [
    {
      "cell_type": "markdown",
      "metadata": {
        "id": "view-in-github",
        "colab_type": "text"
      },
      "source": [
        "<a href=\"https://colab.research.google.com/github/tjrudrnr2/Pytorch/blob/main/ex%204-1.ipynb\" target=\"_parent\"><img src=\"https://colab.research.google.com/assets/colab-badge.svg\" alt=\"Open In Colab\"/></a>"
      ]
    },
    {
      "cell_type": "code",
      "metadata": {
        "colab": {
          "base_uri": "https://localhost:8080/"
        },
        "id": "8cWHGPbwnvkR",
        "outputId": "6f2f4275-4e26-4027-e235-2e2535279cda"
      },
      "source": [
        "from konlpy.tag import Komoran\n",
        "import numpy as np\n",
        "\n",
        "komoran = Komoran()\n",
        "text=\"오늘 날씨는 구름이 많아요.\"\n",
        "\n",
        "nouns = komoran.nouns(text)\n",
        "print(nouns)\n",
        "\n",
        "dics={}\n",
        "for word in nouns:\n",
        "  if word not in dics.keys():\n",
        "    dics[word] = len(dics)\n",
        "print(dics)\n",
        "\n",
        "nb_classes = len(dics)\n",
        "targets=list(dics.values())\n",
        "one_hot_targets = np.eye(nb_classes)[targets]\n",
        "print(one_hot_targets)"
      ],
      "execution_count": null,
      "outputs": [
        {
          "output_type": "stream",
          "name": "stdout",
          "text": [
            "['오늘', '날씨', '구름']\n",
            "{'오늘': 0, '날씨': 1, '구름': 2}\n",
            "[[1. 0. 0.]\n",
            " [0. 1. 0.]\n",
            " [0. 0. 1.]]\n"
          ]
        }
      ]
    },
    {
      "cell_type": "markdown",
      "metadata": {
        "id": "502SIdOayqVa"
      },
      "source": [
        ""
      ]
    }
  ]
}