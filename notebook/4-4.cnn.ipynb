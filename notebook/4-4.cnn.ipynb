{
  "nbformat": 4,
  "nbformat_minor": 0,
  "metadata": {
    "colab": {
      "name": "cnn.ipynb",
      "provenance": [],
      "collapsed_sections": []
    },
    "kernelspec": {
      "name": "python3",
      "display_name": "Python 3"
    },
    "accelerator": "GPU",
    "widgets": {
      "application/vnd.jupyter.widget-state+json": {
        "acbfdaed7e0b413aaf55c171d5812291": {
          "model_module": "@jupyter-widgets/controls",
          "model_name": "HBoxModel",
          "model_module_version": "1.5.0",
          "state": {
            "_view_name": "HBoxView",
            "_dom_classes": [],
            "_model_name": "HBoxModel",
            "_view_module": "@jupyter-widgets/controls",
            "_model_module_version": "1.5.0",
            "_view_count": null,
            "_view_module_version": "1.5.0",
            "box_style": "",
            "layout": "IPY_MODEL_2cfb2c4cb50e4cedbd4bec21d7ccbef5",
            "_model_module": "@jupyter-widgets/controls",
            "children": [
              "IPY_MODEL_8772b560740548848226329c2a3bde17",
              "IPY_MODEL_5b07bce2316246a1ac45e078a2d2f454",
              "IPY_MODEL_ae1627ce96f04d30bbda16a946c214d7"
            ]
          }
        },
        "2cfb2c4cb50e4cedbd4bec21d7ccbef5": {
          "model_module": "@jupyter-widgets/base",
          "model_name": "LayoutModel",
          "model_module_version": "1.2.0",
          "state": {
            "_view_name": "LayoutView",
            "grid_template_rows": null,
            "right": null,
            "justify_content": null,
            "_view_module": "@jupyter-widgets/base",
            "overflow": null,
            "_model_module_version": "1.2.0",
            "_view_count": null,
            "flex_flow": null,
            "width": null,
            "min_width": null,
            "border": null,
            "align_items": null,
            "bottom": null,
            "_model_module": "@jupyter-widgets/base",
            "top": null,
            "grid_column": null,
            "overflow_y": null,
            "overflow_x": null,
            "grid_auto_flow": null,
            "grid_area": null,
            "grid_template_columns": null,
            "flex": null,
            "_model_name": "LayoutModel",
            "justify_items": null,
            "grid_row": null,
            "max_height": null,
            "align_content": null,
            "visibility": null,
            "align_self": null,
            "height": null,
            "min_height": null,
            "padding": null,
            "grid_auto_rows": null,
            "grid_gap": null,
            "max_width": null,
            "order": null,
            "_view_module_version": "1.2.0",
            "grid_template_areas": null,
            "object_position": null,
            "object_fit": null,
            "grid_auto_columns": null,
            "margin": null,
            "display": null,
            "left": null
          }
        },
        "8772b560740548848226329c2a3bde17": {
          "model_module": "@jupyter-widgets/controls",
          "model_name": "HTMLModel",
          "model_module_version": "1.5.0",
          "state": {
            "_view_name": "HTMLView",
            "style": "IPY_MODEL_ace2694d612040f49dbcaf41650d7301",
            "_dom_classes": [],
            "description": "",
            "_model_name": "HTMLModel",
            "placeholder": "​",
            "_view_module": "@jupyter-widgets/controls",
            "_model_module_version": "1.5.0",
            "value": "",
            "_view_count": null,
            "_view_module_version": "1.5.0",
            "description_tooltip": null,
            "_model_module": "@jupyter-widgets/controls",
            "layout": "IPY_MODEL_3340173b62d14ae5af5a473fffeba1bc"
          }
        },
        "5b07bce2316246a1ac45e078a2d2f454": {
          "model_module": "@jupyter-widgets/controls",
          "model_name": "FloatProgressModel",
          "model_module_version": "1.5.0",
          "state": {
            "_view_name": "ProgressView",
            "style": "IPY_MODEL_1d93389cd9764790b16751cc3ed2415b",
            "_dom_classes": [],
            "description": "",
            "_model_name": "FloatProgressModel",
            "bar_style": "success",
            "max": 9912422,
            "_view_module": "@jupyter-widgets/controls",
            "_model_module_version": "1.5.0",
            "value": 9912422,
            "_view_count": null,
            "_view_module_version": "1.5.0",
            "orientation": "horizontal",
            "min": 0,
            "description_tooltip": null,
            "_model_module": "@jupyter-widgets/controls",
            "layout": "IPY_MODEL_e7abed72c6434c358f3af16cfa36a282"
          }
        },
        "ae1627ce96f04d30bbda16a946c214d7": {
          "model_module": "@jupyter-widgets/controls",
          "model_name": "HTMLModel",
          "model_module_version": "1.5.0",
          "state": {
            "_view_name": "HTMLView",
            "style": "IPY_MODEL_19ce1761e035421d82a9191fb1292822",
            "_dom_classes": [],
            "description": "",
            "_model_name": "HTMLModel",
            "placeholder": "​",
            "_view_module": "@jupyter-widgets/controls",
            "_model_module_version": "1.5.0",
            "value": " 9913344/? [00:00&lt;00:00, 13666046.99it/s]",
            "_view_count": null,
            "_view_module_version": "1.5.0",
            "description_tooltip": null,
            "_model_module": "@jupyter-widgets/controls",
            "layout": "IPY_MODEL_d4e6f9d37490486ead75d49d2b21c911"
          }
        },
        "ace2694d612040f49dbcaf41650d7301": {
          "model_module": "@jupyter-widgets/controls",
          "model_name": "DescriptionStyleModel",
          "model_module_version": "1.5.0",
          "state": {
            "_view_name": "StyleView",
            "_model_name": "DescriptionStyleModel",
            "description_width": "",
            "_view_module": "@jupyter-widgets/base",
            "_model_module_version": "1.5.0",
            "_view_count": null,
            "_view_module_version": "1.2.0",
            "_model_module": "@jupyter-widgets/controls"
          }
        },
        "3340173b62d14ae5af5a473fffeba1bc": {
          "model_module": "@jupyter-widgets/base",
          "model_name": "LayoutModel",
          "model_module_version": "1.2.0",
          "state": {
            "_view_name": "LayoutView",
            "grid_template_rows": null,
            "right": null,
            "justify_content": null,
            "_view_module": "@jupyter-widgets/base",
            "overflow": null,
            "_model_module_version": "1.2.0",
            "_view_count": null,
            "flex_flow": null,
            "width": null,
            "min_width": null,
            "border": null,
            "align_items": null,
            "bottom": null,
            "_model_module": "@jupyter-widgets/base",
            "top": null,
            "grid_column": null,
            "overflow_y": null,
            "overflow_x": null,
            "grid_auto_flow": null,
            "grid_area": null,
            "grid_template_columns": null,
            "flex": null,
            "_model_name": "LayoutModel",
            "justify_items": null,
            "grid_row": null,
            "max_height": null,
            "align_content": null,
            "visibility": null,
            "align_self": null,
            "height": null,
            "min_height": null,
            "padding": null,
            "grid_auto_rows": null,
            "grid_gap": null,
            "max_width": null,
            "order": null,
            "_view_module_version": "1.2.0",
            "grid_template_areas": null,
            "object_position": null,
            "object_fit": null,
            "grid_auto_columns": null,
            "margin": null,
            "display": null,
            "left": null
          }
        },
        "1d93389cd9764790b16751cc3ed2415b": {
          "model_module": "@jupyter-widgets/controls",
          "model_name": "ProgressStyleModel",
          "model_module_version": "1.5.0",
          "state": {
            "_view_name": "StyleView",
            "_model_name": "ProgressStyleModel",
            "description_width": "",
            "_view_module": "@jupyter-widgets/base",
            "_model_module_version": "1.5.0",
            "_view_count": null,
            "_view_module_version": "1.2.0",
            "bar_color": null,
            "_model_module": "@jupyter-widgets/controls"
          }
        },
        "e7abed72c6434c358f3af16cfa36a282": {
          "model_module": "@jupyter-widgets/base",
          "model_name": "LayoutModel",
          "model_module_version": "1.2.0",
          "state": {
            "_view_name": "LayoutView",
            "grid_template_rows": null,
            "right": null,
            "justify_content": null,
            "_view_module": "@jupyter-widgets/base",
            "overflow": null,
            "_model_module_version": "1.2.0",
            "_view_count": null,
            "flex_flow": null,
            "width": null,
            "min_width": null,
            "border": null,
            "align_items": null,
            "bottom": null,
            "_model_module": "@jupyter-widgets/base",
            "top": null,
            "grid_column": null,
            "overflow_y": null,
            "overflow_x": null,
            "grid_auto_flow": null,
            "grid_area": null,
            "grid_template_columns": null,
            "flex": null,
            "_model_name": "LayoutModel",
            "justify_items": null,
            "grid_row": null,
            "max_height": null,
            "align_content": null,
            "visibility": null,
            "align_self": null,
            "height": null,
            "min_height": null,
            "padding": null,
            "grid_auto_rows": null,
            "grid_gap": null,
            "max_width": null,
            "order": null,
            "_view_module_version": "1.2.0",
            "grid_template_areas": null,
            "object_position": null,
            "object_fit": null,
            "grid_auto_columns": null,
            "margin": null,
            "display": null,
            "left": null
          }
        },
        "19ce1761e035421d82a9191fb1292822": {
          "model_module": "@jupyter-widgets/controls",
          "model_name": "DescriptionStyleModel",
          "model_module_version": "1.5.0",
          "state": {
            "_view_name": "StyleView",
            "_model_name": "DescriptionStyleModel",
            "description_width": "",
            "_view_module": "@jupyter-widgets/base",
            "_model_module_version": "1.5.0",
            "_view_count": null,
            "_view_module_version": "1.2.0",
            "_model_module": "@jupyter-widgets/controls"
          }
        },
        "d4e6f9d37490486ead75d49d2b21c911": {
          "model_module": "@jupyter-widgets/base",
          "model_name": "LayoutModel",
          "model_module_version": "1.2.0",
          "state": {
            "_view_name": "LayoutView",
            "grid_template_rows": null,
            "right": null,
            "justify_content": null,
            "_view_module": "@jupyter-widgets/base",
            "overflow": null,
            "_model_module_version": "1.2.0",
            "_view_count": null,
            "flex_flow": null,
            "width": null,
            "min_width": null,
            "border": null,
            "align_items": null,
            "bottom": null,
            "_model_module": "@jupyter-widgets/base",
            "top": null,
            "grid_column": null,
            "overflow_y": null,
            "overflow_x": null,
            "grid_auto_flow": null,
            "grid_area": null,
            "grid_template_columns": null,
            "flex": null,
            "_model_name": "LayoutModel",
            "justify_items": null,
            "grid_row": null,
            "max_height": null,
            "align_content": null,
            "visibility": null,
            "align_self": null,
            "height": null,
            "min_height": null,
            "padding": null,
            "grid_auto_rows": null,
            "grid_gap": null,
            "max_width": null,
            "order": null,
            "_view_module_version": "1.2.0",
            "grid_template_areas": null,
            "object_position": null,
            "object_fit": null,
            "grid_auto_columns": null,
            "margin": null,
            "display": null,
            "left": null
          }
        },
        "d699fd8d551a44ddb5c2414f51b2e318": {
          "model_module": "@jupyter-widgets/controls",
          "model_name": "HBoxModel",
          "model_module_version": "1.5.0",
          "state": {
            "_view_name": "HBoxView",
            "_dom_classes": [],
            "_model_name": "HBoxModel",
            "_view_module": "@jupyter-widgets/controls",
            "_model_module_version": "1.5.0",
            "_view_count": null,
            "_view_module_version": "1.5.0",
            "box_style": "",
            "layout": "IPY_MODEL_8e8a045ae84e4dcdb831f9dcec51f956",
            "_model_module": "@jupyter-widgets/controls",
            "children": [
              "IPY_MODEL_c0a69c53befd476b93cb60f3e85f9868",
              "IPY_MODEL_e88f52df2fc34de787a85db615de512a",
              "IPY_MODEL_7cc9e92213884e6aa381c3f588cf01d2"
            ]
          }
        },
        "8e8a045ae84e4dcdb831f9dcec51f956": {
          "model_module": "@jupyter-widgets/base",
          "model_name": "LayoutModel",
          "model_module_version": "1.2.0",
          "state": {
            "_view_name": "LayoutView",
            "grid_template_rows": null,
            "right": null,
            "justify_content": null,
            "_view_module": "@jupyter-widgets/base",
            "overflow": null,
            "_model_module_version": "1.2.0",
            "_view_count": null,
            "flex_flow": null,
            "width": null,
            "min_width": null,
            "border": null,
            "align_items": null,
            "bottom": null,
            "_model_module": "@jupyter-widgets/base",
            "top": null,
            "grid_column": null,
            "overflow_y": null,
            "overflow_x": null,
            "grid_auto_flow": null,
            "grid_area": null,
            "grid_template_columns": null,
            "flex": null,
            "_model_name": "LayoutModel",
            "justify_items": null,
            "grid_row": null,
            "max_height": null,
            "align_content": null,
            "visibility": null,
            "align_self": null,
            "height": null,
            "min_height": null,
            "padding": null,
            "grid_auto_rows": null,
            "grid_gap": null,
            "max_width": null,
            "order": null,
            "_view_module_version": "1.2.0",
            "grid_template_areas": null,
            "object_position": null,
            "object_fit": null,
            "grid_auto_columns": null,
            "margin": null,
            "display": null,
            "left": null
          }
        },
        "c0a69c53befd476b93cb60f3e85f9868": {
          "model_module": "@jupyter-widgets/controls",
          "model_name": "HTMLModel",
          "model_module_version": "1.5.0",
          "state": {
            "_view_name": "HTMLView",
            "style": "IPY_MODEL_86a641ff23bd4f6288416380bb2c291b",
            "_dom_classes": [],
            "description": "",
            "_model_name": "HTMLModel",
            "placeholder": "​",
            "_view_module": "@jupyter-widgets/controls",
            "_model_module_version": "1.5.0",
            "value": "",
            "_view_count": null,
            "_view_module_version": "1.5.0",
            "description_tooltip": null,
            "_model_module": "@jupyter-widgets/controls",
            "layout": "IPY_MODEL_d9c1f9680c7a43659ca0084cb6bcc420"
          }
        },
        "e88f52df2fc34de787a85db615de512a": {
          "model_module": "@jupyter-widgets/controls",
          "model_name": "FloatProgressModel",
          "model_module_version": "1.5.0",
          "state": {
            "_view_name": "ProgressView",
            "style": "IPY_MODEL_a84c940c738f4b1a9c44de8e5ca3bb9c",
            "_dom_classes": [],
            "description": "",
            "_model_name": "FloatProgressModel",
            "bar_style": "success",
            "max": 28881,
            "_view_module": "@jupyter-widgets/controls",
            "_model_module_version": "1.5.0",
            "value": 28881,
            "_view_count": null,
            "_view_module_version": "1.5.0",
            "orientation": "horizontal",
            "min": 0,
            "description_tooltip": null,
            "_model_module": "@jupyter-widgets/controls",
            "layout": "IPY_MODEL_1531e17e1c0c433c9647edc750555666"
          }
        },
        "7cc9e92213884e6aa381c3f588cf01d2": {
          "model_module": "@jupyter-widgets/controls",
          "model_name": "HTMLModel",
          "model_module_version": "1.5.0",
          "state": {
            "_view_name": "HTMLView",
            "style": "IPY_MODEL_a360fd8f6a9a4c1594749510810b20f5",
            "_dom_classes": [],
            "description": "",
            "_model_name": "HTMLModel",
            "placeholder": "​",
            "_view_module": "@jupyter-widgets/controls",
            "_model_module_version": "1.5.0",
            "value": " 29696/? [00:00&lt;00:00, 796452.70it/s]",
            "_view_count": null,
            "_view_module_version": "1.5.0",
            "description_tooltip": null,
            "_model_module": "@jupyter-widgets/controls",
            "layout": "IPY_MODEL_80f08d64673247778dbeb6027f2bb477"
          }
        },
        "86a641ff23bd4f6288416380bb2c291b": {
          "model_module": "@jupyter-widgets/controls",
          "model_name": "DescriptionStyleModel",
          "model_module_version": "1.5.0",
          "state": {
            "_view_name": "StyleView",
            "_model_name": "DescriptionStyleModel",
            "description_width": "",
            "_view_module": "@jupyter-widgets/base",
            "_model_module_version": "1.5.0",
            "_view_count": null,
            "_view_module_version": "1.2.0",
            "_model_module": "@jupyter-widgets/controls"
          }
        },
        "d9c1f9680c7a43659ca0084cb6bcc420": {
          "model_module": "@jupyter-widgets/base",
          "model_name": "LayoutModel",
          "model_module_version": "1.2.0",
          "state": {
            "_view_name": "LayoutView",
            "grid_template_rows": null,
            "right": null,
            "justify_content": null,
            "_view_module": "@jupyter-widgets/base",
            "overflow": null,
            "_model_module_version": "1.2.0",
            "_view_count": null,
            "flex_flow": null,
            "width": null,
            "min_width": null,
            "border": null,
            "align_items": null,
            "bottom": null,
            "_model_module": "@jupyter-widgets/base",
            "top": null,
            "grid_column": null,
            "overflow_y": null,
            "overflow_x": null,
            "grid_auto_flow": null,
            "grid_area": null,
            "grid_template_columns": null,
            "flex": null,
            "_model_name": "LayoutModel",
            "justify_items": null,
            "grid_row": null,
            "max_height": null,
            "align_content": null,
            "visibility": null,
            "align_self": null,
            "height": null,
            "min_height": null,
            "padding": null,
            "grid_auto_rows": null,
            "grid_gap": null,
            "max_width": null,
            "order": null,
            "_view_module_version": "1.2.0",
            "grid_template_areas": null,
            "object_position": null,
            "object_fit": null,
            "grid_auto_columns": null,
            "margin": null,
            "display": null,
            "left": null
          }
        },
        "a84c940c738f4b1a9c44de8e5ca3bb9c": {
          "model_module": "@jupyter-widgets/controls",
          "model_name": "ProgressStyleModel",
          "model_module_version": "1.5.0",
          "state": {
            "_view_name": "StyleView",
            "_model_name": "ProgressStyleModel",
            "description_width": "",
            "_view_module": "@jupyter-widgets/base",
            "_model_module_version": "1.5.0",
            "_view_count": null,
            "_view_module_version": "1.2.0",
            "bar_color": null,
            "_model_module": "@jupyter-widgets/controls"
          }
        },
        "1531e17e1c0c433c9647edc750555666": {
          "model_module": "@jupyter-widgets/base",
          "model_name": "LayoutModel",
          "model_module_version": "1.2.0",
          "state": {
            "_view_name": "LayoutView",
            "grid_template_rows": null,
            "right": null,
            "justify_content": null,
            "_view_module": "@jupyter-widgets/base",
            "overflow": null,
            "_model_module_version": "1.2.0",
            "_view_count": null,
            "flex_flow": null,
            "width": null,
            "min_width": null,
            "border": null,
            "align_items": null,
            "bottom": null,
            "_model_module": "@jupyter-widgets/base",
            "top": null,
            "grid_column": null,
            "overflow_y": null,
            "overflow_x": null,
            "grid_auto_flow": null,
            "grid_area": null,
            "grid_template_columns": null,
            "flex": null,
            "_model_name": "LayoutModel",
            "justify_items": null,
            "grid_row": null,
            "max_height": null,
            "align_content": null,
            "visibility": null,
            "align_self": null,
            "height": null,
            "min_height": null,
            "padding": null,
            "grid_auto_rows": null,
            "grid_gap": null,
            "max_width": null,
            "order": null,
            "_view_module_version": "1.2.0",
            "grid_template_areas": null,
            "object_position": null,
            "object_fit": null,
            "grid_auto_columns": null,
            "margin": null,
            "display": null,
            "left": null
          }
        },
        "a360fd8f6a9a4c1594749510810b20f5": {
          "model_module": "@jupyter-widgets/controls",
          "model_name": "DescriptionStyleModel",
          "model_module_version": "1.5.0",
          "state": {
            "_view_name": "StyleView",
            "_model_name": "DescriptionStyleModel",
            "description_width": "",
            "_view_module": "@jupyter-widgets/base",
            "_model_module_version": "1.5.0",
            "_view_count": null,
            "_view_module_version": "1.2.0",
            "_model_module": "@jupyter-widgets/controls"
          }
        },
        "80f08d64673247778dbeb6027f2bb477": {
          "model_module": "@jupyter-widgets/base",
          "model_name": "LayoutModel",
          "model_module_version": "1.2.0",
          "state": {
            "_view_name": "LayoutView",
            "grid_template_rows": null,
            "right": null,
            "justify_content": null,
            "_view_module": "@jupyter-widgets/base",
            "overflow": null,
            "_model_module_version": "1.2.0",
            "_view_count": null,
            "flex_flow": null,
            "width": null,
            "min_width": null,
            "border": null,
            "align_items": null,
            "bottom": null,
            "_model_module": "@jupyter-widgets/base",
            "top": null,
            "grid_column": null,
            "overflow_y": null,
            "overflow_x": null,
            "grid_auto_flow": null,
            "grid_area": null,
            "grid_template_columns": null,
            "flex": null,
            "_model_name": "LayoutModel",
            "justify_items": null,
            "grid_row": null,
            "max_height": null,
            "align_content": null,
            "visibility": null,
            "align_self": null,
            "height": null,
            "min_height": null,
            "padding": null,
            "grid_auto_rows": null,
            "grid_gap": null,
            "max_width": null,
            "order": null,
            "_view_module_version": "1.2.0",
            "grid_template_areas": null,
            "object_position": null,
            "object_fit": null,
            "grid_auto_columns": null,
            "margin": null,
            "display": null,
            "left": null
          }
        },
        "e45aac9ef3df4a9387039517d000e886": {
          "model_module": "@jupyter-widgets/controls",
          "model_name": "HBoxModel",
          "model_module_version": "1.5.0",
          "state": {
            "_view_name": "HBoxView",
            "_dom_classes": [],
            "_model_name": "HBoxModel",
            "_view_module": "@jupyter-widgets/controls",
            "_model_module_version": "1.5.0",
            "_view_count": null,
            "_view_module_version": "1.5.0",
            "box_style": "",
            "layout": "IPY_MODEL_5c07fa88e6074c1bbf47802cbeb1cd97",
            "_model_module": "@jupyter-widgets/controls",
            "children": [
              "IPY_MODEL_86ca620f81a84e41bc2bcdd2459ec577",
              "IPY_MODEL_a7cca582ff4949beb177135a4ccf5134",
              "IPY_MODEL_b6ad6a859c8a4163b444d872cc9264c8"
            ]
          }
        },
        "5c07fa88e6074c1bbf47802cbeb1cd97": {
          "model_module": "@jupyter-widgets/base",
          "model_name": "LayoutModel",
          "model_module_version": "1.2.0",
          "state": {
            "_view_name": "LayoutView",
            "grid_template_rows": null,
            "right": null,
            "justify_content": null,
            "_view_module": "@jupyter-widgets/base",
            "overflow": null,
            "_model_module_version": "1.2.0",
            "_view_count": null,
            "flex_flow": null,
            "width": null,
            "min_width": null,
            "border": null,
            "align_items": null,
            "bottom": null,
            "_model_module": "@jupyter-widgets/base",
            "top": null,
            "grid_column": null,
            "overflow_y": null,
            "overflow_x": null,
            "grid_auto_flow": null,
            "grid_area": null,
            "grid_template_columns": null,
            "flex": null,
            "_model_name": "LayoutModel",
            "justify_items": null,
            "grid_row": null,
            "max_height": null,
            "align_content": null,
            "visibility": null,
            "align_self": null,
            "height": null,
            "min_height": null,
            "padding": null,
            "grid_auto_rows": null,
            "grid_gap": null,
            "max_width": null,
            "order": null,
            "_view_module_version": "1.2.0",
            "grid_template_areas": null,
            "object_position": null,
            "object_fit": null,
            "grid_auto_columns": null,
            "margin": null,
            "display": null,
            "left": null
          }
        },
        "86ca620f81a84e41bc2bcdd2459ec577": {
          "model_module": "@jupyter-widgets/controls",
          "model_name": "HTMLModel",
          "model_module_version": "1.5.0",
          "state": {
            "_view_name": "HTMLView",
            "style": "IPY_MODEL_a540ddef11f445c1a055a69078be0db5",
            "_dom_classes": [],
            "description": "",
            "_model_name": "HTMLModel",
            "placeholder": "​",
            "_view_module": "@jupyter-widgets/controls",
            "_model_module_version": "1.5.0",
            "value": "",
            "_view_count": null,
            "_view_module_version": "1.5.0",
            "description_tooltip": null,
            "_model_module": "@jupyter-widgets/controls",
            "layout": "IPY_MODEL_41c1089636ac41f4a31871295e55986d"
          }
        },
        "a7cca582ff4949beb177135a4ccf5134": {
          "model_module": "@jupyter-widgets/controls",
          "model_name": "FloatProgressModel",
          "model_module_version": "1.5.0",
          "state": {
            "_view_name": "ProgressView",
            "style": "IPY_MODEL_bf9c906fd35c445eaf72859fc9a57968",
            "_dom_classes": [],
            "description": "",
            "_model_name": "FloatProgressModel",
            "bar_style": "success",
            "max": 1648877,
            "_view_module": "@jupyter-widgets/controls",
            "_model_module_version": "1.5.0",
            "value": 1648877,
            "_view_count": null,
            "_view_module_version": "1.5.0",
            "orientation": "horizontal",
            "min": 0,
            "description_tooltip": null,
            "_model_module": "@jupyter-widgets/controls",
            "layout": "IPY_MODEL_c72692b56be84e84b282a8d9cc66ed08"
          }
        },
        "b6ad6a859c8a4163b444d872cc9264c8": {
          "model_module": "@jupyter-widgets/controls",
          "model_name": "HTMLModel",
          "model_module_version": "1.5.0",
          "state": {
            "_view_name": "HTMLView",
            "style": "IPY_MODEL_edcdafd308e94cd2a6242540db11b62a",
            "_dom_classes": [],
            "description": "",
            "_model_name": "HTMLModel",
            "placeholder": "​",
            "_view_module": "@jupyter-widgets/controls",
            "_model_module_version": "1.5.0",
            "value": " 1649664/? [00:00&lt;00:00, 17028169.44it/s]",
            "_view_count": null,
            "_view_module_version": "1.5.0",
            "description_tooltip": null,
            "_model_module": "@jupyter-widgets/controls",
            "layout": "IPY_MODEL_83907fd860c449238b34fcb1e876e6ae"
          }
        },
        "a540ddef11f445c1a055a69078be0db5": {
          "model_module": "@jupyter-widgets/controls",
          "model_name": "DescriptionStyleModel",
          "model_module_version": "1.5.0",
          "state": {
            "_view_name": "StyleView",
            "_model_name": "DescriptionStyleModel",
            "description_width": "",
            "_view_module": "@jupyter-widgets/base",
            "_model_module_version": "1.5.0",
            "_view_count": null,
            "_view_module_version": "1.2.0",
            "_model_module": "@jupyter-widgets/controls"
          }
        },
        "41c1089636ac41f4a31871295e55986d": {
          "model_module": "@jupyter-widgets/base",
          "model_name": "LayoutModel",
          "model_module_version": "1.2.0",
          "state": {
            "_view_name": "LayoutView",
            "grid_template_rows": null,
            "right": null,
            "justify_content": null,
            "_view_module": "@jupyter-widgets/base",
            "overflow": null,
            "_model_module_version": "1.2.0",
            "_view_count": null,
            "flex_flow": null,
            "width": null,
            "min_width": null,
            "border": null,
            "align_items": null,
            "bottom": null,
            "_model_module": "@jupyter-widgets/base",
            "top": null,
            "grid_column": null,
            "overflow_y": null,
            "overflow_x": null,
            "grid_auto_flow": null,
            "grid_area": null,
            "grid_template_columns": null,
            "flex": null,
            "_model_name": "LayoutModel",
            "justify_items": null,
            "grid_row": null,
            "max_height": null,
            "align_content": null,
            "visibility": null,
            "align_self": null,
            "height": null,
            "min_height": null,
            "padding": null,
            "grid_auto_rows": null,
            "grid_gap": null,
            "max_width": null,
            "order": null,
            "_view_module_version": "1.2.0",
            "grid_template_areas": null,
            "object_position": null,
            "object_fit": null,
            "grid_auto_columns": null,
            "margin": null,
            "display": null,
            "left": null
          }
        },
        "bf9c906fd35c445eaf72859fc9a57968": {
          "model_module": "@jupyter-widgets/controls",
          "model_name": "ProgressStyleModel",
          "model_module_version": "1.5.0",
          "state": {
            "_view_name": "StyleView",
            "_model_name": "ProgressStyleModel",
            "description_width": "",
            "_view_module": "@jupyter-widgets/base",
            "_model_module_version": "1.5.0",
            "_view_count": null,
            "_view_module_version": "1.2.0",
            "bar_color": null,
            "_model_module": "@jupyter-widgets/controls"
          }
        },
        "c72692b56be84e84b282a8d9cc66ed08": {
          "model_module": "@jupyter-widgets/base",
          "model_name": "LayoutModel",
          "model_module_version": "1.2.0",
          "state": {
            "_view_name": "LayoutView",
            "grid_template_rows": null,
            "right": null,
            "justify_content": null,
            "_view_module": "@jupyter-widgets/base",
            "overflow": null,
            "_model_module_version": "1.2.0",
            "_view_count": null,
            "flex_flow": null,
            "width": null,
            "min_width": null,
            "border": null,
            "align_items": null,
            "bottom": null,
            "_model_module": "@jupyter-widgets/base",
            "top": null,
            "grid_column": null,
            "overflow_y": null,
            "overflow_x": null,
            "grid_auto_flow": null,
            "grid_area": null,
            "grid_template_columns": null,
            "flex": null,
            "_model_name": "LayoutModel",
            "justify_items": null,
            "grid_row": null,
            "max_height": null,
            "align_content": null,
            "visibility": null,
            "align_self": null,
            "height": null,
            "min_height": null,
            "padding": null,
            "grid_auto_rows": null,
            "grid_gap": null,
            "max_width": null,
            "order": null,
            "_view_module_version": "1.2.0",
            "grid_template_areas": null,
            "object_position": null,
            "object_fit": null,
            "grid_auto_columns": null,
            "margin": null,
            "display": null,
            "left": null
          }
        },
        "edcdafd308e94cd2a6242540db11b62a": {
          "model_module": "@jupyter-widgets/controls",
          "model_name": "DescriptionStyleModel",
          "model_module_version": "1.5.0",
          "state": {
            "_view_name": "StyleView",
            "_model_name": "DescriptionStyleModel",
            "description_width": "",
            "_view_module": "@jupyter-widgets/base",
            "_model_module_version": "1.5.0",
            "_view_count": null,
            "_view_module_version": "1.2.0",
            "_model_module": "@jupyter-widgets/controls"
          }
        },
        "83907fd860c449238b34fcb1e876e6ae": {
          "model_module": "@jupyter-widgets/base",
          "model_name": "LayoutModel",
          "model_module_version": "1.2.0",
          "state": {
            "_view_name": "LayoutView",
            "grid_template_rows": null,
            "right": null,
            "justify_content": null,
            "_view_module": "@jupyter-widgets/base",
            "overflow": null,
            "_model_module_version": "1.2.0",
            "_view_count": null,
            "flex_flow": null,
            "width": null,
            "min_width": null,
            "border": null,
            "align_items": null,
            "bottom": null,
            "_model_module": "@jupyter-widgets/base",
            "top": null,
            "grid_column": null,
            "overflow_y": null,
            "overflow_x": null,
            "grid_auto_flow": null,
            "grid_area": null,
            "grid_template_columns": null,
            "flex": null,
            "_model_name": "LayoutModel",
            "justify_items": null,
            "grid_row": null,
            "max_height": null,
            "align_content": null,
            "visibility": null,
            "align_self": null,
            "height": null,
            "min_height": null,
            "padding": null,
            "grid_auto_rows": null,
            "grid_gap": null,
            "max_width": null,
            "order": null,
            "_view_module_version": "1.2.0",
            "grid_template_areas": null,
            "object_position": null,
            "object_fit": null,
            "grid_auto_columns": null,
            "margin": null,
            "display": null,
            "left": null
          }
        },
        "2bab5eb62152428995b7b7622024cdba": {
          "model_module": "@jupyter-widgets/controls",
          "model_name": "HBoxModel",
          "model_module_version": "1.5.0",
          "state": {
            "_view_name": "HBoxView",
            "_dom_classes": [],
            "_model_name": "HBoxModel",
            "_view_module": "@jupyter-widgets/controls",
            "_model_module_version": "1.5.0",
            "_view_count": null,
            "_view_module_version": "1.5.0",
            "box_style": "",
            "layout": "IPY_MODEL_19b68ff0facc4b9285505efefe33a246",
            "_model_module": "@jupyter-widgets/controls",
            "children": [
              "IPY_MODEL_d36365c0a5774cac9b183494d245bf34",
              "IPY_MODEL_60fb03f0d7764e9abd42f82927d7ce25",
              "IPY_MODEL_c9d1f38f25354eefa4b242db61b2fee9"
            ]
          }
        },
        "19b68ff0facc4b9285505efefe33a246": {
          "model_module": "@jupyter-widgets/base",
          "model_name": "LayoutModel",
          "model_module_version": "1.2.0",
          "state": {
            "_view_name": "LayoutView",
            "grid_template_rows": null,
            "right": null,
            "justify_content": null,
            "_view_module": "@jupyter-widgets/base",
            "overflow": null,
            "_model_module_version": "1.2.0",
            "_view_count": null,
            "flex_flow": null,
            "width": null,
            "min_width": null,
            "border": null,
            "align_items": null,
            "bottom": null,
            "_model_module": "@jupyter-widgets/base",
            "top": null,
            "grid_column": null,
            "overflow_y": null,
            "overflow_x": null,
            "grid_auto_flow": null,
            "grid_area": null,
            "grid_template_columns": null,
            "flex": null,
            "_model_name": "LayoutModel",
            "justify_items": null,
            "grid_row": null,
            "max_height": null,
            "align_content": null,
            "visibility": null,
            "align_self": null,
            "height": null,
            "min_height": null,
            "padding": null,
            "grid_auto_rows": null,
            "grid_gap": null,
            "max_width": null,
            "order": null,
            "_view_module_version": "1.2.0",
            "grid_template_areas": null,
            "object_position": null,
            "object_fit": null,
            "grid_auto_columns": null,
            "margin": null,
            "display": null,
            "left": null
          }
        },
        "d36365c0a5774cac9b183494d245bf34": {
          "model_module": "@jupyter-widgets/controls",
          "model_name": "HTMLModel",
          "model_module_version": "1.5.0",
          "state": {
            "_view_name": "HTMLView",
            "style": "IPY_MODEL_e4438d0fd20f4773ae8cd6a9a5915609",
            "_dom_classes": [],
            "description": "",
            "_model_name": "HTMLModel",
            "placeholder": "​",
            "_view_module": "@jupyter-widgets/controls",
            "_model_module_version": "1.5.0",
            "value": "",
            "_view_count": null,
            "_view_module_version": "1.5.0",
            "description_tooltip": null,
            "_model_module": "@jupyter-widgets/controls",
            "layout": "IPY_MODEL_853d429daf604d9590647d94e9a64e08"
          }
        },
        "60fb03f0d7764e9abd42f82927d7ce25": {
          "model_module": "@jupyter-widgets/controls",
          "model_name": "FloatProgressModel",
          "model_module_version": "1.5.0",
          "state": {
            "_view_name": "ProgressView",
            "style": "IPY_MODEL_3f80c8f469e94ad395e1034b1e5d4200",
            "_dom_classes": [],
            "description": "",
            "_model_name": "FloatProgressModel",
            "bar_style": "success",
            "max": 4542,
            "_view_module": "@jupyter-widgets/controls",
            "_model_module_version": "1.5.0",
            "value": 4542,
            "_view_count": null,
            "_view_module_version": "1.5.0",
            "orientation": "horizontal",
            "min": 0,
            "description_tooltip": null,
            "_model_module": "@jupyter-widgets/controls",
            "layout": "IPY_MODEL_ac3bb49601354830a24b9e8fe19b5bb9"
          }
        },
        "c9d1f38f25354eefa4b242db61b2fee9": {
          "model_module": "@jupyter-widgets/controls",
          "model_name": "HTMLModel",
          "model_module_version": "1.5.0",
          "state": {
            "_view_name": "HTMLView",
            "style": "IPY_MODEL_80bbd99dec844bb3a3f35a0fe4f3ae5d",
            "_dom_classes": [],
            "description": "",
            "_model_name": "HTMLModel",
            "placeholder": "​",
            "_view_module": "@jupyter-widgets/controls",
            "_model_module_version": "1.5.0",
            "value": " 5120/? [00:00&lt;00:00, 127581.88it/s]",
            "_view_count": null,
            "_view_module_version": "1.5.0",
            "description_tooltip": null,
            "_model_module": "@jupyter-widgets/controls",
            "layout": "IPY_MODEL_3faa3a97e3aa42cc91e972b13aa8de05"
          }
        },
        "e4438d0fd20f4773ae8cd6a9a5915609": {
          "model_module": "@jupyter-widgets/controls",
          "model_name": "DescriptionStyleModel",
          "model_module_version": "1.5.0",
          "state": {
            "_view_name": "StyleView",
            "_model_name": "DescriptionStyleModel",
            "description_width": "",
            "_view_module": "@jupyter-widgets/base",
            "_model_module_version": "1.5.0",
            "_view_count": null,
            "_view_module_version": "1.2.0",
            "_model_module": "@jupyter-widgets/controls"
          }
        },
        "853d429daf604d9590647d94e9a64e08": {
          "model_module": "@jupyter-widgets/base",
          "model_name": "LayoutModel",
          "model_module_version": "1.2.0",
          "state": {
            "_view_name": "LayoutView",
            "grid_template_rows": null,
            "right": null,
            "justify_content": null,
            "_view_module": "@jupyter-widgets/base",
            "overflow": null,
            "_model_module_version": "1.2.0",
            "_view_count": null,
            "flex_flow": null,
            "width": null,
            "min_width": null,
            "border": null,
            "align_items": null,
            "bottom": null,
            "_model_module": "@jupyter-widgets/base",
            "top": null,
            "grid_column": null,
            "overflow_y": null,
            "overflow_x": null,
            "grid_auto_flow": null,
            "grid_area": null,
            "grid_template_columns": null,
            "flex": null,
            "_model_name": "LayoutModel",
            "justify_items": null,
            "grid_row": null,
            "max_height": null,
            "align_content": null,
            "visibility": null,
            "align_self": null,
            "height": null,
            "min_height": null,
            "padding": null,
            "grid_auto_rows": null,
            "grid_gap": null,
            "max_width": null,
            "order": null,
            "_view_module_version": "1.2.0",
            "grid_template_areas": null,
            "object_position": null,
            "object_fit": null,
            "grid_auto_columns": null,
            "margin": null,
            "display": null,
            "left": null
          }
        },
        "3f80c8f469e94ad395e1034b1e5d4200": {
          "model_module": "@jupyter-widgets/controls",
          "model_name": "ProgressStyleModel",
          "model_module_version": "1.5.0",
          "state": {
            "_view_name": "StyleView",
            "_model_name": "ProgressStyleModel",
            "description_width": "",
            "_view_module": "@jupyter-widgets/base",
            "_model_module_version": "1.5.0",
            "_view_count": null,
            "_view_module_version": "1.2.0",
            "bar_color": null,
            "_model_module": "@jupyter-widgets/controls"
          }
        },
        "ac3bb49601354830a24b9e8fe19b5bb9": {
          "model_module": "@jupyter-widgets/base",
          "model_name": "LayoutModel",
          "model_module_version": "1.2.0",
          "state": {
            "_view_name": "LayoutView",
            "grid_template_rows": null,
            "right": null,
            "justify_content": null,
            "_view_module": "@jupyter-widgets/base",
            "overflow": null,
            "_model_module_version": "1.2.0",
            "_view_count": null,
            "flex_flow": null,
            "width": null,
            "min_width": null,
            "border": null,
            "align_items": null,
            "bottom": null,
            "_model_module": "@jupyter-widgets/base",
            "top": null,
            "grid_column": null,
            "overflow_y": null,
            "overflow_x": null,
            "grid_auto_flow": null,
            "grid_area": null,
            "grid_template_columns": null,
            "flex": null,
            "_model_name": "LayoutModel",
            "justify_items": null,
            "grid_row": null,
            "max_height": null,
            "align_content": null,
            "visibility": null,
            "align_self": null,
            "height": null,
            "min_height": null,
            "padding": null,
            "grid_auto_rows": null,
            "grid_gap": null,
            "max_width": null,
            "order": null,
            "_view_module_version": "1.2.0",
            "grid_template_areas": null,
            "object_position": null,
            "object_fit": null,
            "grid_auto_columns": null,
            "margin": null,
            "display": null,
            "left": null
          }
        },
        "80bbd99dec844bb3a3f35a0fe4f3ae5d": {
          "model_module": "@jupyter-widgets/controls",
          "model_name": "DescriptionStyleModel",
          "model_module_version": "1.5.0",
          "state": {
            "_view_name": "StyleView",
            "_model_name": "DescriptionStyleModel",
            "description_width": "",
            "_view_module": "@jupyter-widgets/base",
            "_model_module_version": "1.5.0",
            "_view_count": null,
            "_view_module_version": "1.2.0",
            "_model_module": "@jupyter-widgets/controls"
          }
        },
        "3faa3a97e3aa42cc91e972b13aa8de05": {
          "model_module": "@jupyter-widgets/base",
          "model_name": "LayoutModel",
          "model_module_version": "1.2.0",
          "state": {
            "_view_name": "LayoutView",
            "grid_template_rows": null,
            "right": null,
            "justify_content": null,
            "_view_module": "@jupyter-widgets/base",
            "overflow": null,
            "_model_module_version": "1.2.0",
            "_view_count": null,
            "flex_flow": null,
            "width": null,
            "min_width": null,
            "border": null,
            "align_items": null,
            "bottom": null,
            "_model_module": "@jupyter-widgets/base",
            "top": null,
            "grid_column": null,
            "overflow_y": null,
            "overflow_x": null,
            "grid_auto_flow": null,
            "grid_area": null,
            "grid_template_columns": null,
            "flex": null,
            "_model_name": "LayoutModel",
            "justify_items": null,
            "grid_row": null,
            "max_height": null,
            "align_content": null,
            "visibility": null,
            "align_self": null,
            "height": null,
            "min_height": null,
            "padding": null,
            "grid_auto_rows": null,
            "grid_gap": null,
            "max_width": null,
            "order": null,
            "_view_module_version": "1.2.0",
            "grid_template_areas": null,
            "object_position": null,
            "object_fit": null,
            "grid_auto_columns": null,
            "margin": null,
            "display": null,
            "left": null
          }
        }
      }
    }
  },
  "cells": [
    {
      "cell_type": "markdown",
      "metadata": {
        "id": "oGfS2g6XvFEw"
      },
      "source": [
        "<table class=\"tfo-notebook-buttons\" align=\"left\">\n",
        "  <td>\n",
        "    <a target=\"_blank\" href=\"https://colab.research.google.com/github/sjchoi86/upstage-basic-deeplearning/blob/main/notebook/cnn.ipynb\"><img src=\"https://www.tensorflow.org/images/colab_logo_32px.png\" />Colab</a>\n",
        "  </td>\n",
        "  <td>\n",
        "    <a target=\"_blank\" href=\"https://github.com/sjchoi86/upstage-basic-deeplearning/blob/main/notebook/cnn.ipynb\"><img src=\"https://www.tensorflow.org/images/GitHub-Mark-32px.png\" />View Source</a>\n",
        "  </td>\n",
        "</table>"
      ]
    },
    {
      "cell_type": "markdown",
      "metadata": {
        "id": "FJIOvMYGLFH6"
      },
      "source": [
        "# Convolutional Neural Network (CNN)"
      ]
    },
    {
      "cell_type": "code",
      "metadata": {
        "id": "khkLmD7yK_ei",
        "colab": {
          "base_uri": "https://localhost:8080/"
        },
        "outputId": "0503f021-1e5a-4107-da88-61422604b6ae"
      },
      "source": [
        "import numpy as np\n",
        "import matplotlib.pyplot as plt\n",
        "import torch\n",
        "import torch.nn as nn\n",
        "import torch.optim as optim\n",
        "import torch.nn.functional as F\n",
        "%matplotlib inline\n",
        "%config InlineBackend.figure_format='retina'\n",
        "print (\"PyTorch version:[%s].\"%(torch.__version__))\n",
        "device = torch.device('cuda:0' if torch.cuda.is_available() else 'cpu')\n",
        "print (\"device:[%s].\"%(device))"
      ],
      "execution_count": 1,
      "outputs": [
        {
          "output_type": "stream",
          "name": "stdout",
          "text": [
            "PyTorch version:[1.10.0+cu111].\n",
            "device:[cuda:0].\n"
          ]
        }
      ]
    },
    {
      "cell_type": "markdown",
      "metadata": {
        "id": "aciwjqf7MsTa"
      },
      "source": [
        "### Dataset"
      ]
    },
    {
      "cell_type": "code",
      "metadata": {
        "id": "GojZi6XMLZZ5",
        "colab": {
          "base_uri": "https://localhost:8080/",
          "height": 744,
          "referenced_widgets": [
            "acbfdaed7e0b413aaf55c171d5812291",
            "2cfb2c4cb50e4cedbd4bec21d7ccbef5",
            "8772b560740548848226329c2a3bde17",
            "5b07bce2316246a1ac45e078a2d2f454",
            "ae1627ce96f04d30bbda16a946c214d7",
            "ace2694d612040f49dbcaf41650d7301",
            "3340173b62d14ae5af5a473fffeba1bc",
            "1d93389cd9764790b16751cc3ed2415b",
            "e7abed72c6434c358f3af16cfa36a282",
            "19ce1761e035421d82a9191fb1292822",
            "d4e6f9d37490486ead75d49d2b21c911",
            "d699fd8d551a44ddb5c2414f51b2e318",
            "8e8a045ae84e4dcdb831f9dcec51f956",
            "c0a69c53befd476b93cb60f3e85f9868",
            "e88f52df2fc34de787a85db615de512a",
            "7cc9e92213884e6aa381c3f588cf01d2",
            "86a641ff23bd4f6288416380bb2c291b",
            "d9c1f9680c7a43659ca0084cb6bcc420",
            "a84c940c738f4b1a9c44de8e5ca3bb9c",
            "1531e17e1c0c433c9647edc750555666",
            "a360fd8f6a9a4c1594749510810b20f5",
            "80f08d64673247778dbeb6027f2bb477",
            "e45aac9ef3df4a9387039517d000e886",
            "5c07fa88e6074c1bbf47802cbeb1cd97",
            "86ca620f81a84e41bc2bcdd2459ec577",
            "a7cca582ff4949beb177135a4ccf5134",
            "b6ad6a859c8a4163b444d872cc9264c8",
            "a540ddef11f445c1a055a69078be0db5",
            "41c1089636ac41f4a31871295e55986d",
            "bf9c906fd35c445eaf72859fc9a57968",
            "c72692b56be84e84b282a8d9cc66ed08",
            "edcdafd308e94cd2a6242540db11b62a",
            "83907fd860c449238b34fcb1e876e6ae",
            "2bab5eb62152428995b7b7622024cdba",
            "19b68ff0facc4b9285505efefe33a246",
            "d36365c0a5774cac9b183494d245bf34",
            "60fb03f0d7764e9abd42f82927d7ce25",
            "c9d1f38f25354eefa4b242db61b2fee9",
            "e4438d0fd20f4773ae8cd6a9a5915609",
            "853d429daf604d9590647d94e9a64e08",
            "3f80c8f469e94ad395e1034b1e5d4200",
            "ac3bb49601354830a24b9e8fe19b5bb9",
            "80bbd99dec844bb3a3f35a0fe4f3ae5d",
            "3faa3a97e3aa42cc91e972b13aa8de05"
          ]
        },
        "outputId": "3cd39144-dbd4-4eb6-d13b-ab29f2c05aa0"
      },
      "source": [
        "from torchvision import datasets,transforms\n",
        "mnist_train = datasets.MNIST(root='./data/',train=True,transform=transforms.ToTensor(),download=True)\n",
        "mnist_test = datasets.MNIST(root='./data/',train=False,transform=transforms.ToTensor(),download=True)\n",
        "print (\"mnist_train:\\n\",mnist_train,\"\\n\")\n",
        "print (\"mnist_test:\\n\",mnist_test,\"\\n\")\n",
        "print (\"Done.\")"
      ],
      "execution_count": 2,
      "outputs": [
        {
          "output_type": "stream",
          "name": "stdout",
          "text": [
            "Downloading http://yann.lecun.com/exdb/mnist/train-images-idx3-ubyte.gz\n",
            "Downloading http://yann.lecun.com/exdb/mnist/train-images-idx3-ubyte.gz to ./data/MNIST/raw/train-images-idx3-ubyte.gz\n"
          ]
        },
        {
          "output_type": "display_data",
          "data": {
            "application/vnd.jupyter.widget-view+json": {
              "model_id": "acbfdaed7e0b413aaf55c171d5812291",
              "version_minor": 0,
              "version_major": 2
            },
            "text/plain": [
              "  0%|          | 0/9912422 [00:00<?, ?it/s]"
            ]
          },
          "metadata": {}
        },
        {
          "output_type": "stream",
          "name": "stdout",
          "text": [
            "Extracting ./data/MNIST/raw/train-images-idx3-ubyte.gz to ./data/MNIST/raw\n",
            "\n",
            "Downloading http://yann.lecun.com/exdb/mnist/train-labels-idx1-ubyte.gz\n",
            "Downloading http://yann.lecun.com/exdb/mnist/train-labels-idx1-ubyte.gz to ./data/MNIST/raw/train-labels-idx1-ubyte.gz\n"
          ]
        },
        {
          "output_type": "display_data",
          "data": {
            "application/vnd.jupyter.widget-view+json": {
              "model_id": "d699fd8d551a44ddb5c2414f51b2e318",
              "version_minor": 0,
              "version_major": 2
            },
            "text/plain": [
              "  0%|          | 0/28881 [00:00<?, ?it/s]"
            ]
          },
          "metadata": {}
        },
        {
          "output_type": "stream",
          "name": "stdout",
          "text": [
            "Extracting ./data/MNIST/raw/train-labels-idx1-ubyte.gz to ./data/MNIST/raw\n",
            "\n",
            "Downloading http://yann.lecun.com/exdb/mnist/t10k-images-idx3-ubyte.gz\n",
            "Downloading http://yann.lecun.com/exdb/mnist/t10k-images-idx3-ubyte.gz to ./data/MNIST/raw/t10k-images-idx3-ubyte.gz\n"
          ]
        },
        {
          "output_type": "display_data",
          "data": {
            "application/vnd.jupyter.widget-view+json": {
              "model_id": "e45aac9ef3df4a9387039517d000e886",
              "version_minor": 0,
              "version_major": 2
            },
            "text/plain": [
              "  0%|          | 0/1648877 [00:00<?, ?it/s]"
            ]
          },
          "metadata": {}
        },
        {
          "output_type": "stream",
          "name": "stdout",
          "text": [
            "Extracting ./data/MNIST/raw/t10k-images-idx3-ubyte.gz to ./data/MNIST/raw\n",
            "\n",
            "Downloading http://yann.lecun.com/exdb/mnist/t10k-labels-idx1-ubyte.gz\n",
            "Downloading http://yann.lecun.com/exdb/mnist/t10k-labels-idx1-ubyte.gz to ./data/MNIST/raw/t10k-labels-idx1-ubyte.gz\n"
          ]
        },
        {
          "output_type": "display_data",
          "data": {
            "application/vnd.jupyter.widget-view+json": {
              "model_id": "2bab5eb62152428995b7b7622024cdba",
              "version_minor": 0,
              "version_major": 2
            },
            "text/plain": [
              "  0%|          | 0/4542 [00:00<?, ?it/s]"
            ]
          },
          "metadata": {}
        },
        {
          "output_type": "stream",
          "name": "stdout",
          "text": [
            "Extracting ./data/MNIST/raw/t10k-labels-idx1-ubyte.gz to ./data/MNIST/raw\n",
            "\n",
            "mnist_train:\n",
            " Dataset MNIST\n",
            "    Number of datapoints: 60000\n",
            "    Root location: ./data/\n",
            "    Split: Train\n",
            "    StandardTransform\n",
            "Transform: ToTensor() \n",
            "\n",
            "mnist_test:\n",
            " Dataset MNIST\n",
            "    Number of datapoints: 10000\n",
            "    Root location: ./data/\n",
            "    Split: Test\n",
            "    StandardTransform\n",
            "Transform: ToTensor() \n",
            "\n",
            "Done.\n"
          ]
        }
      ]
    },
    {
      "cell_type": "markdown",
      "metadata": {
        "id": "vD9uNmGDN3Fx"
      },
      "source": [
        "### Data Iterator"
      ]
    },
    {
      "cell_type": "code",
      "metadata": {
        "id": "kt2NQt92LaP8",
        "colab": {
          "base_uri": "https://localhost:8080/"
        },
        "outputId": "0655802c-5007-4c59-e60a-b1322c70f55d"
      },
      "source": [
        "BATCH_SIZE = 256\n",
        "train_iter = torch.utils.data.DataLoader(mnist_train,batch_size=BATCH_SIZE,shuffle=True,num_workers=1)\n",
        "test_iter = torch.utils.data.DataLoader(mnist_test,batch_size=BATCH_SIZE,shuffle=True,num_workers=1)\n",
        "print (\"Done.\")"
      ],
      "execution_count": 3,
      "outputs": [
        {
          "output_type": "stream",
          "name": "stdout",
          "text": [
            "Done.\n"
          ]
        }
      ]
    },
    {
      "cell_type": "markdown",
      "metadata": {
        "id": "Kx8FI2g3ONca"
      },
      "source": [
        "### Define Model"
      ]
    },
    {
      "cell_type": "code",
      "metadata": {
        "id": "hMBOgjaVLalV",
        "colab": {
          "base_uri": "https://localhost:8080/"
        },
        "outputId": "d22041a9-961a-484b-a2d9-9fd16e79b596"
      },
      "source": [
        "class ConvolutionalNeuralNetworkClass(nn.Module):\n",
        "    \"\"\"\n",
        "        Convolutional Neural Network (CNN) Class\n",
        "    \"\"\"\n",
        "    # 채널의 개수를 정할 수 있다.\n",
        "    def __init__(self,name='cnn',xdim=[1,28,28],\n",
        "                 ksize=3,cdims=[32,64],hdims=[1024,128],ydim=10,\n",
        "                 USE_BATCHNORM=False):\n",
        "        super(ConvolutionalNeuralNetworkClass,self).__init__()\n",
        "        self.name = name\n",
        "        self.xdim = xdim\n",
        "        self.ksize = ksize\n",
        "        self.cdims = cdims\n",
        "        self.hdims = hdims\n",
        "        self.ydim = ydim\n",
        "        self.USE_BATCHNORM = USE_BATCHNORM\n",
        "\n",
        "        # Convolutional layers\n",
        "        self.layers = []\n",
        "        prev_cdim = self.xdim[0]\n",
        "        for cdim in self.cdims: # for each hidden layer\n",
        "            self.layers.append(\n",
        "                nn.Conv2d(in_channels=prev_cdim,\n",
        "                          out_channels=cdim,\n",
        "                          kernel_size=self.ksize,\n",
        "                          stride=(1,1),\n",
        "                          padding=self.ksize//2)) # convlution \n",
        "            if self.USE_BATCHNORM:\n",
        "                self.layers.append(nn.BatchNorm2d(cdim)) # batch-norm\n",
        "            self.layers.append(nn.ReLU(True))  # activation\n",
        "            self.layers.append(nn.MaxPool2d(kernel_size=(2,2), stride=(2,2))) # max-pooling \n",
        "            self.layers.append(nn.Dropout2d(p=0.5))  # dropout\n",
        "            prev_cdim = cdim\n",
        "\n",
        "        # Dense layers\n",
        "        self.layers.append(nn.Flatten())\n",
        "        prev_hdim = prev_cdim*(self.xdim[1]//(2**len(self.cdims)))*(self.xdim[2]//(2**len(self.cdims)))\n",
        "        for hdim in self.hdims:\n",
        "            self.layers.append(nn.Linear(prev_hdim, hdim, bias=True))\n",
        "            self.layers.append(nn.ReLU(True))  # activation\n",
        "            prev_hdim = hdim\n",
        "        # Final layer (without activation)\n",
        "        self.layers.append(nn.Linear(prev_hdim,self.ydim,bias=True))\n",
        "\n",
        "        # Concatenate all layers \n",
        "        self.net = nn.Sequential()\n",
        "        for l_idx,layer in enumerate(self.layers):\n",
        "            layer_name = \"%s_%02d\"%(type(layer).__name__.lower(),l_idx)\n",
        "            self.net.add_module(layer_name,layer)\n",
        "        self.init_param() # initialize parameters\n",
        "        \n",
        "    def init_param(self):\n",
        "        for m in self.modules():\n",
        "            if isinstance(m,nn.Conv2d): # init conv\n",
        "                nn.init.kaiming_normal_(m.weight)\n",
        "                nn.init.zeros_(m.bias)\n",
        "            elif isinstance(m,nn.BatchNorm2d): # init BN\n",
        "                nn.init.constant_(m.weight,1)\n",
        "                nn.init.constant_(m.bias,0)\n",
        "            elif isinstance(m,nn.Linear): # lnit dense\n",
        "                nn.init.kaiming_normal_(m.weight)\n",
        "                nn.init.zeros_(m.bias)\n",
        "            \n",
        "    def forward(self,x):\n",
        "        return self.net(x)\n",
        "\n",
        "C = ConvolutionalNeuralNetworkClass(\n",
        "    name='cnn',xdim=[1,28,28],ksize=3,cdims=[32,64],\n",
        "    hdims=[32],ydim=10).to(device)\n",
        "loss = nn.CrossEntropyLoss()\n",
        "optm = optim.Adam(C.parameters(),lr=1e-3)\n",
        "print (\"Done.\")"
      ],
      "execution_count": 4,
      "outputs": [
        {
          "output_type": "stream",
          "name": "stdout",
          "text": [
            "Done.\n"
          ]
        }
      ]
    },
    {
      "cell_type": "markdown",
      "metadata": {
        "id": "Gd4GqagEaaxP"
      },
      "source": [
        "### Check Parameters"
      ]
    },
    {
      "cell_type": "code",
      "metadata": {
        "id": "s9JhupRpaahm",
        "colab": {
          "base_uri": "https://localhost:8080/"
        },
        "outputId": "07aa0ec6-d4c1-4215-aaf0-bd7a611704a5"
      },
      "source": [
        "np.set_printoptions(precision=3)\n",
        "n_param = 0\n",
        "for p_idx,(param_name,param) in enumerate(C.named_parameters()):\n",
        "    if param.requires_grad:\n",
        "        param_numpy = param.detach().cpu().numpy() # to numpy array \n",
        "        n_param += len(param_numpy.reshape(-1))\n",
        "        print (\"[%d] name:[%s] shape:[%s].\"%(p_idx,param_name,param_numpy.shape))\n",
        "        print (\"    val:%s\"%(param_numpy.reshape(-1)[:5]))\n",
        "print (\"Total number of parameters:[%s].\"%(format(n_param,',d')))"
      ],
      "execution_count": 5,
      "outputs": [
        {
          "output_type": "stream",
          "name": "stdout",
          "text": [
            "[0] name:[net.conv2d_00.weight] shape:[(32, 1, 3, 3)].\n",
            "    val:[-0.188 -0.043  0.179  0.304 -0.73 ]\n",
            "[1] name:[net.conv2d_00.bias] shape:[(32,)].\n",
            "    val:[0. 0. 0. 0. 0.]\n",
            "[2] name:[net.conv2d_04.weight] shape:[(64, 32, 3, 3)].\n",
            "    val:[-0.101  0.003 -0.139 -0.121  0.114]\n",
            "[3] name:[net.conv2d_04.bias] shape:[(64,)].\n",
            "    val:[0. 0. 0. 0. 0.]\n",
            "[4] name:[net.linear_09.weight] shape:[(32, 3136)].\n",
            "    val:[-0.015  0.009 -0.026  0.028 -0.002]\n",
            "[5] name:[net.linear_09.bias] shape:[(32,)].\n",
            "    val:[0. 0. 0. 0. 0.]\n",
            "[6] name:[net.linear_11.weight] shape:[(10, 32)].\n",
            "    val:[ 0.059 -0.454  0.338 -0.112  0.146]\n",
            "[7] name:[net.linear_11.bias] shape:[(10,)].\n",
            "    val:[0. 0. 0. 0. 0.]\n",
            "Total number of parameters:[119,530].\n"
          ]
        }
      ]
    },
    {
      "cell_type": "markdown",
      "metadata": {
        "id": "i574DsE8Z039"
      },
      "source": [
        "### Simple Forward Path of the CNN Model"
      ]
    },
    {
      "cell_type": "code",
      "metadata": {
        "id": "cJl7XSQMORAZ",
        "colab": {
          "base_uri": "https://localhost:8080/"
        },
        "outputId": "42b2fabd-ccb7-4ab9-a85e-41ca175e9a97"
      },
      "source": [
        "np.set_printoptions(precision=3)\n",
        "torch.set_printoptions(precision=3)\n",
        "x_numpy = np.random.rand(2,1,28,28) # 임의의 이미지 \n",
        "x_torch = torch.from_numpy(x_numpy).float().to(device) # 사용할 device에 넣음\n",
        "y_torch = C.forward(x_torch) # forward path\n",
        "y_numpy = y_torch.detach().cpu().numpy() # torch tensor to numpy array\n",
        "print (\"x_torch:\\n\",x_torch)\n",
        "print (\"y_torch:\\n\",y_torch)\n",
        "print (\"\\nx_numpy %s:\\n\"%(x_numpy.shape,),x_numpy)\n",
        "print (\"y_numpy %s:\\n\"%(y_numpy.shape,),y_numpy)"
      ],
      "execution_count": 6,
      "outputs": [
        {
          "output_type": "stream",
          "name": "stdout",
          "text": [
            "x_torch:\n",
            " tensor([[[[0.419, 0.412, 0.885,  ..., 0.023, 0.377, 0.469],\n",
            "          [0.287, 0.822, 0.037,  ..., 0.052, 0.405, 0.289],\n",
            "          [0.542, 0.926, 0.453,  ..., 0.943, 0.852, 0.002],\n",
            "          ...,\n",
            "          [0.092, 0.641, 0.377,  ..., 0.206, 0.988, 0.900],\n",
            "          [0.952, 0.772, 0.284,  ..., 0.846, 0.575, 0.781],\n",
            "          [0.313, 0.944, 0.371,  ..., 0.987, 0.099, 0.756]]],\n",
            "\n",
            "\n",
            "        [[[0.544, 0.273, 0.717,  ..., 0.143, 0.530, 0.526],\n",
            "          [0.210, 0.115, 0.521,  ..., 0.306, 0.960, 0.062],\n",
            "          [0.247, 0.504, 0.502,  ..., 0.769, 0.117, 0.365],\n",
            "          ...,\n",
            "          [0.390, 0.062, 0.796,  ..., 0.164, 0.570, 0.246],\n",
            "          [0.787, 0.615, 0.170,  ..., 0.993, 0.800, 0.537],\n",
            "          [0.618, 0.441, 0.711,  ..., 0.627, 0.491, 0.089]]]], device='cuda:0')\n",
            "y_torch:\n",
            " tensor([[-2.816, -2.394, -0.917, -0.553, -4.717,  2.011, -2.366, -6.161, -2.429,\n",
            "          3.841],\n",
            "        [-3.088,  0.581,  2.227, -1.352, -2.823,  0.069, -0.416, -3.486, -2.091,\n",
            "          1.424]], device='cuda:0', grad_fn=<AddmmBackward0>)\n",
            "\n",
            "x_numpy (2, 1, 28, 28):\n",
            " [[[[0.419 0.412 0.885 ... 0.023 0.377 0.469]\n",
            "   [0.287 0.822 0.037 ... 0.052 0.405 0.289]\n",
            "   [0.542 0.926 0.453 ... 0.943 0.852 0.002]\n",
            "   ...\n",
            "   [0.092 0.641 0.377 ... 0.206 0.988 0.9  ]\n",
            "   [0.952 0.772 0.284 ... 0.846 0.575 0.781]\n",
            "   [0.313 0.944 0.371 ... 0.987 0.099 0.756]]]\n",
            "\n",
            "\n",
            " [[[0.544 0.273 0.717 ... 0.143 0.53  0.526]\n",
            "   [0.21  0.115 0.521 ... 0.306 0.96  0.062]\n",
            "   [0.247 0.504 0.502 ... 0.769 0.117 0.365]\n",
            "   ...\n",
            "   [0.39  0.062 0.796 ... 0.164 0.57  0.246]\n",
            "   [0.787 0.615 0.17  ... 0.993 0.8   0.537]\n",
            "   [0.618 0.441 0.711 ... 0.627 0.491 0.089]]]]\n",
            "y_numpy (2, 10):\n",
            " [[-2.816 -2.394 -0.917 -0.553 -4.717  2.011 -2.366 -6.161 -2.429  3.841]\n",
            " [-3.088  0.581  2.227 -1.352 -2.823  0.069 -0.416 -3.486 -2.091  1.424]]\n"
          ]
        }
      ]
    },
    {
      "cell_type": "markdown",
      "metadata": {
        "id": "9-qCaXAKcOLx"
      },
      "source": [
        "### Evaluation Function"
      ]
    },
    {
      "cell_type": "code",
      "metadata": {
        "id": "q9LmS7OqcNzh",
        "colab": {
          "base_uri": "https://localhost:8080/"
        },
        "outputId": "91e848ec-151a-483c-b3fb-84352220b9e3"
      },
      "source": [
        "def func_eval(model,data_iter,device):\n",
        "    with torch.no_grad():\n",
        "        n_total,n_correct = 0,0\n",
        "        model.eval() # evaluate (affects DropOut and BN)\n",
        "        for batch_in,batch_out in data_iter:\n",
        "            y_trgt = batch_out.to(device)\n",
        "            model_pred = model(batch_in.view(-1,1,28,28).to(device))\n",
        "            _,y_pred = torch.max(model_pred.data,1)\n",
        "            n_correct += (y_pred==y_trgt).sum().item()\n",
        "            n_total += batch_in.size(0)\n",
        "        val_accr = (n_correct/n_total)\n",
        "        model.train() # back to train mode \n",
        "    return val_accr\n",
        "print (\"Done\")"
      ],
      "execution_count": 7,
      "outputs": [
        {
          "output_type": "stream",
          "name": "stdout",
          "text": [
            "Done\n"
          ]
        }
      ]
    },
    {
      "cell_type": "markdown",
      "metadata": {
        "id": "iy7XZ21CiNZA"
      },
      "source": [
        "### Initial Evaluation"
      ]
    },
    {
      "cell_type": "code",
      "metadata": {
        "id": "EMR1DaAyLa5Y",
        "colab": {
          "base_uri": "https://localhost:8080/"
        },
        "outputId": "286c3cbd-1bb4-4cdf-e3ec-d04f77c3a204"
      },
      "source": [
        "C.init_param() # initialize parameters\n",
        "train_accr = func_eval(C,train_iter,device)\n",
        "test_accr = func_eval(C,test_iter,device)\n",
        "print (\"train_accr:[%.3f] test_accr:[%.3f].\"%(train_accr,test_accr))"
      ],
      "execution_count": 8,
      "outputs": [
        {
          "output_type": "stream",
          "name": "stdout",
          "text": [
            "train_accr:[0.095] test_accr:[0.100].\n"
          ]
        }
      ]
    },
    {
      "cell_type": "markdown",
      "metadata": {
        "id": "c6s_S4BIipcT"
      },
      "source": [
        "### Train"
      ]
    },
    {
      "cell_type": "code",
      "metadata": {
        "id": "2LNJOJVCiO3k",
        "colab": {
          "base_uri": "https://localhost:8080/"
        },
        "outputId": "85e91d9a-6861-43e5-da66-498709a74ee0"
      },
      "source": [
        "print (\"Start training.\")\n",
        "C.init_param() # initialize parameters\n",
        "C.train() # to train mode \n",
        "EPOCHS,print_every = 10,1\n",
        "for epoch in range(EPOCHS):\n",
        "    loss_val_sum = 0\n",
        "    for batch_in,batch_out in train_iter:\n",
        "        # Forward path\n",
        "        y_pred = C.forward(batch_in.view(-1,1,28,28).to(device))\n",
        "        loss_out = loss(y_pred,batch_out.to(device))\n",
        "        # Update\n",
        "        optm.zero_grad()      # reset gradient \n",
        "        loss_out.backward()      # backpropagate\n",
        "        optm.step()      # optimizer update\n",
        "        loss_val_sum += loss_out\n",
        "    loss_val_avg = loss_val_sum/len(train_iter)\n",
        "    # Print\n",
        "    if ((epoch%print_every)==0) or (epoch==(EPOCHS-1)):\n",
        "        train_accr = func_eval(C,train_iter,device)\n",
        "        test_accr = func_eval(C,test_iter,device)\n",
        "        print (\"epoch:[%d] loss:[%.3f] train_accr:[%.3f] test_accr:[%.3f].\"%\n",
        "               (epoch,loss_val_avg,train_accr,test_accr))\n",
        "print (\"Done\")"
      ],
      "execution_count": 10,
      "outputs": [
        {
          "output_type": "stream",
          "name": "stdout",
          "text": [
            "Start training.\n",
            "epoch:[0] loss:[0.631] train_accr:[0.955] test_accr:[0.955].\n",
            "epoch:[1] loss:[0.185] train_accr:[0.971] test_accr:[0.972].\n",
            "epoch:[2] loss:[0.131] train_accr:[0.981] test_accr:[0.980].\n",
            "epoch:[3] loss:[0.107] train_accr:[0.983] test_accr:[0.981].\n",
            "epoch:[4] loss:[0.092] train_accr:[0.986] test_accr:[0.984].\n",
            "epoch:[5] loss:[0.078] train_accr:[0.987] test_accr:[0.986].\n",
            "epoch:[6] loss:[0.076] train_accr:[0.989] test_accr:[0.988].\n",
            "epoch:[7] loss:[0.070] train_accr:[0.991] test_accr:[0.988].\n",
            "epoch:[8] loss:[0.064] train_accr:[0.990] test_accr:[0.989].\n",
            "epoch:[9] loss:[0.061] train_accr:[0.991] test_accr:[0.988].\n",
            "Done\n"
          ]
        }
      ]
    },
    {
      "cell_type": "markdown",
      "metadata": {
        "id": "ceHT-OdujWMS"
      },
      "source": [
        "### Test"
      ]
    },
    {
      "cell_type": "code",
      "metadata": {
        "id": "x1CZBbCwjMh7"
      },
      "source": [
        "n_sample = 25\n",
        "sample_indices = np.random.choice(len(mnist_test.targets),n_sample,replace=False)\n",
        "test_x = mnist_test.data[sample_indices]\n",
        "test_y = mnist_test.targets[sample_indices]\n",
        "with torch.no_grad():\n",
        "    C.eval() # to evaluation mode \n",
        "    y_pred = C.forward(test_x.view(-1,1,28,28).type(torch.float).to(device)/255.)\n",
        "y_pred = y_pred.argmax(axis=1)\n",
        "plt.figure(figsize=(10,10))\n",
        "for idx in range(n_sample):\n",
        "    plt.subplot(5, 5, idx+1)\n",
        "    plt.imshow(test_x[idx], cmap='gray')\n",
        "    plt.axis('off')\n",
        "    plt.title(\"Pred:%d, Label:%d\"%(y_pred[idx],test_y[idx]))\n",
        "plt.show()    \n",
        "print (\"Done\")"
      ],
      "execution_count": null,
      "outputs": []
    },
    {
      "cell_type": "code",
      "metadata": {
        "id": "i6poTCYZj4uM"
      },
      "source": [
        ""
      ],
      "execution_count": null,
      "outputs": []
    }
  ]
}