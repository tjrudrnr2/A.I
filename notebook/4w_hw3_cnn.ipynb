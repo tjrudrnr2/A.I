{
  "nbformat": 4,
  "nbformat_minor": 0,
  "metadata": {
    "colab": {
      "name": "[02_07] cnn.ipynb의 사본",
      "provenance": [],
      "collapsed_sections": [],
      "include_colab_link": true
    },
    "kernelspec": {
      "name": "python3",
      "display_name": "Python 3"
    },
    "accelerator": "GPU"
  },
  "cells": [
    {
      "cell_type": "markdown",
      "metadata": {
        "id": "view-in-github",
        "colab_type": "text"
      },
      "source": [
        "<a href=\"https://colab.research.google.com/github/tjrudrnr2/A.I/blob/main/notebook/4w_hw3_cnn.ipynb\" target=\"_parent\"><img src=\"https://colab.research.google.com/assets/colab-badge.svg\" alt=\"Open In Colab\"/></a>"
      ]
    },
    {
      "cell_type": "markdown",
      "metadata": {
        "id": "oGfS2g6XvFEw"
      },
      "source": [
        "<table class=\"tfo-notebook-buttons\" align=\"left\">\n",
        "  <td>\n",
        "    <a target=\"_blank\" href=\"https://colab.research.google.com/github/sjchoi86/upstage-basic-deeplearning/blob/main/notebook/cnn.ipynb\"><img src=\"https://www.tensorflow.org/images/colab_logo_32px.png\" />Colab</a>\n",
        "  </td>\n",
        "  <td>\n",
        "    <a target=\"_blank\" href=\"https://github.com/sjchoi86/upstage-basic-deeplearning/blob/main/notebook/cnn.ipynb\"><img src=\"https://www.tensorflow.org/images/GitHub-Mark-32px.png\" />View Source</a>\n",
        "  </td>\n",
        "</table>"
      ]
    },
    {
      "cell_type": "markdown",
      "metadata": {
        "id": "FJIOvMYGLFH6"
      },
      "source": [
        "# Convolutional Neural Network (CNN)\n",
        "\n",
        "이번 과제에서는 CNN(Convolutional Neural Network)을 사용해서 MNIST classification을 구현합니다. 밑바닥부터 구현하는 것은 아니고 \"FILL IN HERE\" 부분을 채우면 됩니다. 지워진 부분을 찾아서 코드를 작성한 후 실행해보세요."
      ]
    },
    {
      "cell_type": "code",
      "source": [
        "!pip install torch==1.8.0+cu111 torchvision==0.9.0+cu111 torchaudio==0.8.0 -f https://download.pytorch.org/whl/torch_stable.html"
      ],
      "metadata": {
        "id": "w7g4o-cG8I2h",
        "outputId": "248ac65c-de89-4af2-9e23-4049451ca260",
        "colab": {
          "base_uri": "https://localhost:8080/",
          "height": 763
        }
      },
      "execution_count": null,
      "outputs": [
        {
          "output_type": "stream",
          "name": "stdout",
          "text": [
            "Looking in links: https://download.pytorch.org/whl/torch_stable.html\n",
            "Collecting torch==1.8.0+cu111\n",
            "  Downloading https://download.pytorch.org/whl/cu111/torch-1.8.0%2Bcu111-cp37-cp37m-linux_x86_64.whl (1982.2 MB)\n",
            "\u001b[K     |█████████████▌                  | 834.1 MB 1.5 MB/s eta 0:12:39tcmalloc: large alloc 1147494400 bytes == 0x556a56916000 @  0x7f1c65265615 0x556a1cc923bc 0x556a1cd7318a 0x556a1cc951cd 0x556a1cd87b3d 0x556a1cd09458 0x556a1cd0402f 0x556a1cc96aba 0x556a1cd092c0 0x556a1cd0402f 0x556a1cc96aba 0x556a1cd05cd4 0x556a1cd88986 0x556a1cd05350 0x556a1cd88986 0x556a1cd05350 0x556a1cd88986 0x556a1cd05350 0x556a1cc96f19 0x556a1ccdaa79 0x556a1cc95b32 0x556a1cd091dd 0x556a1cd0402f 0x556a1cc96aba 0x556a1cd05cd4 0x556a1cd0402f 0x556a1cc96aba 0x556a1cd04eae 0x556a1cc969da 0x556a1cd05108 0x556a1cd0402f\n",
            "\u001b[K     |█████████████████               | 1055.7 MB 1.5 MB/s eta 0:10:06tcmalloc: large alloc 1434370048 bytes == 0x556a9af6c000 @  0x7f1c65265615 0x556a1cc923bc 0x556a1cd7318a 0x556a1cc951cd 0x556a1cd87b3d 0x556a1cd09458 0x556a1cd0402f 0x556a1cc96aba 0x556a1cd092c0 0x556a1cd0402f 0x556a1cc96aba 0x556a1cd05cd4 0x556a1cd88986 0x556a1cd05350 0x556a1cd88986 0x556a1cd05350 0x556a1cd88986 0x556a1cd05350 0x556a1cc96f19 0x556a1ccdaa79 0x556a1cc95b32 0x556a1cd091dd 0x556a1cd0402f 0x556a1cc96aba 0x556a1cd05cd4 0x556a1cd0402f 0x556a1cc96aba 0x556a1cd04eae 0x556a1cc969da 0x556a1cd05108 0x556a1cd0402f\n",
            "\u001b[K     |█████████████████████▋          | 1336.2 MB 63.1 MB/s eta 0:00:11tcmalloc: large alloc 1792966656 bytes == 0x556a1fd9e000 @  0x7f1c65265615 0x556a1cc923bc 0x556a1cd7318a 0x556a1cc951cd 0x556a1cd87b3d 0x556a1cd09458 0x556a1cd0402f 0x556a1cc96aba 0x556a1cd092c0 0x556a1cd0402f 0x556a1cc96aba 0x556a1cd05cd4 0x556a1cd88986 0x556a1cd05350 0x556a1cd88986 0x556a1cd05350 0x556a1cd88986 0x556a1cd05350 0x556a1cc96f19 0x556a1ccdaa79 0x556a1cc95b32 0x556a1cd091dd 0x556a1cd0402f 0x556a1cc96aba 0x556a1cd05cd4 0x556a1cd0402f 0x556a1cc96aba 0x556a1cd04eae 0x556a1cc969da 0x556a1cd05108 0x556a1cd0402f\n",
            "\u001b[K     |███████████████████████████▎    | 1691.1 MB 1.4 MB/s eta 0:03:24tcmalloc: large alloc 2241208320 bytes == 0x556a8ab86000 @  0x7f1c65265615 0x556a1cc923bc 0x556a1cd7318a 0x556a1cc951cd 0x556a1cd87b3d 0x556a1cd09458 0x556a1cd0402f 0x556a1cc96aba 0x556a1cd092c0 0x556a1cd0402f 0x556a1cc96aba 0x556a1cd05cd4 0x556a1cd88986 0x556a1cd05350 0x556a1cd88986 0x556a1cd05350 0x556a1cd88986 0x556a1cd05350 0x556a1cc96f19 0x556a1ccdaa79 0x556a1cc95b32 0x556a1cd091dd 0x556a1cd0402f 0x556a1cc96aba 0x556a1cd05cd4 0x556a1cd0402f 0x556a1cc96aba 0x556a1cd04eae 0x556a1cc969da 0x556a1cd05108 0x556a1cd0402f\n",
            "\u001b[K     |████████████████████████████████| 1982.2 MB 1.1 MB/s eta 0:00:01tcmalloc: large alloc 1982251008 bytes == 0x556b104e8000 @  0x7f1c652641e7 0x556a1ccc85d7 0x556a1cc923bc 0x556a1cd7318a 0x556a1cc951cd 0x556a1cd87b3d 0x556a1cd09458 0x556a1cd0402f 0x556a1cc96aba 0x556a1cd05108 0x556a1cd0402f 0x556a1cc96aba 0x556a1cd05108 0x556a1cd0402f 0x556a1cc96aba 0x556a1cd05108 0x556a1cd0402f 0x556a1cc96aba 0x556a1cd05108 0x556a1cd0402f 0x556a1cc96aba 0x556a1cd05108 0x556a1cc969da 0x556a1cd05108 0x556a1cd0402f 0x556a1cc96aba 0x556a1cd05cd4 0x556a1cd0402f 0x556a1cc96aba 0x556a1cd05cd4 0x556a1cd0402f\n",
            "tcmalloc: large alloc 2477817856 bytes == 0x556bfabd8000 @  0x7f1c65265615 0x556a1cc923bc 0x556a1cd7318a 0x556a1cc951cd 0x556a1cd87b3d 0x556a1cd09458 0x556a1cd0402f 0x556a1cc96aba 0x556a1cd05108 0x556a1cd0402f 0x556a1cc96aba 0x556a1cd05108 0x556a1cd0402f 0x556a1cc96aba 0x556a1cd05108 0x556a1cd0402f 0x556a1cc96aba 0x556a1cd05108 0x556a1cd0402f 0x556a1cc96aba 0x556a1cd05108 0x556a1cc969da 0x556a1cd05108 0x556a1cd0402f 0x556a1cc96aba 0x556a1cd05cd4 0x556a1cd0402f 0x556a1cc96aba 0x556a1cd05cd4 0x556a1cd0402f 0x556a1cc97151\n",
            "\u001b[K     |████████████████████████████████| 1982.2 MB 5.2 kB/s \n",
            "\u001b[?25hCollecting torchvision==0.9.0+cu111\n",
            "  Downloading https://download.pytorch.org/whl/cu111/torchvision-0.9.0%2Bcu111-cp37-cp37m-linux_x86_64.whl (17.6 MB)\n",
            "\u001b[K     |████████████████████████████████| 17.6 MB 37 kB/s \n",
            "\u001b[?25hCollecting torchaudio==0.8.0\n",
            "  Downloading torchaudio-0.8.0-cp37-cp37m-manylinux1_x86_64.whl (1.9 MB)\n",
            "\u001b[K     |████████████████████████████████| 1.9 MB 5.3 MB/s \n",
            "\u001b[?25hRequirement already satisfied: numpy in /usr/local/lib/python3.7/dist-packages (from torch==1.8.0+cu111) (1.19.5)\n",
            "Requirement already satisfied: typing-extensions in /usr/local/lib/python3.7/dist-packages (from torch==1.8.0+cu111) (3.10.0.2)\n",
            "Requirement already satisfied: pillow>=4.1.1 in /usr/local/lib/python3.7/dist-packages (from torchvision==0.9.0+cu111) (7.1.2)\n",
            "Installing collected packages: torch, torchvision, torchaudio\n",
            "  Attempting uninstall: torch\n",
            "    Found existing installation: torch 1.10.0+cu111\n",
            "    Uninstalling torch-1.10.0+cu111:\n",
            "      Successfully uninstalled torch-1.10.0+cu111\n",
            "  Attempting uninstall: torchvision\n",
            "    Found existing installation: torchvision 0.11.1+cu111\n",
            "    Uninstalling torchvision-0.11.1+cu111:\n",
            "      Successfully uninstalled torchvision-0.11.1+cu111\n",
            "  Attempting uninstall: torchaudio\n",
            "    Found existing installation: torchaudio 0.10.0+cu111\n",
            "    Uninstalling torchaudio-0.10.0+cu111:\n",
            "      Successfully uninstalled torchaudio-0.10.0+cu111\n",
            "\u001b[31mERROR: pip's dependency resolver does not currently take into account all the packages that are installed. This behaviour is the source of the following dependency conflicts.\n",
            "torchtext 0.11.0 requires torch==1.10.0, but you have torch 1.8.0+cu111 which is incompatible.\u001b[0m\n",
            "Successfully installed torch-1.8.0+cu111 torchaudio-0.8.0 torchvision-0.9.0+cu111\n"
          ]
        },
        {
          "output_type": "display_data",
          "data": {
            "application/vnd.colab-display-data+json": {
              "pip_warning": {
                "packages": [
                  "torch",
                  "torchvision"
                ]
              }
            }
          },
          "metadata": {}
        }
      ]
    },
    {
      "cell_type": "code",
      "metadata": {
        "id": "khkLmD7yK_ei",
        "colab": {
          "base_uri": "https://localhost:8080/"
        },
        "outputId": "6912c69f-0976-4f10-934e-b289a91aadec"
      },
      "source": [
        "import numpy as np\n",
        "import matplotlib.pyplot as plt\n",
        "import torch\n",
        "import torch.nn as nn\n",
        "import torch.optim as optim\n",
        "import torch.nn.functional as F\n",
        "%matplotlib inline\n",
        "%config InlineBackend.figure_format='retina'\n",
        "print (\"PyTorch version:[%s].\"%(torch.__version__))\n",
        "device = torch.device('cuda:0' if torch.cuda.is_available() else 'cpu')\n",
        "print (\"device:[%s].\"%(device))"
      ],
      "execution_count": null,
      "outputs": [
        {
          "output_type": "stream",
          "name": "stdout",
          "text": [
            "PyTorch version:[1.8.0+cu111].\n",
            "device:[cuda:0].\n"
          ]
        }
      ]
    },
    {
      "cell_type": "markdown",
      "metadata": {
        "id": "aciwjqf7MsTa"
      },
      "source": [
        "### Dataset\n",
        "\n",
        "Dataset은 [기본 과제] MLP Assignment에서 사용했던 MNIST입니다."
      ]
    },
    {
      "cell_type": "code",
      "metadata": {
        "id": "GojZi6XMLZZ5",
        "colab": {
          "base_uri": "https://localhost:8080/"
        },
        "outputId": "97edb225-a7ab-4100-de93-1cbbeaa837f1"
      },
      "source": [
        "from torchvision import datasets,transforms\n",
        "mnist_train = datasets.MNIST(root='./data/',train=True,transform=transforms.ToTensor(),download=True)\n",
        "mnist_test = datasets.MNIST(root='./data/',train=False,transform=transforms.ToTensor(),download=True)\n",
        "print (\"mnist_train:\\n\",mnist_train,\"\\n\")\n",
        "print (\"mnist_test:\\n\",mnist_test,\"\\n\")\n",
        "print (\"Done.\")"
      ],
      "execution_count": null,
      "outputs": [
        {
          "output_type": "stream",
          "name": "stdout",
          "text": [
            "Using downloaded and verified file: ./data/MNIST/raw/train-images-idx3-ubyte.gz\n",
            "Extracting ./data/MNIST/raw/train-images-idx3-ubyte.gz to ./data/MNIST/raw\n",
            "Using downloaded and verified file: ./data/MNIST/raw/train-labels-idx1-ubyte.gz\n",
            "Extracting ./data/MNIST/raw/train-labels-idx1-ubyte.gz to ./data/MNIST/raw\n",
            "Using downloaded and verified file: ./data/MNIST/raw/t10k-images-idx3-ubyte.gz\n",
            "Extracting ./data/MNIST/raw/t10k-images-idx3-ubyte.gz to ./data/MNIST/raw\n",
            "Using downloaded and verified file: ./data/MNIST/raw/t10k-labels-idx1-ubyte.gz\n",
            "Extracting ./data/MNIST/raw/t10k-labels-idx1-ubyte.gz to ./data/MNIST/raw\n",
            "Processing...\n"
          ]
        },
        {
          "output_type": "stream",
          "name": "stderr",
          "text": [
            "/usr/local/lib/python3.7/dist-packages/torchvision/datasets/mnist.py:479: UserWarning: The given NumPy array is not writeable, and PyTorch does not support non-writeable tensors. This means you can write to the underlying (supposedly non-writeable) NumPy array using the tensor. You may want to copy the array to protect its data or make it writeable before converting it to a tensor. This type of warning will be suppressed for the rest of this program. (Triggered internally at  /pytorch/torch/csrc/utils/tensor_numpy.cpp:143.)\n",
            "  return torch.from_numpy(parsed.astype(m[2], copy=False)).view(*s)\n"
          ]
        },
        {
          "output_type": "stream",
          "name": "stdout",
          "text": [
            "Done!\n",
            "mnist_train:\n",
            " Dataset MNIST\n",
            "    Number of datapoints: 60000\n",
            "    Root location: ./data/\n",
            "    Split: Train\n",
            "    StandardTransform\n",
            "Transform: ToTensor() \n",
            "\n",
            "mnist_test:\n",
            " Dataset MNIST\n",
            "    Number of datapoints: 10000\n",
            "    Root location: ./data/\n",
            "    Split: Test\n",
            "    StandardTransform\n",
            "Transform: ToTensor() \n",
            "\n",
            "Done.\n"
          ]
        }
      ]
    },
    {
      "cell_type": "markdown",
      "metadata": {
        "id": "vD9uNmGDN3Fx"
      },
      "source": [
        "### Data Iterator"
      ]
    },
    {
      "cell_type": "code",
      "metadata": {
        "id": "kt2NQt92LaP8",
        "colab": {
          "base_uri": "https://localhost:8080/"
        },
        "outputId": "b8ab4e00-2854-478e-b544-718914404280"
      },
      "source": [
        "BATCH_SIZE = 256\n",
        "train_iter = torch.utils.data.DataLoader(mnist_train,batch_size=BATCH_SIZE,shuffle=True,num_workers=1)\n",
        "test_iter = torch.utils.data.DataLoader(mnist_test,batch_size=BATCH_SIZE,shuffle=True,num_workers=1)\n",
        "print (\"Done.\")"
      ],
      "execution_count": null,
      "outputs": [
        {
          "output_type": "stream",
          "name": "stdout",
          "text": [
            "Done.\n"
          ]
        }
      ]
    },
    {
      "cell_type": "markdown",
      "metadata": {
        "id": "Kx8FI2g3ONca"
      },
      "source": [
        "### Define Model"
      ]
    },
    {
      "cell_type": "code",
      "metadata": {
        "id": "hMBOgjaVLalV",
        "colab": {
          "base_uri": "https://localhost:8080/"
        },
        "outputId": "1951d573-5258-49fe-e65d-23702fa33475"
      },
      "source": [
        "class ConvolutionalNeuralNetworkClass(nn.Module):\n",
        "    \"\"\"\n",
        "        Convolutional Neural Network (CNN) Class\n",
        "    \"\"\"\n",
        "    def __init__(self,name='cnn',xdim=[1,28,28],\n",
        "                 ksize=3,cdims=[32,64],hdims=[1024,128],ydim=10,\n",
        "                 USE_BATCHNORM=False):\n",
        "        super(ConvolutionalNeuralNetworkClass,self).__init__()\n",
        "        self.name = name\n",
        "        self.xdim = xdim\n",
        "        self.ksize = ksize\n",
        "        self.cdims = cdims\n",
        "        self.hdims = hdims\n",
        "        self.ydim = ydim\n",
        "        self.USE_BATCHNORM = USE_BATCHNORM\n",
        "\n",
        "        # Convolutional layers\n",
        "        self.layers = []\n",
        "        prev_cdim = self.xdim[0]\n",
        "        for cdim in self.cdims: # for each hidden layer\n",
        "            self.layers.append(\n",
        "                nn.Conv2d(\n",
        "                    # FILL IN HERE\n",
        "                    in_channels=prev_cdim,\n",
        "                    out_channels=cdim,\n",
        "                    kernel_size=self.ksize,\n",
        "                    stride=(1,1),\n",
        "                    padding=self.ksize//2\n",
        "                ) # convlution \n",
        "            )\n",
        "            if self.USE_BATCHNORM:\n",
        "                self.layers.append(nn.BatchNorm2d(cdim)) # batch-norm\n",
        "            self.layers.append(nn.ReLU(True))  # activation\n",
        "            self.layers.append(nn.MaxPool2d(kernel_size=(2,2), stride=(2,2))) # max-pooling \n",
        "            self.layers.append(nn.Dropout2d(p=0.5))  # dropout\n",
        "            prev_cdim = cdim\n",
        "\n",
        "        # Dense layers\n",
        "        self.layers.append(nn.Flatten())\n",
        "        prev_hdim = prev_cdim*(self.xdim[1]//(2**len(self.cdims)))*(self.xdim[2]//(2**len(self.cdims)))\n",
        "        for hdim in self.hdims:\n",
        "            self.layers.append(nn.Linear(\n",
        "                # FILL IN HERE\n",
        "                prev_hdim, hdim, bias=True))\n",
        "            self.layers.append(nn.ReLU(True))  # activation\n",
        "            prev_hdim = hdim\n",
        "        # Final layer (without activation)\n",
        "        self.layers.append(nn.Linear(prev_hdim,self.ydim,bias=True))\n",
        "\n",
        "        # Concatenate all layers \n",
        "        self.net = nn.Sequential()\n",
        "        for l_idx,layer in enumerate(self.layers):\n",
        "            layer_name = \"%s_%02d\"%(type(layer).__name__.lower(),l_idx)\n",
        "            self.net.add_module(layer_name,layer)\n",
        "        self.init_param() # initialize parameters\n",
        "        \n",
        "    def init_param(self):\n",
        "        for m in self.modules():\n",
        "            if isinstance(m,nn.Conv2d): # init conv\n",
        "                nn.init.kaiming_normal_(m.weight)\n",
        "                nn.init.zeros_(m.bias)\n",
        "            elif isinstance(m,nn.BatchNorm2d): # init BN\n",
        "                nn.init.constant_(m.weight,1)\n",
        "                nn.init.constant_(m.bias,0)\n",
        "            elif isinstance(m,nn.Linear): # lnit dense\n",
        "                nn.init.kaiming_normal_(m.weight)\n",
        "                nn.init.zeros_(m.bias)\n",
        "            \n",
        "    def forward(self,x):\n",
        "        return self.net(x)\n",
        "\n",
        "C = ConvolutionalNeuralNetworkClass(\n",
        "    name='cnn',xdim=[1,28,28],ksize=3,cdims=[32,64],\n",
        "    hdims=[32],ydim=10).to(device)\n",
        "loss = nn.CrossEntropyLoss()\n",
        "optm = optim.Adam(C.parameters(),lr=1e-3)\n",
        "print (\"Done.\")"
      ],
      "execution_count": null,
      "outputs": [
        {
          "output_type": "stream",
          "name": "stdout",
          "text": [
            "Done.\n"
          ]
        }
      ]
    },
    {
      "cell_type": "markdown",
      "metadata": {
        "id": "Gd4GqagEaaxP"
      },
      "source": [
        "### Check Parameters"
      ]
    },
    {
      "cell_type": "code",
      "metadata": {
        "id": "s9JhupRpaahm",
        "colab": {
          "base_uri": "https://localhost:8080/"
        },
        "outputId": "77f70c32-0ec7-4e34-e19e-48882d9f2922"
      },
      "source": [
        "np.set_printoptions(precision=3)\n",
        "n_param = 0\n",
        "for p_idx,(param_name,param) in enumerate(C.named_parameters()):\n",
        "    if param.requires_grad:\n",
        "        param_numpy = param.detach().cpu().numpy() # to numpy array \n",
        "        n_param += len(param_numpy.reshape(-1))\n",
        "        print (\"[%d] name:[%s] shape:[%s].\"%(p_idx,param_name,param_numpy.shape))\n",
        "        print (\"    val:%s\"%(param_numpy.reshape(-1)[:5]))\n",
        "print (\"Total number of parameters:[%s].\"%(format(n_param,',d')))"
      ],
      "execution_count": null,
      "outputs": [
        {
          "output_type": "stream",
          "name": "stdout",
          "text": [
            "[0] name:[net.conv2d_00.weight] shape:[(32, 1, 3, 3)].\n",
            "    val:[ 0.227 -0.377 -0.345 -1.084 -1.192]\n",
            "[1] name:[net.conv2d_00.bias] shape:[(32,)].\n",
            "    val:[0. 0. 0. 0. 0.]\n",
            "[2] name:[net.conv2d_04.weight] shape:[(64, 32, 3, 3)].\n",
            "    val:[ 0.058  0.082 -0.063 -0.029  0.158]\n",
            "[3] name:[net.conv2d_04.bias] shape:[(64,)].\n",
            "    val:[0. 0. 0. 0. 0.]\n",
            "[4] name:[net.linear_09.weight] shape:[(32, 3136)].\n",
            "    val:[-0.02  -0.009 -0.045 -0.002 -0.039]\n",
            "[5] name:[net.linear_09.bias] shape:[(32,)].\n",
            "    val:[0. 0. 0. 0. 0.]\n",
            "[6] name:[net.linear_11.weight] shape:[(10, 32)].\n",
            "    val:[ 0.158  0.176 -0.063 -0.41  -0.162]\n",
            "[7] name:[net.linear_11.bias] shape:[(10,)].\n",
            "    val:[0. 0. 0. 0. 0.]\n",
            "Total number of parameters:[119,530].\n"
          ]
        }
      ]
    },
    {
      "cell_type": "markdown",
      "metadata": {
        "id": "i574DsE8Z039"
      },
      "source": [
        "### Simple Forward Path of the CNN Model"
      ]
    },
    {
      "cell_type": "code",
      "metadata": {
        "id": "cJl7XSQMORAZ",
        "colab": {
          "base_uri": "https://localhost:8080/"
        },
        "outputId": "9f76d558-c8d1-453d-d3d0-3c1dccff0d35"
      },
      "source": [
        "np.set_printoptions(precision=3)\n",
        "torch.set_printoptions(precision=3)\n",
        "x_numpy = np.random.rand(2,1,28,28)\n",
        "x_torch = torch.from_numpy(x_numpy).float().to(device)\n",
        "y_torch = C.forward(x_torch) # forward path\n",
        "y_numpy = y_torch.detach().cpu().numpy() # torch tensor to numpy array\n",
        "print (\"x_torch:\\n\",x_torch)\n",
        "print (\"y_torch:\\n\",y_torch)\n",
        "print (\"\\nx_numpy %s:\\n\"%(x_numpy.shape,),x_numpy)\n",
        "print (\"y_numpy %s:\\n\"%(y_numpy.shape,),y_numpy)"
      ],
      "execution_count": null,
      "outputs": [
        {
          "output_type": "stream",
          "name": "stdout",
          "text": [
            "x_torch:\n",
            " tensor([[[[0.354, 0.181, 0.957,  ..., 0.492, 0.422, 0.627],\n",
            "          [0.714, 0.221, 0.058,  ..., 0.639, 0.427, 0.139],\n",
            "          [0.192, 0.036, 0.086,  ..., 0.546, 0.437, 0.067],\n",
            "          ...,\n",
            "          [0.808, 0.919, 0.626,  ..., 0.575, 0.296, 0.674],\n",
            "          [0.087, 0.326, 0.020,  ..., 0.521, 0.564, 0.778],\n",
            "          [0.935, 0.167, 0.610,  ..., 0.028, 0.797, 0.181]]],\n",
            "\n",
            "\n",
            "        [[[0.057, 0.208, 0.672,  ..., 0.611, 0.764, 0.373],\n",
            "          [0.123, 0.528, 0.203,  ..., 0.210, 0.152, 0.417],\n",
            "          [0.266, 0.112, 0.023,  ..., 0.234, 0.357, 0.692],\n",
            "          ...,\n",
            "          [0.134, 0.892, 0.050,  ..., 0.897, 0.376, 0.766],\n",
            "          [0.766, 0.025, 0.003,  ..., 0.664, 0.426, 0.654],\n",
            "          [0.218, 0.938, 0.707,  ..., 0.658, 0.613, 0.873]]]], device='cuda:0')\n",
            "y_torch:\n",
            " tensor([[-1.930,  2.161,  0.661,  2.098,  1.789, -0.340, -0.650,  0.238, -0.020,\n",
            "          1.705],\n",
            "        [-3.286,  2.158, -1.379,  4.798,  1.770,  2.392, -3.679,  0.195, -1.231,\n",
            "          1.718]], device='cuda:0', grad_fn=<AddmmBackward>)\n",
            "\n",
            "x_numpy (2, 1, 28, 28):\n",
            " [[[[0.354 0.181 0.957 ... 0.492 0.422 0.627]\n",
            "   [0.714 0.221 0.058 ... 0.639 0.427 0.139]\n",
            "   [0.192 0.036 0.086 ... 0.546 0.437 0.067]\n",
            "   ...\n",
            "   [0.808 0.919 0.626 ... 0.575 0.296 0.674]\n",
            "   [0.087 0.326 0.02  ... 0.521 0.564 0.778]\n",
            "   [0.935 0.167 0.61  ... 0.028 0.797 0.181]]]\n",
            "\n",
            "\n",
            " [[[0.057 0.208 0.672 ... 0.611 0.764 0.373]\n",
            "   [0.123 0.528 0.203 ... 0.21  0.152 0.417]\n",
            "   [0.266 0.112 0.023 ... 0.234 0.357 0.692]\n",
            "   ...\n",
            "   [0.134 0.892 0.05  ... 0.897 0.376 0.766]\n",
            "   [0.766 0.025 0.003 ... 0.664 0.426 0.654]\n",
            "   [0.218 0.938 0.707 ... 0.658 0.613 0.873]]]]\n",
            "y_numpy (2, 10):\n",
            " [[-1.93   2.161  0.661  2.098  1.789 -0.34  -0.65   0.238 -0.02   1.705]\n",
            " [-3.286  2.158 -1.379  4.798  1.77   2.392 -3.679  0.195 -1.231  1.718]]\n"
          ]
        }
      ]
    },
    {
      "cell_type": "markdown",
      "metadata": {
        "id": "9-qCaXAKcOLx"
      },
      "source": [
        "### Evaluation Function"
      ]
    },
    {
      "cell_type": "code",
      "metadata": {
        "id": "q9LmS7OqcNzh",
        "colab": {
          "base_uri": "https://localhost:8080/"
        },
        "outputId": "e6bc578c-7e20-4aac-f35d-38f651e3dbec"
      },
      "source": [
        "def func_eval(model,data_iter,device):\n",
        "    with torch.no_grad():\n",
        "        n_total,n_correct = 0,0\n",
        "        model.eval() # evaluate (affects DropOut and BN)\n",
        "        for batch_in,batch_out in data_iter:\n",
        "            y_trgt = batch_out.to(device)\n",
        "            model_pred = model(batch_in.view(-1,1,28,28).to(device))\n",
        "            _,y_pred = torch.max(model_pred.data,1)\n",
        "            n_correct += (y_pred==y_trgt).sum().item()\n",
        "            n_total += batch_in.size(0)\n",
        "        val_accr = (n_correct/n_total)\n",
        "        model.train() # back to train mode \n",
        "    return val_accr\n",
        "print (\"Done\")"
      ],
      "execution_count": null,
      "outputs": [
        {
          "output_type": "stream",
          "name": "stdout",
          "text": [
            "Done\n"
          ]
        }
      ]
    },
    {
      "cell_type": "markdown",
      "metadata": {
        "id": "iy7XZ21CiNZA"
      },
      "source": [
        "### Initial Evaluation"
      ]
    },
    {
      "cell_type": "code",
      "metadata": {
        "id": "EMR1DaAyLa5Y",
        "colab": {
          "base_uri": "https://localhost:8080/"
        },
        "outputId": "04fbe5ea-3ab9-4d1c-9c52-b6d5e5bf9295"
      },
      "source": [
        "C.init_param() # initialize parameters\n",
        "train_accr = func_eval(C,train_iter,device)\n",
        "test_accr = func_eval(C,test_iter,device)\n",
        "print (\"train_accr:[%.3f] test_accr:[%.3f].\"%(train_accr,test_accr))"
      ],
      "execution_count": null,
      "outputs": [
        {
          "output_type": "stream",
          "name": "stdout",
          "text": [
            "train_accr:[0.085] test_accr:[0.091].\n"
          ]
        }
      ]
    },
    {
      "cell_type": "markdown",
      "metadata": {
        "id": "c6s_S4BIipcT"
      },
      "source": [
        "### Train"
      ]
    },
    {
      "cell_type": "code",
      "metadata": {
        "id": "2LNJOJVCiO3k",
        "colab": {
          "base_uri": "https://localhost:8080/"
        },
        "outputId": "ccfd6a0f-08cf-4853-afac-e7f6e5827dbb"
      },
      "source": [
        "print (\"Start training.\")\n",
        "C.init_param() # initialize parameters\n",
        "C.train() # to train mode \n",
        "EPOCHS,print_every = 10,1\n",
        "for epoch in range(EPOCHS):\n",
        "    loss_val_sum = 0\n",
        "    for batch_in,batch_out in train_iter:\n",
        "        # Forward path\n",
        "        y_pred = C.forward(batch_in.view(-1,1,28,28).to(device))\n",
        "        loss_out = loss(y_pred,batch_out.to(device))\n",
        "        # Update\n",
        "        optm.zero_grad()      # reset gradient \n",
        "        loss_out.backward()      # backpropagate\n",
        "        optm.step()      # optimizer update\n",
        "        loss_val_sum += loss_out\n",
        "    loss_val_avg = loss_val_sum/len(train_iter)\n",
        "    # Print\n",
        "    if ((epoch%print_every)==0) or (epoch==(EPOCHS-1)):\n",
        "        train_accr = func_eval(C,train_iter,device)\n",
        "        test_accr = func_eval(C,test_iter,device)\n",
        "        print (\"epoch:[%d] loss:[%.3f] train_accr:[%.3f] test_accr:[%.3f].\"%\n",
        "               (epoch,loss_val_avg,train_accr,test_accr))\n",
        "print (\"Done\")"
      ],
      "execution_count": null,
      "outputs": [
        {
          "output_type": "stream",
          "name": "stdout",
          "text": [
            "Start training.\n",
            "epoch:[0] loss:[0.611] train_accr:[0.953] test_accr:[0.955].\n",
            "epoch:[1] loss:[0.195] train_accr:[0.971] test_accr:[0.973].\n",
            "epoch:[2] loss:[0.142] train_accr:[0.977] test_accr:[0.978].\n",
            "epoch:[3] loss:[0.120] train_accr:[0.980] test_accr:[0.980].\n",
            "epoch:[4] loss:[0.103] train_accr:[0.983] test_accr:[0.981].\n",
            "epoch:[5] loss:[0.093] train_accr:[0.986] test_accr:[0.985].\n",
            "epoch:[6] loss:[0.086] train_accr:[0.987] test_accr:[0.984].\n",
            "epoch:[7] loss:[0.081] train_accr:[0.988] test_accr:[0.987].\n",
            "epoch:[8] loss:[0.073] train_accr:[0.989] test_accr:[0.988].\n",
            "epoch:[9] loss:[0.072] train_accr:[0.990] test_accr:[0.986].\n",
            "Done\n"
          ]
        }
      ]
    },
    {
      "cell_type": "markdown",
      "metadata": {
        "id": "ceHT-OdujWMS"
      },
      "source": [
        "### Test"
      ]
    },
    {
      "cell_type": "code",
      "metadata": {
        "id": "x1CZBbCwjMh7",
        "colab": {
          "base_uri": "https://localhost:8080/",
          "height": 608
        },
        "outputId": "12287105-00d4-42b3-c295-ff217e9ccf3d"
      },
      "source": [
        "n_sample = 25\n",
        "sample_indices = np.random.choice(len(mnist_test.targets),n_sample,replace=False)\n",
        "test_x = mnist_test.data[sample_indices]\n",
        "test_y = mnist_test.targets[sample_indices]\n",
        "with torch.no_grad():\n",
        "    C.eval() # to evaluation mode \n",
        "    y_pred = C.forward(test_x.view(-1,1,28,28).type(torch.float).to(device)/255.)\n",
        "y_pred = y_pred.argmax(axis=1)\n",
        "plt.figure(figsize=(10,10))\n",
        "for idx in range(n_sample):\n",
        "    plt.subplot(5, 5, idx+1)\n",
        "    plt.imshow(test_x[idx], cmap='gray')\n",
        "    plt.axis('off')\n",
        "    plt.title(\"Pred:%d, Label:%d\"%(y_pred[idx],test_y[idx]))\n",
        "plt.show()    \n",
        "print (\"Done\")"
      ],
      "execution_count": null,
      "outputs": [
        {
          "output_type": "display_data",
          "data": {
            "image/png": "[encoded data removed]",
            "text/plain": [
              "<Figure size 720x720 with 25 Axes>"
            ]
          },
          "metadata": {
            "image/png": {
              "width": 569,
              "height": 573
            },
            "needs_background": "light"
          }
        },
        {
          "output_type": "stream",
          "name": "stdout",
          "text": [
            "Done\n"
          ]
        }
      ]
    },
    {
      "cell_type": "code",
      "metadata": {
        "id": "i6poTCYZj4uM"
      },
      "source": [
        ""
      ],
      "execution_count": null,
      "outputs": []
    }
  ]
}