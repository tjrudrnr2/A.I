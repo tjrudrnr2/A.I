{
  "nbformat": 4,
  "nbformat_minor": 0,
  "metadata": {
    "kernelspec": {
      "display_name": "Python 3",
      "language": "python",
      "name": "python3"
    },
    "language_info": {
      "codemirror_mode": {
        "name": "ipython",
        "version": 3
      },
      "file_extension": ".py",
      "mimetype": "text/x-python",
      "name": "python",
      "nbconvert_exporter": "python",
      "pygments_lexer": "ipython3",
      "version": "3.9.2"
    },
    "colab": {
      "name": "7-1. Custom Matplotlib Theme (Dark Mode).ipynb",
      "provenance": [],
      "include_colab_link": true
    }
  },
  "cells": [
    {
      "cell_type": "markdown",
      "metadata": {
        "id": "view-in-github",
        "colab_type": "text"
      },
      "source": [
        "<a href=\"https://colab.research.google.com/github/tjrudrnr2/A.I/blob/main/notebook/7-1Custom_Matplotlib_Theme_(Dark_Mode).ipynb\" target=\"_parent\"><img src=\"https://colab.research.google.com/assets/colab-badge.svg\" alt=\"Open In Colab\"/></a>"
      ]
    },
    {
      "cell_type": "markdown",
      "metadata": {
        "id": "OK5mF0minTcs"
      },
      "source": [
        "> 앞선 강의들에서 배운 시각화를 좀 더 개인의 취향에 맞게 시각화를 하는 방법\n",
        "\n",
        "Matplotlib을 커스텀할 때, 기본적으로 변경할 수 있는 요소를 다크모드 시각화를 만들며 살펴봅시다."
      ]
    },
    {
      "cell_type": "code",
      "metadata": {
        "id": "DrICi8QunTcu"
      },
      "source": [
        "import numpy as np\n",
        "import pandas as pd \n",
        "import matplotlib as mpl\n",
        "import matplotlib.pyplot as plt\n",
        "import seaborn as sns"
      ],
      "execution_count": null,
      "outputs": []
    },
    {
      "cell_type": "markdown",
      "metadata": {
        "id": "wnuzmdpknTcw"
      },
      "source": [
        "## 1. 색의 선정\n",
        "\n",
        "- https://developer.apple.com/design/human-interface-guidelines/ios/visual-design/color\n",
        "\n",
        "색은 cycler를 기본으로 사용하여 전체적인 color palette를 바꿀 수 있습니다. "
      ]
    },
    {
      "cell_type": "code",
      "metadata": {
        "id": "4ghZWHj1nTcw"
      },
      "source": [
        "from cycler import cycler\n",
        "\n",
        "raw_light_palette = [\n",
        "    (0, 122, 255), # Blue\n",
        "    (255, 149, 0), # Orange\n",
        "    (52, 199, 89), # Green\n",
        "    (255, 59, 48), # Red\n",
        "    (175, 82, 222),# Purple\n",
        "    (255, 45, 85), # Pink\n",
        "    (88, 86, 214), # Indigo\n",
        "    (90, 200, 250),# Teal\n",
        "    (255, 204, 0)  # Yellow\n",
        "]\n",
        "\n",
        "raw_dark_palette = [\n",
        "    (10, 132, 255), # Blue\n",
        "    (255, 159, 10), # Orange\n",
        "    (48, 209, 88),  # Green\n",
        "    (255, 69, 58),  # Red\n",
        "    (191, 90, 242), # Purple\n",
        "    (94, 92, 230),  # Indigo\n",
        "    (255, 55, 95),  # Pink\n",
        "    (100, 210, 255),# Teal\n",
        "    (255, 214, 10)  # Yellow\n",
        "]\n",
        "\n",
        "raw_gray_light_palette = [\n",
        "    (142, 142, 147),# Gray\n",
        "    (174, 174, 178),# Gray (2)\n",
        "    (199, 199, 204),# Gray (3)\n",
        "    (209, 209, 214),# Gray (4)\n",
        "    (229, 229, 234),# Gray (5)\n",
        "    (242, 242, 247),# Gray (6)\n",
        "]\n",
        "\n",
        "raw_gray_dark_palette = [\n",
        "    (142, 142, 147),# Gray\n",
        "    (99, 99, 102),  # Gray (2)\n",
        "    (72, 72, 74),   # Gray (3)\n",
        "    (58, 58, 60),   # Gray (4)\n",
        "    (44, 44, 46),   # Gray (5)\n",
        "    (28, 28, 39),   # Gray (6)\n",
        "]\n",
        "\n",
        "\n",
        "light_palette = np.array(raw_light_palette)/255\n",
        "dark_palette = np.array(raw_dark_palette)/255\n",
        "gray_light_palette = np.array(raw_gray_light_palette)/255\n",
        "gray_dark_palette = np.array(raw_gray_dark_palette)/255"
      ],
      "execution_count": null,
      "outputs": []
    },
    {
      "cell_type": "code",
      "metadata": {
        "id": "8Y9hoZzdnTcw"
      },
      "source": [
        "print('Light mode palette')\n",
        "sns.palplot(light_palette)\n",
        "sns.palplot(gray_light_palette)\n",
        "\n",
        "print('Dark mode palette')\n",
        "sns.palplot(dark_palette)\n",
        "sns.palplot(gray_dark_palette)"
      ],
      "execution_count": null,
      "outputs": []
    },
    {
      "cell_type": "markdown",
      "metadata": {
        "id": "kkexDutxnTcx"
      },
      "source": [
        "위에서 선언한 다크모드 색상을 사용하여 전체적인 colormap을 바꿉니다."
      ]
    },
    {
      "cell_type": "code",
      "metadata": {
        "id": "jvzo3EXdnTcy"
      },
      "source": [
        "# cmap 수정\n",
        "mpl.rcParams['axes.prop_cycle'] = cycler('color',dark_palette)"
      ],
      "execution_count": null,
      "outputs": []
    },
    {
      "cell_type": "markdown",
      "metadata": {
        "id": "GS9wzdHcnTcy"
      },
      "source": [
        "다크 모드의 전체적인 배경색을 바꿔주기 위해 배경 관련 색들을 바꿔줍니다."
      ]
    },
    {
      "cell_type": "code",
      "metadata": {
        "id": "QxdijCtanTcz"
      },
      "source": [
        "# 전체적인 배경색 수정\n",
        "mpl.rcParams['figure.facecolor']  = gray_dark_palette[-2]\n",
        "mpl.rcParams['figure.edgecolor']  = gray_dark_palette[-2]\n",
        "mpl.rcParams['axes.facecolor'] =  gray_dark_palette[-2]\n"
      ],
      "execution_count": null,
      "outputs": []
    },
    {
      "cell_type": "markdown",
      "metadata": {
        "id": "KiizdLPsnTcz"
      },
      "source": [
        "기존에 검정이 었던 텍스트와 테두리는 모두 흰색으로 변경합니다."
      ]
    },
    {
      "cell_type": "code",
      "metadata": {
        "id": "K7ZbhLfbnTcz"
      },
      "source": [
        "# 사용되는 텍스트 색상 흰색으로 수정\n",
        "white_color = gray_light_palette[-2]\n",
        "mpl.rcParams['text.color'] = white_color\n",
        "mpl.rcParams['axes.labelcolor'] = white_color\n",
        "mpl.rcParams['axes.edgecolor'] = white_color\n",
        "mpl.rcParams['xtick.color'] = white_color\n",
        "mpl.rcParams['ytick.color'] = white_color"
      ],
      "execution_count": null,
      "outputs": []
    },
    {
      "cell_type": "markdown",
      "metadata": {
        "id": "vCtaSEPcnTcz"
      },
      "source": [
        "꼭 색상이 아니더라도 수정하면 종종 괜찮은 해상도를 높여줍니다. 해상도가 높을수록 차트가 그려지는 데 필요한 시간이 증가하므로 너무 높일 필요는 없습니다. 또한 이미지만 저장할 때 해상도를 설정할 수 있습니다."
      ]
    },
    {
      "cell_type": "code",
      "metadata": {
        "id": "OC-293RanTc0"
      },
      "source": [
        "# 해상도 조정\n",
        "mpl.rcParams['figure.dpi'] = 200"
      ],
      "execution_count": null,
      "outputs": []
    },
    {
      "cell_type": "markdown",
      "metadata": {
        "id": "A9iSUQKanTc0"
      },
      "source": [
        "일반적인 시각화는 좌측에서 우측으로, 상단에서 하단으로 시선이 이동하며 이에 따라 상단과 우측을 제거하면 훨씬 더 깔끔한 느낌을 줄 수 있습니다."
      ]
    },
    {
      "cell_type": "code",
      "metadata": {
        "id": "O_PDxgDDnTc0"
      },
      "source": [
        "# ax의 우측과 상단 지우기\n",
        "mpl.rcParams['axes.spines.top'] = False\n",
        "mpl.rcParams['axes.spines.right'] = False"
      ],
      "execution_count": null,
      "outputs": []
    },
    {
      "cell_type": "markdown",
      "metadata": {
        "id": "EK91BPUDnTc0"
      },
      "source": [
        "## 2. Facet + Dark Mode를 활용한 예시"
      ]
    },
    {
      "cell_type": "code",
      "metadata": {
        "id": "wuZGLn9QnTc0"
      },
      "source": [
        "student = pd.read_csv('./StudentsPerformance.csv')\n",
        "iris = pd.read_csv('./Iris.csv')"
      ],
      "execution_count": null,
      "outputs": []
    },
    {
      "cell_type": "markdown",
      "metadata": {
        "id": "w_Sg1ByKnTc1"
      },
      "source": [
        "### 2-1. Scatter Plot"
      ]
    },
    {
      "cell_type": "code",
      "metadata": {
        "id": "He5sujm0nTc1"
      },
      "source": [
        "def score_distribution(f1, f2):\n",
        "    fig = plt.figure(figsize=(12, 10),dpi=150)\n",
        "\n",
        "    gs = fig.add_gridspec(5, 6)\n",
        "\n",
        "    ax = fig.add_subplot(gs[:,:5])\n",
        "    ax.set_aspect(1)\n",
        "\n",
        "    for group in sorted(student['race/ethnicity'].unique()):\n",
        "        student_sub = student[student['race/ethnicity']==group]\n",
        "        ax.scatter(student_sub[f'{f1} score'], student_sub[f'{f2} score'], \n",
        "                   s=20, alpha=0.6, \n",
        "                   linewidth=0.5, \n",
        "                   label=group\n",
        "                  )\n",
        "\n",
        "    sub_axes = [None] * 5\n",
        "    for idx, group in enumerate(sorted(student['race/ethnicity'].unique())):\n",
        "        sub_axes[idx] = fig.add_subplot(gs[idx,5], aspect=1)\n",
        "        sub_axes[idx].scatter(student[student['race/ethnicity']!=group][f'{f1} score'], student[student['race/ethnicity']!=group][f'{f2} score'], \n",
        "                              s=5, alpha=0.2, \n",
        "                              color= white_color,\n",
        "                              linewidth=0.7, \n",
        "                              label=group,\n",
        "                              zorder=5\n",
        "                  )\n",
        "        sub_axes[idx].scatter(student[student['race/ethnicity']==group][f'{f1} score'], student[student['race/ethnicity']==group][f'{f2} score'], \n",
        "                              s=5, alpha=0.6, \n",
        "                              color= dark_palette[idx],\n",
        "                              linewidth=0.5, \n",
        "                              label=group,\n",
        "                              zorder=10\n",
        "                  )\n",
        "        cnt = (student['race/ethnicity']==group).sum()\n",
        "        sub_axes[idx].set_title(f'{group} ({cnt})', loc='left', fontsize=9)\n",
        "        sub_axes[idx].set_xticks([])\n",
        "        sub_axes[idx].set_yticks([])\n",
        "\n",
        "    for axes in [ax] + sub_axes:\n",
        "        axes.set_xlim(-3, 103)\n",
        "        axes.set_ylim(-3, 103)\n",
        "\n",
        "    ax.set_title(f'{f1.capitalize()} & {f2.capitalize()} Score Distribution', loc='left', fontsize=15, fontweight='bold')    \n",
        "    ax.set_xlabel(f'{f1.capitalize()} Score', fontweight='medium')\n",
        "    ax.set_ylabel(f'{f2.capitalize()} Score', fontweight='medium')\n",
        "    ax.legend(title='Race/Ethnicity', fontsize=10)\n",
        "\n",
        "    plt.show()"
      ],
      "execution_count": null,
      "outputs": []
    },
    {
      "cell_type": "code",
      "metadata": {
        "id": "YB4oIZBAnTc1"
      },
      "source": [
        "score_distribution('math', 'reading')"
      ],
      "execution_count": null,
      "outputs": []
    },
    {
      "cell_type": "markdown",
      "metadata": {
        "id": "kMb8BG58nTc2"
      },
      "source": [
        "### 2-2. KDE Plot"
      ]
    },
    {
      "cell_type": "code",
      "metadata": {
        "id": "QS6XFOLlnTc2"
      },
      "source": [
        "def score_distribution_kde(subject):\n",
        "    fig = plt.figure(figsize=(10, 7))\n",
        "    gs = fig.add_gridspec(6, 5)\n",
        "    ax = fig.add_subplot(gs[:5,:])\n",
        "\n",
        "    sns.kdeplot(x=subject, hue='race/ethnicity', data=student,\n",
        "                hue_order=sorted(student['race/ethnicity'].unique()),\n",
        "                bw_adjust=0.4,\n",
        "                fill=True,ax=ax)\n",
        "    \n",
        "\n",
        "    sub_axes = [None] * 5\n",
        "    for idx, group in enumerate(sorted(student['race/ethnicity'].unique())):\n",
        "        sub_axes[idx] = fig.add_subplot(gs[5,idx])\n",
        "        sns.kdeplot(x=subject, data=student,\n",
        "                    alpha=0.2, \n",
        "                  color= white_color,\n",
        "                  linewidth=0.7, \n",
        "                  label=group, fill=True, bw_adjust=0.4,\n",
        "                  zorder=5, ax=sub_axes[idx]\n",
        "                  )\n",
        "\n",
        "        sns.kdeplot(x=subject, data=student[student['race/ethnicity']==group],\n",
        "                    alpha=0.6, \n",
        "                      color= dark_palette[idx],\n",
        "                      linewidth=0.5, \n",
        "                      label=group, fill=True,bw_adjust=0.4,\n",
        "                      zorder=10, ax=sub_axes[idx]\n",
        "                  )\n",
        "        cnt = (student['race/ethnicity']==group).sum()\n",
        "        sub_axes[idx].set_xticks([])\n",
        "        sub_axes[idx].set_yticks([])\n",
        "        sub_axes[idx].set_xlabel('')\n",
        "        sub_axes[idx].set_ylabel('')\n",
        "\n",
        "    ax.set_title(subject.capitalize(), loc='left', fontweight='bold', fontsize=13)\n",
        "\n",
        "    fig.tight_layout()\n",
        "    plt.show()"
      ],
      "execution_count": null,
      "outputs": []
    },
    {
      "cell_type": "code",
      "metadata": {
        "id": "sG0nkY3lnTc2"
      },
      "source": [
        "score_distribution_kde('math score')"
      ],
      "execution_count": null,
      "outputs": []
    },
    {
      "cell_type": "markdown",
      "metadata": {
        "id": "9lYe9kKnnTc2"
      },
      "source": [
        "### 2-3. Pairplot"
      ]
    },
    {
      "cell_type": "code",
      "metadata": {
        "id": "X7XeNnqenTc2"
      },
      "source": [
        "sns.pairplot(iris, hue='Species', corner=True)"
      ],
      "execution_count": null,
      "outputs": []
    },
    {
      "cell_type": "markdown",
      "metadata": {
        "id": "aTCDLYW7nTc3"
      },
      "source": [
        "### 2-4. Plotly 3D Plot"
      ]
    },
    {
      "cell_type": "code",
      "metadata": {
        "id": "kCA_vzt5nTc3"
      },
      "source": [
        "import plotly.graph_objects as go\n",
        "\n",
        "x, y, z = student['math score'], student['reading score'], student['writing score']\n",
        "gtc = dict(zip(sorted(student['race/ethnicity'].unique()), raw_dark_palette[:5]))\n",
        "color = student['race/ethnicity'].map(gtc)\n",
        "\n",
        "\n",
        "fig = go.Figure(data=[go.Scatter3d(\n",
        "    x=x,\n",
        "    y=y,\n",
        "    z=z,\n",
        "    mode='markers',\n",
        "    marker=dict(\n",
        "        size=5,\n",
        "        color=color,\n",
        "        opacity=0.8\n",
        "    )\n",
        ")], layout=go.Layout(\n",
        "    plot_bgcolor='rgba(255,0,0,1)',\n",
        "    paper_bgcolor=f'rgb{raw_gray_dark_palette[-2]}',\n",
        "    font=dict(color='white'))\n",
        ")\n",
        "\n",
        "# tight layout\n",
        "fig.update_layout(margin=dict(l=0, r=0, b=0, t=0))\n",
        "fig.update_layout(scene = dict(\n",
        "                    xaxis_title='MATH',\n",
        "                    yaxis_title='READING',\n",
        "                    zaxis_title='WRITING',\n",
        "    \n",
        "                    xaxis = dict(\n",
        "                         gridcolor=\"white\",\n",
        "                         showbackground=False,\n",
        "                         zerolinecolor=\"white\",\n",
        "                        range=[0, 100]\n",
        "                    ),\n",
        "                    yaxis = dict(\n",
        "                        gridcolor=\"white\",\n",
        "                         showbackground=False,\n",
        "                        zerolinecolor=\"white\",\n",
        "                        range=[0, 100]\n",
        "                    ),\n",
        "                    zaxis = dict(\n",
        "                        gridcolor=\"white\",\n",
        "                         showbackground=False,\n",
        "                        zerolinecolor=\"white\",\n",
        "                        range=[0, 100]                    \n",
        "                    )),\n",
        "                    margin=dict(\n",
        "                    r=10, l=10,\n",
        "                    b=10, t=10)\n",
        "                  )\n",
        "\n",
        "camera = dict(\n",
        "    eye=dict(x=1.4, y=1.4, z=1.4)\n",
        ")\n",
        "\n",
        "\n",
        "fig.update_layout(scene_camera=camera)\n",
        "\n",
        "fig.show()"
      ],
      "execution_count": null,
      "outputs": []
    },
    {
      "cell_type": "code",
      "metadata": {
        "id": "yJA_qImBnTc3"
      },
      "source": [
        ""
      ],
      "execution_count": null,
      "outputs": []
    }
  ]
}