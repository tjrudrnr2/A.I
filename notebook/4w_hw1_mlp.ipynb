{
  "nbformat": 4,
  "nbformat_minor": 0,
  "metadata": {
    "colab": {
      "name": "[02_07] mlp.ipynb",
      "provenance": [],
      "collapsed_sections": [],
      "include_colab_link": true
    },
    "kernelspec": {
      "name": "python3",
      "display_name": "Python 3"
    },
    "accelerator": "GPU",
    "widgets": {
      "application/vnd.jupyter.widget-state+json": {
        "9aeb974fb0d742f9a018f4ec9d8852e0": {
          "model_module": "@jupyter-widgets/controls",
          "model_name": "HBoxModel",
          "model_module_version": "1.5.0",
          "state": {
            "_view_name": "HBoxView",
            "_dom_classes": [],
            "_model_name": "HBoxModel",
            "_view_module": "@jupyter-widgets/controls",
            "_model_module_version": "1.5.0",
            "_view_count": null,
            "_view_module_version": "1.5.0",
            "box_style": "",
            "layout": "IPY_MODEL_989bd0654d234765bf0bd7f3a5e92469",
            "_model_module": "@jupyter-widgets/controls",
            "children": [
              "IPY_MODEL_36162c38721b444b934b7a3dce2bdd57",
              "IPY_MODEL_95ebd9e5bcc84068ab5a4b437ebd19b0",
              "IPY_MODEL_0d0b9e9ca892478eb20522e89fc22fa1"
            ]
          }
        },
        "989bd0654d234765bf0bd7f3a5e92469": {
          "model_module": "@jupyter-widgets/base",
          "model_name": "LayoutModel",
          "model_module_version": "1.2.0",
          "state": {
            "_view_name": "LayoutView",
            "grid_template_rows": null,
            "right": null,
            "justify_content": null,
            "_view_module": "@jupyter-widgets/base",
            "overflow": null,
            "_model_module_version": "1.2.0",
            "_view_count": null,
            "flex_flow": null,
            "width": null,
            "min_width": null,
            "border": null,
            "align_items": null,
            "bottom": null,
            "_model_module": "@jupyter-widgets/base",
            "top": null,
            "grid_column": null,
            "overflow_y": null,
            "overflow_x": null,
            "grid_auto_flow": null,
            "grid_area": null,
            "grid_template_columns": null,
            "flex": null,
            "_model_name": "LayoutModel",
            "justify_items": null,
            "grid_row": null,
            "max_height": null,
            "align_content": null,
            "visibility": null,
            "align_self": null,
            "height": null,
            "min_height": null,
            "padding": null,
            "grid_auto_rows": null,
            "grid_gap": null,
            "max_width": null,
            "order": null,
            "_view_module_version": "1.2.0",
            "grid_template_areas": null,
            "object_position": null,
            "object_fit": null,
            "grid_auto_columns": null,
            "margin": null,
            "display": null,
            "left": null
          }
        },
        "36162c38721b444b934b7a3dce2bdd57": {
          "model_module": "@jupyter-widgets/controls",
          "model_name": "HTMLModel",
          "model_module_version": "1.5.0",
          "state": {
            "_view_name": "HTMLView",
            "style": "IPY_MODEL_1ce9442bb5884c1fa3b91ced4b5c9fe7",
            "_dom_classes": [],
            "description": "",
            "_model_name": "HTMLModel",
            "placeholder": "​",
            "_view_module": "@jupyter-widgets/controls",
            "_model_module_version": "1.5.0",
            "value": "",
            "_view_count": null,
            "_view_module_version": "1.5.0",
            "description_tooltip": null,
            "_model_module": "@jupyter-widgets/controls",
            "layout": "IPY_MODEL_2457ebe69d7b47d99c9cbd4e798ab9d9"
          }
        },
        "95ebd9e5bcc84068ab5a4b437ebd19b0": {
          "model_module": "@jupyter-widgets/controls",
          "model_name": "FloatProgressModel",
          "model_module_version": "1.5.0",
          "state": {
            "_view_name": "ProgressView",
            "style": "IPY_MODEL_6dae35fe9bdb4d8e870fe686167e0bda",
            "_dom_classes": [],
            "description": "",
            "_model_name": "FloatProgressModel",
            "bar_style": "success",
            "max": 9912422,
            "_view_module": "@jupyter-widgets/controls",
            "_model_module_version": "1.5.0",
            "value": 9912422,
            "_view_count": null,
            "_view_module_version": "1.5.0",
            "orientation": "horizontal",
            "min": 0,
            "description_tooltip": null,
            "_model_module": "@jupyter-widgets/controls",
            "layout": "IPY_MODEL_54ca8caf58aa411a896870a2c2f0d838"
          }
        },
        "0d0b9e9ca892478eb20522e89fc22fa1": {
          "model_module": "@jupyter-widgets/controls",
          "model_name": "HTMLModel",
          "model_module_version": "1.5.0",
          "state": {
            "_view_name": "HTMLView",
            "style": "IPY_MODEL_2332c96bd83c409cb3681817189f178f",
            "_dom_classes": [],
            "description": "",
            "_model_name": "HTMLModel",
            "placeholder": "​",
            "_view_module": "@jupyter-widgets/controls",
            "_model_module_version": "1.5.0",
            "value": " 9913344/? [00:00&lt;00:00, 21411930.37it/s]",
            "_view_count": null,
            "_view_module_version": "1.5.0",
            "description_tooltip": null,
            "_model_module": "@jupyter-widgets/controls",
            "layout": "IPY_MODEL_446d6ba88bff4db89025185df8cc64c1"
          }
        },
        "1ce9442bb5884c1fa3b91ced4b5c9fe7": {
          "model_module": "@jupyter-widgets/controls",
          "model_name": "DescriptionStyleModel",
          "model_module_version": "1.5.0",
          "state": {
            "_view_name": "StyleView",
            "_model_name": "DescriptionStyleModel",
            "description_width": "",
            "_view_module": "@jupyter-widgets/base",
            "_model_module_version": "1.5.0",
            "_view_count": null,
            "_view_module_version": "1.2.0",
            "_model_module": "@jupyter-widgets/controls"
          }
        },
        "2457ebe69d7b47d99c9cbd4e798ab9d9": {
          "model_module": "@jupyter-widgets/base",
          "model_name": "LayoutModel",
          "model_module_version": "1.2.0",
          "state": {
            "_view_name": "LayoutView",
            "grid_template_rows": null,
            "right": null,
            "justify_content": null,
            "_view_module": "@jupyter-widgets/base",
            "overflow": null,
            "_model_module_version": "1.2.0",
            "_view_count": null,
            "flex_flow": null,
            "width": null,
            "min_width": null,
            "border": null,
            "align_items": null,
            "bottom": null,
            "_model_module": "@jupyter-widgets/base",
            "top": null,
            "grid_column": null,
            "overflow_y": null,
            "overflow_x": null,
            "grid_auto_flow": null,
            "grid_area": null,
            "grid_template_columns": null,
            "flex": null,
            "_model_name": "LayoutModel",
            "justify_items": null,
            "grid_row": null,
            "max_height": null,
            "align_content": null,
            "visibility": null,
            "align_self": null,
            "height": null,
            "min_height": null,
            "padding": null,
            "grid_auto_rows": null,
            "grid_gap": null,
            "max_width": null,
            "order": null,
            "_view_module_version": "1.2.0",
            "grid_template_areas": null,
            "object_position": null,
            "object_fit": null,
            "grid_auto_columns": null,
            "margin": null,
            "display": null,
            "left": null
          }
        },
        "6dae35fe9bdb4d8e870fe686167e0bda": {
          "model_module": "@jupyter-widgets/controls",
          "model_name": "ProgressStyleModel",
          "model_module_version": "1.5.0",
          "state": {
            "_view_name": "StyleView",
            "_model_name": "ProgressStyleModel",
            "description_width": "",
            "_view_module": "@jupyter-widgets/base",
            "_model_module_version": "1.5.0",
            "_view_count": null,
            "_view_module_version": "1.2.0",
            "bar_color": null,
            "_model_module": "@jupyter-widgets/controls"
          }
        },
        "54ca8caf58aa411a896870a2c2f0d838": {
          "model_module": "@jupyter-widgets/base",
          "model_name": "LayoutModel",
          "model_module_version": "1.2.0",
          "state": {
            "_view_name": "LayoutView",
            "grid_template_rows": null,
            "right": null,
            "justify_content": null,
            "_view_module": "@jupyter-widgets/base",
            "overflow": null,
            "_model_module_version": "1.2.0",
            "_view_count": null,
            "flex_flow": null,
            "width": null,
            "min_width": null,
            "border": null,
            "align_items": null,
            "bottom": null,
            "_model_module": "@jupyter-widgets/base",
            "top": null,
            "grid_column": null,
            "overflow_y": null,
            "overflow_x": null,
            "grid_auto_flow": null,
            "grid_area": null,
            "grid_template_columns": null,
            "flex": null,
            "_model_name": "LayoutModel",
            "justify_items": null,
            "grid_row": null,
            "max_height": null,
            "align_content": null,
            "visibility": null,
            "align_self": null,
            "height": null,
            "min_height": null,
            "padding": null,
            "grid_auto_rows": null,
            "grid_gap": null,
            "max_width": null,
            "order": null,
            "_view_module_version": "1.2.0",
            "grid_template_areas": null,
            "object_position": null,
            "object_fit": null,
            "grid_auto_columns": null,
            "margin": null,
            "display": null,
            "left": null
          }
        },
        "2332c96bd83c409cb3681817189f178f": {
          "model_module": "@jupyter-widgets/controls",
          "model_name": "DescriptionStyleModel",
          "model_module_version": "1.5.0",
          "state": {
            "_view_name": "StyleView",
            "_model_name": "DescriptionStyleModel",
            "description_width": "",
            "_view_module": "@jupyter-widgets/base",
            "_model_module_version": "1.5.0",
            "_view_count": null,
            "_view_module_version": "1.2.0",
            "_model_module": "@jupyter-widgets/controls"
          }
        },
        "446d6ba88bff4db89025185df8cc64c1": {
          "model_module": "@jupyter-widgets/base",
          "model_name": "LayoutModel",
          "model_module_version": "1.2.0",
          "state": {
            "_view_name": "LayoutView",
            "grid_template_rows": null,
            "right": null,
            "justify_content": null,
            "_view_module": "@jupyter-widgets/base",
            "overflow": null,
            "_model_module_version": "1.2.0",
            "_view_count": null,
            "flex_flow": null,
            "width": null,
            "min_width": null,
            "border": null,
            "align_items": null,
            "bottom": null,
            "_model_module": "@jupyter-widgets/base",
            "top": null,
            "grid_column": null,
            "overflow_y": null,
            "overflow_x": null,
            "grid_auto_flow": null,
            "grid_area": null,
            "grid_template_columns": null,
            "flex": null,
            "_model_name": "LayoutModel",
            "justify_items": null,
            "grid_row": null,
            "max_height": null,
            "align_content": null,
            "visibility": null,
            "align_self": null,
            "height": null,
            "min_height": null,
            "padding": null,
            "grid_auto_rows": null,
            "grid_gap": null,
            "max_width": null,
            "order": null,
            "_view_module_version": "1.2.0",
            "grid_template_areas": null,
            "object_position": null,
            "object_fit": null,
            "grid_auto_columns": null,
            "margin": null,
            "display": null,
            "left": null
          }
        },
        "def967aa541e46a5b38c8c7ab52e7702": {
          "model_module": "@jupyter-widgets/controls",
          "model_name": "HBoxModel",
          "model_module_version": "1.5.0",
          "state": {
            "_view_name": "HBoxView",
            "_dom_classes": [],
            "_model_name": "HBoxModel",
            "_view_module": "@jupyter-widgets/controls",
            "_model_module_version": "1.5.0",
            "_view_count": null,
            "_view_module_version": "1.5.0",
            "box_style": "",
            "layout": "IPY_MODEL_387d1cb925154945966ce5cb61145823",
            "_model_module": "@jupyter-widgets/controls",
            "children": [
              "IPY_MODEL_eb00a2ffd9b04d5ebcb8dad328f13dba",
              "IPY_MODEL_97277d3fb0194934a03fc9f641660e13",
              "IPY_MODEL_223d357cfc804ec2a6028c7d7f4156e9"
            ]
          }
        },
        "387d1cb925154945966ce5cb61145823": {
          "model_module": "@jupyter-widgets/base",
          "model_name": "LayoutModel",
          "model_module_version": "1.2.0",
          "state": {
            "_view_name": "LayoutView",
            "grid_template_rows": null,
            "right": null,
            "justify_content": null,
            "_view_module": "@jupyter-widgets/base",
            "overflow": null,
            "_model_module_version": "1.2.0",
            "_view_count": null,
            "flex_flow": null,
            "width": null,
            "min_width": null,
            "border": null,
            "align_items": null,
            "bottom": null,
            "_model_module": "@jupyter-widgets/base",
            "top": null,
            "grid_column": null,
            "overflow_y": null,
            "overflow_x": null,
            "grid_auto_flow": null,
            "grid_area": null,
            "grid_template_columns": null,
            "flex": null,
            "_model_name": "LayoutModel",
            "justify_items": null,
            "grid_row": null,
            "max_height": null,
            "align_content": null,
            "visibility": null,
            "align_self": null,
            "height": null,
            "min_height": null,
            "padding": null,
            "grid_auto_rows": null,
            "grid_gap": null,
            "max_width": null,
            "order": null,
            "_view_module_version": "1.2.0",
            "grid_template_areas": null,
            "object_position": null,
            "object_fit": null,
            "grid_auto_columns": null,
            "margin": null,
            "display": null,
            "left": null
          }
        },
        "eb00a2ffd9b04d5ebcb8dad328f13dba": {
          "model_module": "@jupyter-widgets/controls",
          "model_name": "HTMLModel",
          "model_module_version": "1.5.0",
          "state": {
            "_view_name": "HTMLView",
            "style": "IPY_MODEL_350468c2d99c4d7c81379b790bb3b248",
            "_dom_classes": [],
            "description": "",
            "_model_name": "HTMLModel",
            "placeholder": "​",
            "_view_module": "@jupyter-widgets/controls",
            "_model_module_version": "1.5.0",
            "value": "",
            "_view_count": null,
            "_view_module_version": "1.5.0",
            "description_tooltip": null,
            "_model_module": "@jupyter-widgets/controls",
            "layout": "IPY_MODEL_4065ee1df1de4b99a1d30b5125534083"
          }
        },
        "97277d3fb0194934a03fc9f641660e13": {
          "model_module": "@jupyter-widgets/controls",
          "model_name": "FloatProgressModel",
          "model_module_version": "1.5.0",
          "state": {
            "_view_name": "ProgressView",
            "style": "IPY_MODEL_559477bf251f4a1298f7e72827b965f2",
            "_dom_classes": [],
            "description": "",
            "_model_name": "FloatProgressModel",
            "bar_style": "success",
            "max": 28881,
            "_view_module": "@jupyter-widgets/controls",
            "_model_module_version": "1.5.0",
            "value": 28881,
            "_view_count": null,
            "_view_module_version": "1.5.0",
            "orientation": "horizontal",
            "min": 0,
            "description_tooltip": null,
            "_model_module": "@jupyter-widgets/controls",
            "layout": "IPY_MODEL_2f45db8e5ae04f1dab51d6ed8baea1f6"
          }
        },
        "223d357cfc804ec2a6028c7d7f4156e9": {
          "model_module": "@jupyter-widgets/controls",
          "model_name": "HTMLModel",
          "model_module_version": "1.5.0",
          "state": {
            "_view_name": "HTMLView",
            "style": "IPY_MODEL_7a4b78169adb463ba4fe36f8dbe5f8aa",
            "_dom_classes": [],
            "description": "",
            "_model_name": "HTMLModel",
            "placeholder": "​",
            "_view_module": "@jupyter-widgets/controls",
            "_model_module_version": "1.5.0",
            "value": " 29696/? [00:00&lt;00:00, 693894.44it/s]",
            "_view_count": null,
            "_view_module_version": "1.5.0",
            "description_tooltip": null,
            "_model_module": "@jupyter-widgets/controls",
            "layout": "IPY_MODEL_0df6d8180abd4e4c9ca31cd9024a1407"
          }
        },
        "350468c2d99c4d7c81379b790bb3b248": {
          "model_module": "@jupyter-widgets/controls",
          "model_name": "DescriptionStyleModel",
          "model_module_version": "1.5.0",
          "state": {
            "_view_name": "StyleView",
            "_model_name": "DescriptionStyleModel",
            "description_width": "",
            "_view_module": "@jupyter-widgets/base",
            "_model_module_version": "1.5.0",
            "_view_count": null,
            "_view_module_version": "1.2.0",
            "_model_module": "@jupyter-widgets/controls"
          }
        },
        "4065ee1df1de4b99a1d30b5125534083": {
          "model_module": "@jupyter-widgets/base",
          "model_name": "LayoutModel",
          "model_module_version": "1.2.0",
          "state": {
            "_view_name": "LayoutView",
            "grid_template_rows": null,
            "right": null,
            "justify_content": null,
            "_view_module": "@jupyter-widgets/base",
            "overflow": null,
            "_model_module_version": "1.2.0",
            "_view_count": null,
            "flex_flow": null,
            "width": null,
            "min_width": null,
            "border": null,
            "align_items": null,
            "bottom": null,
            "_model_module": "@jupyter-widgets/base",
            "top": null,
            "grid_column": null,
            "overflow_y": null,
            "overflow_x": null,
            "grid_auto_flow": null,
            "grid_area": null,
            "grid_template_columns": null,
            "flex": null,
            "_model_name": "LayoutModel",
            "justify_items": null,
            "grid_row": null,
            "max_height": null,
            "align_content": null,
            "visibility": null,
            "align_self": null,
            "height": null,
            "min_height": null,
            "padding": null,
            "grid_auto_rows": null,
            "grid_gap": null,
            "max_width": null,
            "order": null,
            "_view_module_version": "1.2.0",
            "grid_template_areas": null,
            "object_position": null,
            "object_fit": null,
            "grid_auto_columns": null,
            "margin": null,
            "display": null,
            "left": null
          }
        },
        "559477bf251f4a1298f7e72827b965f2": {
          "model_module": "@jupyter-widgets/controls",
          "model_name": "ProgressStyleModel",
          "model_module_version": "1.5.0",
          "state": {
            "_view_name": "StyleView",
            "_model_name": "ProgressStyleModel",
            "description_width": "",
            "_view_module": "@jupyter-widgets/base",
            "_model_module_version": "1.5.0",
            "_view_count": null,
            "_view_module_version": "1.2.0",
            "bar_color": null,
            "_model_module": "@jupyter-widgets/controls"
          }
        },
        "2f45db8e5ae04f1dab51d6ed8baea1f6": {
          "model_module": "@jupyter-widgets/base",
          "model_name": "LayoutModel",
          "model_module_version": "1.2.0",
          "state": {
            "_view_name": "LayoutView",
            "grid_template_rows": null,
            "right": null,
            "justify_content": null,
            "_view_module": "@jupyter-widgets/base",
            "overflow": null,
            "_model_module_version": "1.2.0",
            "_view_count": null,
            "flex_flow": null,
            "width": null,
            "min_width": null,
            "border": null,
            "align_items": null,
            "bottom": null,
            "_model_module": "@jupyter-widgets/base",
            "top": null,
            "grid_column": null,
            "overflow_y": null,
            "overflow_x": null,
            "grid_auto_flow": null,
            "grid_area": null,
            "grid_template_columns": null,
            "flex": null,
            "_model_name": "LayoutModel",
            "justify_items": null,
            "grid_row": null,
            "max_height": null,
            "align_content": null,
            "visibility": null,
            "align_self": null,
            "height": null,
            "min_height": null,
            "padding": null,
            "grid_auto_rows": null,
            "grid_gap": null,
            "max_width": null,
            "order": null,
            "_view_module_version": "1.2.0",
            "grid_template_areas": null,
            "object_position": null,
            "object_fit": null,
            "grid_auto_columns": null,
            "margin": null,
            "display": null,
            "left": null
          }
        },
        "7a4b78169adb463ba4fe36f8dbe5f8aa": {
          "model_module": "@jupyter-widgets/controls",
          "model_name": "DescriptionStyleModel",
          "model_module_version": "1.5.0",
          "state": {
            "_view_name": "StyleView",
            "_model_name": "DescriptionStyleModel",
            "description_width": "",
            "_view_module": "@jupyter-widgets/base",
            "_model_module_version": "1.5.0",
            "_view_count": null,
            "_view_module_version": "1.2.0",
            "_model_module": "@jupyter-widgets/controls"
          }
        },
        "0df6d8180abd4e4c9ca31cd9024a1407": {
          "model_module": "@jupyter-widgets/base",
          "model_name": "LayoutModel",
          "model_module_version": "1.2.0",
          "state": {
            "_view_name": "LayoutView",
            "grid_template_rows": null,
            "right": null,
            "justify_content": null,
            "_view_module": "@jupyter-widgets/base",
            "overflow": null,
            "_model_module_version": "1.2.0",
            "_view_count": null,
            "flex_flow": null,
            "width": null,
            "min_width": null,
            "border": null,
            "align_items": null,
            "bottom": null,
            "_model_module": "@jupyter-widgets/base",
            "top": null,
            "grid_column": null,
            "overflow_y": null,
            "overflow_x": null,
            "grid_auto_flow": null,
            "grid_area": null,
            "grid_template_columns": null,
            "flex": null,
            "_model_name": "LayoutModel",
            "justify_items": null,
            "grid_row": null,
            "max_height": null,
            "align_content": null,
            "visibility": null,
            "align_self": null,
            "height": null,
            "min_height": null,
            "padding": null,
            "grid_auto_rows": null,
            "grid_gap": null,
            "max_width": null,
            "order": null,
            "_view_module_version": "1.2.0",
            "grid_template_areas": null,
            "object_position": null,
            "object_fit": null,
            "grid_auto_columns": null,
            "margin": null,
            "display": null,
            "left": null
          }
        },
        "44c25d8ad5bb4d6897d6e5569b4f2225": {
          "model_module": "@jupyter-widgets/controls",
          "model_name": "HBoxModel",
          "model_module_version": "1.5.0",
          "state": {
            "_view_name": "HBoxView",
            "_dom_classes": [],
            "_model_name": "HBoxModel",
            "_view_module": "@jupyter-widgets/controls",
            "_model_module_version": "1.5.0",
            "_view_count": null,
            "_view_module_version": "1.5.0",
            "box_style": "",
            "layout": "IPY_MODEL_0d467a10f900473d94b89a72f0fc0f25",
            "_model_module": "@jupyter-widgets/controls",
            "children": [
              "IPY_MODEL_ddcfa85e3e72419e9ad4f6d1368f91ef",
              "IPY_MODEL_ff6f5e3c16e840fb8db6ecde0023997b",
              "IPY_MODEL_8daf324aa3cb443e9ce320d443cf643c"
            ]
          }
        },
        "0d467a10f900473d94b89a72f0fc0f25": {
          "model_module": "@jupyter-widgets/base",
          "model_name": "LayoutModel",
          "model_module_version": "1.2.0",
          "state": {
            "_view_name": "LayoutView",
            "grid_template_rows": null,
            "right": null,
            "justify_content": null,
            "_view_module": "@jupyter-widgets/base",
            "overflow": null,
            "_model_module_version": "1.2.0",
            "_view_count": null,
            "flex_flow": null,
            "width": null,
            "min_width": null,
            "border": null,
            "align_items": null,
            "bottom": null,
            "_model_module": "@jupyter-widgets/base",
            "top": null,
            "grid_column": null,
            "overflow_y": null,
            "overflow_x": null,
            "grid_auto_flow": null,
            "grid_area": null,
            "grid_template_columns": null,
            "flex": null,
            "_model_name": "LayoutModel",
            "justify_items": null,
            "grid_row": null,
            "max_height": null,
            "align_content": null,
            "visibility": null,
            "align_self": null,
            "height": null,
            "min_height": null,
            "padding": null,
            "grid_auto_rows": null,
            "grid_gap": null,
            "max_width": null,
            "order": null,
            "_view_module_version": "1.2.0",
            "grid_template_areas": null,
            "object_position": null,
            "object_fit": null,
            "grid_auto_columns": null,
            "margin": null,
            "display": null,
            "left": null
          }
        },
        "ddcfa85e3e72419e9ad4f6d1368f91ef": {
          "model_module": "@jupyter-widgets/controls",
          "model_name": "HTMLModel",
          "model_module_version": "1.5.0",
          "state": {
            "_view_name": "HTMLView",
            "style": "IPY_MODEL_e469331426ad4714ac56989d206a54ec",
            "_dom_classes": [],
            "description": "",
            "_model_name": "HTMLModel",
            "placeholder": "​",
            "_view_module": "@jupyter-widgets/controls",
            "_model_module_version": "1.5.0",
            "value": "",
            "_view_count": null,
            "_view_module_version": "1.5.0",
            "description_tooltip": null,
            "_model_module": "@jupyter-widgets/controls",
            "layout": "IPY_MODEL_cf4ba1d73021413c81ef8a6298bf9386"
          }
        },
        "ff6f5e3c16e840fb8db6ecde0023997b": {
          "model_module": "@jupyter-widgets/controls",
          "model_name": "FloatProgressModel",
          "model_module_version": "1.5.0",
          "state": {
            "_view_name": "ProgressView",
            "style": "IPY_MODEL_d5ede23199c7433f9ef00f991cdeaee5",
            "_dom_classes": [],
            "description": "",
            "_model_name": "FloatProgressModel",
            "bar_style": "success",
            "max": 1648877,
            "_view_module": "@jupyter-widgets/controls",
            "_model_module_version": "1.5.0",
            "value": 1648877,
            "_view_count": null,
            "_view_module_version": "1.5.0",
            "orientation": "horizontal",
            "min": 0,
            "description_tooltip": null,
            "_model_module": "@jupyter-widgets/controls",
            "layout": "IPY_MODEL_68adaa4e3fef42a488bc25a98f51c0a6"
          }
        },
        "8daf324aa3cb443e9ce320d443cf643c": {
          "model_module": "@jupyter-widgets/controls",
          "model_name": "HTMLModel",
          "model_module_version": "1.5.0",
          "state": {
            "_view_name": "HTMLView",
            "style": "IPY_MODEL_d9bafa33d3ae455fb9af8529e6692151",
            "_dom_classes": [],
            "description": "",
            "_model_name": "HTMLModel",
            "placeholder": "​",
            "_view_module": "@jupyter-widgets/controls",
            "_model_module_version": "1.5.0",
            "value": " 1649664/? [00:00&lt;00:00, 8147932.92it/s]",
            "_view_count": null,
            "_view_module_version": "1.5.0",
            "description_tooltip": null,
            "_model_module": "@jupyter-widgets/controls",
            "layout": "IPY_MODEL_ecd3bdeb43674c40b09e8738d7747990"
          }
        },
        "e469331426ad4714ac56989d206a54ec": {
          "model_module": "@jupyter-widgets/controls",
          "model_name": "DescriptionStyleModel",
          "model_module_version": "1.5.0",
          "state": {
            "_view_name": "StyleView",
            "_model_name": "DescriptionStyleModel",
            "description_width": "",
            "_view_module": "@jupyter-widgets/base",
            "_model_module_version": "1.5.0",
            "_view_count": null,
            "_view_module_version": "1.2.0",
            "_model_module": "@jupyter-widgets/controls"
          }
        },
        "cf4ba1d73021413c81ef8a6298bf9386": {
          "model_module": "@jupyter-widgets/base",
          "model_name": "LayoutModel",
          "model_module_version": "1.2.0",
          "state": {
            "_view_name": "LayoutView",
            "grid_template_rows": null,
            "right": null,
            "justify_content": null,
            "_view_module": "@jupyter-widgets/base",
            "overflow": null,
            "_model_module_version": "1.2.0",
            "_view_count": null,
            "flex_flow": null,
            "width": null,
            "min_width": null,
            "border": null,
            "align_items": null,
            "bottom": null,
            "_model_module": "@jupyter-widgets/base",
            "top": null,
            "grid_column": null,
            "overflow_y": null,
            "overflow_x": null,
            "grid_auto_flow": null,
            "grid_area": null,
            "grid_template_columns": null,
            "flex": null,
            "_model_name": "LayoutModel",
            "justify_items": null,
            "grid_row": null,
            "max_height": null,
            "align_content": null,
            "visibility": null,
            "align_self": null,
            "height": null,
            "min_height": null,
            "padding": null,
            "grid_auto_rows": null,
            "grid_gap": null,
            "max_width": null,
            "order": null,
            "_view_module_version": "1.2.0",
            "grid_template_areas": null,
            "object_position": null,
            "object_fit": null,
            "grid_auto_columns": null,
            "margin": null,
            "display": null,
            "left": null
          }
        },
        "d5ede23199c7433f9ef00f991cdeaee5": {
          "model_module": "@jupyter-widgets/controls",
          "model_name": "ProgressStyleModel",
          "model_module_version": "1.5.0",
          "state": {
            "_view_name": "StyleView",
            "_model_name": "ProgressStyleModel",
            "description_width": "",
            "_view_module": "@jupyter-widgets/base",
            "_model_module_version": "1.5.0",
            "_view_count": null,
            "_view_module_version": "1.2.0",
            "bar_color": null,
            "_model_module": "@jupyter-widgets/controls"
          }
        },
        "68adaa4e3fef42a488bc25a98f51c0a6": {
          "model_module": "@jupyter-widgets/base",
          "model_name": "LayoutModel",
          "model_module_version": "1.2.0",
          "state": {
            "_view_name": "LayoutView",
            "grid_template_rows": null,
            "right": null,
            "justify_content": null,
            "_view_module": "@jupyter-widgets/base",
            "overflow": null,
            "_model_module_version": "1.2.0",
            "_view_count": null,
            "flex_flow": null,
            "width": null,
            "min_width": null,
            "border": null,
            "align_items": null,
            "bottom": null,
            "_model_module": "@jupyter-widgets/base",
            "top": null,
            "grid_column": null,
            "overflow_y": null,
            "overflow_x": null,
            "grid_auto_flow": null,
            "grid_area": null,
            "grid_template_columns": null,
            "flex": null,
            "_model_name": "LayoutModel",
            "justify_items": null,
            "grid_row": null,
            "max_height": null,
            "align_content": null,
            "visibility": null,
            "align_self": null,
            "height": null,
            "min_height": null,
            "padding": null,
            "grid_auto_rows": null,
            "grid_gap": null,
            "max_width": null,
            "order": null,
            "_view_module_version": "1.2.0",
            "grid_template_areas": null,
            "object_position": null,
            "object_fit": null,
            "grid_auto_columns": null,
            "margin": null,
            "display": null,
            "left": null
          }
        },
        "d9bafa33d3ae455fb9af8529e6692151": {
          "model_module": "@jupyter-widgets/controls",
          "model_name": "DescriptionStyleModel",
          "model_module_version": "1.5.0",
          "state": {
            "_view_name": "StyleView",
            "_model_name": "DescriptionStyleModel",
            "description_width": "",
            "_view_module": "@jupyter-widgets/base",
            "_model_module_version": "1.5.0",
            "_view_count": null,
            "_view_module_version": "1.2.0",
            "_model_module": "@jupyter-widgets/controls"
          }
        },
        "ecd3bdeb43674c40b09e8738d7747990": {
          "model_module": "@jupyter-widgets/base",
          "model_name": "LayoutModel",
          "model_module_version": "1.2.0",
          "state": {
            "_view_name": "LayoutView",
            "grid_template_rows": null,
            "right": null,
            "justify_content": null,
            "_view_module": "@jupyter-widgets/base",
            "overflow": null,
            "_model_module_version": "1.2.0",
            "_view_count": null,
            "flex_flow": null,
            "width": null,
            "min_width": null,
            "border": null,
            "align_items": null,
            "bottom": null,
            "_model_module": "@jupyter-widgets/base",
            "top": null,
            "grid_column": null,
            "overflow_y": null,
            "overflow_x": null,
            "grid_auto_flow": null,
            "grid_area": null,
            "grid_template_columns": null,
            "flex": null,
            "_model_name": "LayoutModel",
            "justify_items": null,
            "grid_row": null,
            "max_height": null,
            "align_content": null,
            "visibility": null,
            "align_self": null,
            "height": null,
            "min_height": null,
            "padding": null,
            "grid_auto_rows": null,
            "grid_gap": null,
            "max_width": null,
            "order": null,
            "_view_module_version": "1.2.0",
            "grid_template_areas": null,
            "object_position": null,
            "object_fit": null,
            "grid_auto_columns": null,
            "margin": null,
            "display": null,
            "left": null
          }
        },
        "807af19630cb4a08950c04ae0da611be": {
          "model_module": "@jupyter-widgets/controls",
          "model_name": "HBoxModel",
          "model_module_version": "1.5.0",
          "state": {
            "_view_name": "HBoxView",
            "_dom_classes": [],
            "_model_name": "HBoxModel",
            "_view_module": "@jupyter-widgets/controls",
            "_model_module_version": "1.5.0",
            "_view_count": null,
            "_view_module_version": "1.5.0",
            "box_style": "",
            "layout": "IPY_MODEL_0432af8887ac4cc4962172c1b08b5138",
            "_model_module": "@jupyter-widgets/controls",
            "children": [
              "IPY_MODEL_192fa79b290843578f1bb92b333c3149",
              "IPY_MODEL_5a5935055ac64f06b1ba58ad0f67c5f4",
              "IPY_MODEL_85d29d7f315043dea7e45bede025892a"
            ]
          }
        },
        "0432af8887ac4cc4962172c1b08b5138": {
          "model_module": "@jupyter-widgets/base",
          "model_name": "LayoutModel",
          "model_module_version": "1.2.0",
          "state": {
            "_view_name": "LayoutView",
            "grid_template_rows": null,
            "right": null,
            "justify_content": null,
            "_view_module": "@jupyter-widgets/base",
            "overflow": null,
            "_model_module_version": "1.2.0",
            "_view_count": null,
            "flex_flow": null,
            "width": null,
            "min_width": null,
            "border": null,
            "align_items": null,
            "bottom": null,
            "_model_module": "@jupyter-widgets/base",
            "top": null,
            "grid_column": null,
            "overflow_y": null,
            "overflow_x": null,
            "grid_auto_flow": null,
            "grid_area": null,
            "grid_template_columns": null,
            "flex": null,
            "_model_name": "LayoutModel",
            "justify_items": null,
            "grid_row": null,
            "max_height": null,
            "align_content": null,
            "visibility": null,
            "align_self": null,
            "height": null,
            "min_height": null,
            "padding": null,
            "grid_auto_rows": null,
            "grid_gap": null,
            "max_width": null,
            "order": null,
            "_view_module_version": "1.2.0",
            "grid_template_areas": null,
            "object_position": null,
            "object_fit": null,
            "grid_auto_columns": null,
            "margin": null,
            "display": null,
            "left": null
          }
        },
        "192fa79b290843578f1bb92b333c3149": {
          "model_module": "@jupyter-widgets/controls",
          "model_name": "HTMLModel",
          "model_module_version": "1.5.0",
          "state": {
            "_view_name": "HTMLView",
            "style": "IPY_MODEL_17a9a1852b2746a59d892183128abdf6",
            "_dom_classes": [],
            "description": "",
            "_model_name": "HTMLModel",
            "placeholder": "​",
            "_view_module": "@jupyter-widgets/controls",
            "_model_module_version": "1.5.0",
            "value": "",
            "_view_count": null,
            "_view_module_version": "1.5.0",
            "description_tooltip": null,
            "_model_module": "@jupyter-widgets/controls",
            "layout": "IPY_MODEL_54c5c3f51b224935b11a6909e9003bea"
          }
        },
        "5a5935055ac64f06b1ba58ad0f67c5f4": {
          "model_module": "@jupyter-widgets/controls",
          "model_name": "FloatProgressModel",
          "model_module_version": "1.5.0",
          "state": {
            "_view_name": "ProgressView",
            "style": "IPY_MODEL_b98b6a12395f4a8aa3fdcb7cc2fe4a98",
            "_dom_classes": [],
            "description": "",
            "_model_name": "FloatProgressModel",
            "bar_style": "success",
            "max": 4542,
            "_view_module": "@jupyter-widgets/controls",
            "_model_module_version": "1.5.0",
            "value": 4542,
            "_view_count": null,
            "_view_module_version": "1.5.0",
            "orientation": "horizontal",
            "min": 0,
            "description_tooltip": null,
            "_model_module": "@jupyter-widgets/controls",
            "layout": "IPY_MODEL_9364e276876540b6989e135522bdbd64"
          }
        },
        "85d29d7f315043dea7e45bede025892a": {
          "model_module": "@jupyter-widgets/controls",
          "model_name": "HTMLModel",
          "model_module_version": "1.5.0",
          "state": {
            "_view_name": "HTMLView",
            "style": "IPY_MODEL_6ca3e6da42744627bca714428b75b913",
            "_dom_classes": [],
            "description": "",
            "_model_name": "HTMLModel",
            "placeholder": "​",
            "_view_module": "@jupyter-widgets/controls",
            "_model_module_version": "1.5.0",
            "value": " 5120/? [00:00&lt;00:00, 128702.81it/s]",
            "_view_count": null,
            "_view_module_version": "1.5.0",
            "description_tooltip": null,
            "_model_module": "@jupyter-widgets/controls",
            "layout": "IPY_MODEL_a875fbc125cb44a1a04fd8a7882ebbb4"
          }
        },
        "17a9a1852b2746a59d892183128abdf6": {
          "model_module": "@jupyter-widgets/controls",
          "model_name": "DescriptionStyleModel",
          "model_module_version": "1.5.0",
          "state": {
            "_view_name": "StyleView",
            "_model_name": "DescriptionStyleModel",
            "description_width": "",
            "_view_module": "@jupyter-widgets/base",
            "_model_module_version": "1.5.0",
            "_view_count": null,
            "_view_module_version": "1.2.0",
            "_model_module": "@jupyter-widgets/controls"
          }
        },
        "54c5c3f51b224935b11a6909e9003bea": {
          "model_module": "@jupyter-widgets/base",
          "model_name": "LayoutModel",
          "model_module_version": "1.2.0",
          "state": {
            "_view_name": "LayoutView",
            "grid_template_rows": null,
            "right": null,
            "justify_content": null,
            "_view_module": "@jupyter-widgets/base",
            "overflow": null,
            "_model_module_version": "1.2.0",
            "_view_count": null,
            "flex_flow": null,
            "width": null,
            "min_width": null,
            "border": null,
            "align_items": null,
            "bottom": null,
            "_model_module": "@jupyter-widgets/base",
            "top": null,
            "grid_column": null,
            "overflow_y": null,
            "overflow_x": null,
            "grid_auto_flow": null,
            "grid_area": null,
            "grid_template_columns": null,
            "flex": null,
            "_model_name": "LayoutModel",
            "justify_items": null,
            "grid_row": null,
            "max_height": null,
            "align_content": null,
            "visibility": null,
            "align_self": null,
            "height": null,
            "min_height": null,
            "padding": null,
            "grid_auto_rows": null,
            "grid_gap": null,
            "max_width": null,
            "order": null,
            "_view_module_version": "1.2.0",
            "grid_template_areas": null,
            "object_position": null,
            "object_fit": null,
            "grid_auto_columns": null,
            "margin": null,
            "display": null,
            "left": null
          }
        },
        "b98b6a12395f4a8aa3fdcb7cc2fe4a98": {
          "model_module": "@jupyter-widgets/controls",
          "model_name": "ProgressStyleModel",
          "model_module_version": "1.5.0",
          "state": {
            "_view_name": "StyleView",
            "_model_name": "ProgressStyleModel",
            "description_width": "",
            "_view_module": "@jupyter-widgets/base",
            "_model_module_version": "1.5.0",
            "_view_count": null,
            "_view_module_version": "1.2.0",
            "bar_color": null,
            "_model_module": "@jupyter-widgets/controls"
          }
        },
        "9364e276876540b6989e135522bdbd64": {
          "model_module": "@jupyter-widgets/base",
          "model_name": "LayoutModel",
          "model_module_version": "1.2.0",
          "state": {
            "_view_name": "LayoutView",
            "grid_template_rows": null,
            "right": null,
            "justify_content": null,
            "_view_module": "@jupyter-widgets/base",
            "overflow": null,
            "_model_module_version": "1.2.0",
            "_view_count": null,
            "flex_flow": null,
            "width": null,
            "min_width": null,
            "border": null,
            "align_items": null,
            "bottom": null,
            "_model_module": "@jupyter-widgets/base",
            "top": null,
            "grid_column": null,
            "overflow_y": null,
            "overflow_x": null,
            "grid_auto_flow": null,
            "grid_area": null,
            "grid_template_columns": null,
            "flex": null,
            "_model_name": "LayoutModel",
            "justify_items": null,
            "grid_row": null,
            "max_height": null,
            "align_content": null,
            "visibility": null,
            "align_self": null,
            "height": null,
            "min_height": null,
            "padding": null,
            "grid_auto_rows": null,
            "grid_gap": null,
            "max_width": null,
            "order": null,
            "_view_module_version": "1.2.0",
            "grid_template_areas": null,
            "object_position": null,
            "object_fit": null,
            "grid_auto_columns": null,
            "margin": null,
            "display": null,
            "left": null
          }
        },
        "6ca3e6da42744627bca714428b75b913": {
          "model_module": "@jupyter-widgets/controls",
          "model_name": "DescriptionStyleModel",
          "model_module_version": "1.5.0",
          "state": {
            "_view_name": "StyleView",
            "_model_name": "DescriptionStyleModel",
            "description_width": "",
            "_view_module": "@jupyter-widgets/base",
            "_model_module_version": "1.5.0",
            "_view_count": null,
            "_view_module_version": "1.2.0",
            "_model_module": "@jupyter-widgets/controls"
          }
        },
        "a875fbc125cb44a1a04fd8a7882ebbb4": {
          "model_module": "@jupyter-widgets/base",
          "model_name": "LayoutModel",
          "model_module_version": "1.2.0",
          "state": {
            "_view_name": "LayoutView",
            "grid_template_rows": null,
            "right": null,
            "justify_content": null,
            "_view_module": "@jupyter-widgets/base",
            "overflow": null,
            "_model_module_version": "1.2.0",
            "_view_count": null,
            "flex_flow": null,
            "width": null,
            "min_width": null,
            "border": null,
            "align_items": null,
            "bottom": null,
            "_model_module": "@jupyter-widgets/base",
            "top": null,
            "grid_column": null,
            "overflow_y": null,
            "overflow_x": null,
            "grid_auto_flow": null,
            "grid_area": null,
            "grid_template_columns": null,
            "flex": null,
            "_model_name": "LayoutModel",
            "justify_items": null,
            "grid_row": null,
            "max_height": null,
            "align_content": null,
            "visibility": null,
            "align_self": null,
            "height": null,
            "min_height": null,
            "padding": null,
            "grid_auto_rows": null,
            "grid_gap": null,
            "max_width": null,
            "order": null,
            "_view_module_version": "1.2.0",
            "grid_template_areas": null,
            "object_position": null,
            "object_fit": null,
            "grid_auto_columns": null,
            "margin": null,
            "display": null,
            "left": null
          }
        }
      }
    }
  },
  "cells": [
    {
      "cell_type": "markdown",
      "metadata": {
        "id": "view-in-github",
        "colab_type": "text"
      },
      "source": [
        "<a href=\"https://colab.research.google.com/github/tjrudrnr2/A.I/blob/main/notebook/4w_hw1_mlp.ipynb\" target=\"_parent\"><img src=\"https://colab.research.google.com/assets/colab-badge.svg\" alt=\"Open In Colab\"/></a>"
      ]
    },
    {
      "cell_type": "markdown",
      "metadata": {
        "id": "ZcyiVUeZr2cJ"
      },
      "source": [
        "<table class=\"tfo-notebook-buttons\" align=\"left\">\n",
        "  <td>\n",
        "    <a target=\"_blank\" href=\"https://colab.research.google.com/github/sjchoi86/upstage-basic-deeplearning/blob/main/notebook/mlp.ipynb\"><img src=\"https://www.tensorflow.org/images/colab_logo_32px.png\" />Colab</a>\n",
        "  </td>\n",
        "  <td>\n",
        "    <a target=\"_blank\" href=\"https://github.com/sjchoi86/upstage-basic-deeplearning/blob/main/notebook/mlp.ipynb\"><img src=\"https://www.tensorflow.org/images/GitHub-Mark-32px.png\" />View Source</a>\n",
        "  </td>\n",
        "</table>"
      ]
    },
    {
      "cell_type": "markdown",
      "metadata": {
        "id": "w0aqRluNsI38"
      },
      "source": [
        "# Multilayer Perceptron (MLP)\n",
        "이번 과제는 Multi-layer perceptron 을 사용한 MNIST classification을 구현해봅니다. 밑바닥부터 구현하는 것은 아니고 \"FILL IN HERE\" 부분을 채우시면 됩니다. 지워진 부분을 찾아서 코드를 작성한 후 실행해보세요."
      ]
    },
    {
      "cell_type": "code",
      "metadata": {
        "id": "EXxbX-Diq9rq",
        "outputId": "6d34e70d-e8a5-4166-d5ce-f0f02c086540",
        "colab": {
          "base_uri": "https://localhost:8080/"
        }
      },
      "source": [
        "import numpy as np\n",
        "import matplotlib.pyplot as plt\n",
        "import torch\n",
        "import torch.nn as nn\n",
        "import torch.optim as optim\n",
        "import torch.nn.functional as F\n",
        "%matplotlib inline\n",
        "%config InlineBackend.figure_format='retina'\n",
        "print (\"PyTorch version:[%s].\"%(torch.__version__))\n",
        "device = torch.device('cuda:0' if torch.cuda.is_available() else 'cpu')\n",
        "print (\"device:[%s].\"%(device))"
      ],
      "execution_count": null,
      "outputs": [
        {
          "output_type": "stream",
          "name": "stdout",
          "text": [
            "PyTorch version:[1.10.0+cu111].\n",
            "device:[cuda:0].\n"
          ]
        }
      ]
    },
    {
      "cell_type": "markdown",
      "metadata": {
        "id": "7HWvC0ZltF8a"
      },
      "source": [
        "### Dataset\n",
        " MNIST는 간단한 컴퓨터 비전 데이터 세트로, 아래와 같이 손으로 쓰여진 이미지들로 구성되어 있습니다. 숫자는 0에서 1까지의 값을 갖는 고정 크기 이미지 (28x28 픽셀)로 크기 표준화되고 중심에 배치되었습니다.\n",
        " \n",
        "![mnist.png](data:image/png;base64,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)\n",
        " "
      ]
    },
    {
      "cell_type": "code",
      "metadata": {
        "id": "uaokkwJwsN5I",
        "outputId": "781ab3aa-8191-443f-b057-68297c4f6f1f",
        "colab": {
          "base_uri": "https://localhost:8080/",
          "height": 764,
          "referenced_widgets": [
            "9aeb974fb0d742f9a018f4ec9d8852e0",
            "989bd0654d234765bf0bd7f3a5e92469",
            "36162c38721b444b934b7a3dce2bdd57",
            "95ebd9e5bcc84068ab5a4b437ebd19b0",
            "0d0b9e9ca892478eb20522e89fc22fa1",
            "1ce9442bb5884c1fa3b91ced4b5c9fe7",
            "2457ebe69d7b47d99c9cbd4e798ab9d9",
            "6dae35fe9bdb4d8e870fe686167e0bda",
            "54ca8caf58aa411a896870a2c2f0d838",
            "2332c96bd83c409cb3681817189f178f",
            "446d6ba88bff4db89025185df8cc64c1",
            "def967aa541e46a5b38c8c7ab52e7702",
            "387d1cb925154945966ce5cb61145823",
            "eb00a2ffd9b04d5ebcb8dad328f13dba",
            "97277d3fb0194934a03fc9f641660e13",
            "223d357cfc804ec2a6028c7d7f4156e9",
            "350468c2d99c4d7c81379b790bb3b248",
            "4065ee1df1de4b99a1d30b5125534083",
            "559477bf251f4a1298f7e72827b965f2",
            "2f45db8e5ae04f1dab51d6ed8baea1f6",
            "7a4b78169adb463ba4fe36f8dbe5f8aa",
            "0df6d8180abd4e4c9ca31cd9024a1407",
            "44c25d8ad5bb4d6897d6e5569b4f2225",
            "0d467a10f900473d94b89a72f0fc0f25",
            "ddcfa85e3e72419e9ad4f6d1368f91ef",
            "ff6f5e3c16e840fb8db6ecde0023997b",
            "8daf324aa3cb443e9ce320d443cf643c",
            "e469331426ad4714ac56989d206a54ec",
            "cf4ba1d73021413c81ef8a6298bf9386",
            "d5ede23199c7433f9ef00f991cdeaee5",
            "68adaa4e3fef42a488bc25a98f51c0a6",
            "d9bafa33d3ae455fb9af8529e6692151",
            "ecd3bdeb43674c40b09e8738d7747990",
            "807af19630cb4a08950c04ae0da611be",
            "0432af8887ac4cc4962172c1b08b5138",
            "192fa79b290843578f1bb92b333c3149",
            "5a5935055ac64f06b1ba58ad0f67c5f4",
            "85d29d7f315043dea7e45bede025892a",
            "17a9a1852b2746a59d892183128abdf6",
            "54c5c3f51b224935b11a6909e9003bea",
            "b98b6a12395f4a8aa3fdcb7cc2fe4a98",
            "9364e276876540b6989e135522bdbd64",
            "6ca3e6da42744627bca714428b75b913",
            "a875fbc125cb44a1a04fd8a7882ebbb4"
          ]
        }
      },
      "source": [
        "from torchvision import datasets,transforms\n",
        "mnist_train = datasets.MNIST(root='./data/',train=True,transform=transforms.ToTensor(),download=True)\n",
        "mnist_test = datasets.MNIST(root='./data/',train=False,transform=transforms.ToTensor(),download=True)\n",
        "print (\"mnist_train:\\n\",mnist_train,\"\\n\")\n",
        "print (\"mnist_test:\\n\",mnist_test,\"\\n\")\n",
        "print (\"Done.\")"
      ],
      "execution_count": null,
      "outputs": [
        {
          "output_type": "stream",
          "name": "stdout",
          "text": [
            "Downloading http://yann.lecun.com/exdb/mnist/train-images-idx3-ubyte.gz\n",
            "Downloading http://yann.lecun.com/exdb/mnist/train-images-idx3-ubyte.gz to ./data/MNIST/raw/train-images-idx3-ubyte.gz\n"
          ]
        },
        {
          "output_type": "display_data",
          "data": {
            "application/vnd.jupyter.widget-view+json": {
              "model_id": "9aeb974fb0d742f9a018f4ec9d8852e0",
              "version_minor": 0,
              "version_major": 2
            },
            "text/plain": [
              "  0%|          | 0/9912422 [00:00<?, ?it/s]"
            ]
          },
          "metadata": {}
        },
        {
          "output_type": "stream",
          "name": "stdout",
          "text": [
            "Extracting ./data/MNIST/raw/train-images-idx3-ubyte.gz to ./data/MNIST/raw\n",
            "\n",
            "Downloading http://yann.lecun.com/exdb/mnist/train-labels-idx1-ubyte.gz\n",
            "Downloading http://yann.lecun.com/exdb/mnist/train-labels-idx1-ubyte.gz to ./data/MNIST/raw/train-labels-idx1-ubyte.gz\n"
          ]
        },
        {
          "output_type": "display_data",
          "data": {
            "application/vnd.jupyter.widget-view+json": {
              "model_id": "def967aa541e46a5b38c8c7ab52e7702",
              "version_minor": 0,
              "version_major": 2
            },
            "text/plain": [
              "  0%|          | 0/28881 [00:00<?, ?it/s]"
            ]
          },
          "metadata": {}
        },
        {
          "output_type": "stream",
          "name": "stdout",
          "text": [
            "Extracting ./data/MNIST/raw/train-labels-idx1-ubyte.gz to ./data/MNIST/raw\n",
            "\n",
            "Downloading http://yann.lecun.com/exdb/mnist/t10k-images-idx3-ubyte.gz\n",
            "Downloading http://yann.lecun.com/exdb/mnist/t10k-images-idx3-ubyte.gz to ./data/MNIST/raw/t10k-images-idx3-ubyte.gz\n"
          ]
        },
        {
          "output_type": "display_data",
          "data": {
            "application/vnd.jupyter.widget-view+json": {
              "model_id": "44c25d8ad5bb4d6897d6e5569b4f2225",
              "version_minor": 0,
              "version_major": 2
            },
            "text/plain": [
              "  0%|          | 0/1648877 [00:00<?, ?it/s]"
            ]
          },
          "metadata": {}
        },
        {
          "output_type": "stream",
          "name": "stdout",
          "text": [
            "Extracting ./data/MNIST/raw/t10k-images-idx3-ubyte.gz to ./data/MNIST/raw\n",
            "\n",
            "Downloading http://yann.lecun.com/exdb/mnist/t10k-labels-idx1-ubyte.gz\n",
            "Downloading http://yann.lecun.com/exdb/mnist/t10k-labels-idx1-ubyte.gz to ./data/MNIST/raw/t10k-labels-idx1-ubyte.gz\n"
          ]
        },
        {
          "output_type": "display_data",
          "data": {
            "application/vnd.jupyter.widget-view+json": {
              "model_id": "807af19630cb4a08950c04ae0da611be",
              "version_minor": 0,
              "version_major": 2
            },
            "text/plain": [
              "  0%|          | 0/4542 [00:00<?, ?it/s]"
            ]
          },
          "metadata": {}
        },
        {
          "output_type": "stream",
          "name": "stdout",
          "text": [
            "Extracting ./data/MNIST/raw/t10k-labels-idx1-ubyte.gz to ./data/MNIST/raw\n",
            "\n",
            "mnist_train:\n",
            " Dataset MNIST\n",
            "    Number of datapoints: 60000\n",
            "    Root location: ./data/\n",
            "    Split: Train\n",
            "    StandardTransform\n",
            "Transform: ToTensor() \n",
            "\n",
            "mnist_test:\n",
            " Dataset MNIST\n",
            "    Number of datapoints: 10000\n",
            "    Root location: ./data/\n",
            "    Split: Test\n",
            "    StandardTransform\n",
            "Transform: ToTensor() \n",
            "\n",
            "Done.\n"
          ]
        }
      ]
    },
    {
      "cell_type": "markdown",
      "metadata": {
        "id": "A4lP2QQoBXGw"
      },
      "source": [
        "### Data Iterator"
      ]
    },
    {
      "cell_type": "code",
      "metadata": {
        "id": "_0TKrHSCBWzm",
        "outputId": "5c88556c-5184-4d84-ed9b-7f838cdd51b5",
        "colab": {
          "base_uri": "https://localhost:8080/"
        }
      },
      "source": [
        "BATCH_SIZE = 256\n",
        "train_iter = torch.utils.data.DataLoader(mnist_train,batch_size=BATCH_SIZE,shuffle=True,num_workers=1)\n",
        "test_iter = torch.utils.data.DataLoader(mnist_test,batch_size=BATCH_SIZE,shuffle=True,num_workers=1)\n",
        "print (\"Done.\")"
      ],
      "execution_count": null,
      "outputs": [
        {
          "output_type": "stream",
          "name": "stdout",
          "text": [
            "Done.\n"
          ]
        }
      ]
    },
    {
      "cell_type": "markdown",
      "metadata": {
        "id": "081T7_3lvk-N"
      },
      "source": [
        "### Define the MLP model"
      ]
    },
    {
      "cell_type": "code",
      "metadata": {
        "id": "U4mWpPXouPCR",
        "outputId": "28016374-9243-4b61-f1ce-83715f6b61a1",
        "colab": {
          "base_uri": "https://localhost:8080/"
        }
      },
      "source": [
        "class MultiLayerPerceptronClass(nn.Module):\n",
        "    \"\"\"\n",
        "        Multilayer Perceptron (MLP) Class\n",
        "    \"\"\"\n",
        "    def __init__(self,name='mlp',xdim=784,hdim=256,ydim=10):\n",
        "        super(MultiLayerPerceptronClass,self).__init__()\n",
        "        self.name = name\n",
        "        self.xdim = xdim\n",
        "        self.hdim = hdim\n",
        "        self.ydim = ydim\n",
        "        self.lin_1 = nn.Linear(\n",
        "            # FILL IN HERE\n",
        "            xdim, hdim\n",
        "        )\n",
        "        self.lin_2 = nn.Linear(\n",
        "            # FILL IN HERE\n",
        "            hdim, ydim\n",
        "        )\n",
        "        self.init_param() # initialize parameters\n",
        "        \n",
        "    def init_param(self):\n",
        "        nn.init.kaiming_normal_(self.lin_1.weight)\n",
        "        nn.init.zeros_(self.lin_1.bias)\n",
        "        nn.init.kaiming_normal_(self.lin_2.weight)\n",
        "        nn.init.zeros_(self.lin_2.bias)\n",
        "\n",
        "    def forward(self,x):\n",
        "        net = x\n",
        "        net = self.lin_1(net)\n",
        "        net = F.relu(net)\n",
        "        net = self.lin_2(net)\n",
        "        return net\n",
        "\n",
        "M = MultiLayerPerceptronClass(name='mlp',xdim=784,hdim=256,ydim=10).to(device)\n",
        "loss = nn.CrossEntropyLoss()\n",
        "optm = optim.Adam(M.parameters(),lr=1e-3)\n",
        "print (\"Done.\")"
      ],
      "execution_count": null,
      "outputs": [
        {
          "output_type": "stream",
          "name": "stdout",
          "text": [
            "Done.\n"
          ]
        }
      ]
    },
    {
      "cell_type": "markdown",
      "metadata": {
        "id": "FrPPFQi56NDk"
      },
      "source": [
        "### Simple Forward Path of the MLP Model"
      ]
    },
    {
      "cell_type": "code",
      "metadata": {
        "id": "0rOz8a1Gw1Xi",
        "outputId": "3e542fba-b847-4901-fa8d-1b5d45af407a",
        "colab": {
          "base_uri": "https://localhost:8080/"
        }
      },
      "source": [
        "x_numpy = np.random.rand(2,784)\n",
        "x_torch = torch.from_numpy(x_numpy).float().to(device)\n",
        "y_torch = M.forward(x_torch) # forward path\n",
        "y_numpy = y_torch.detach().cpu().numpy() # torch tensor to numpy array\n",
        "print (\"x_numpy:\\n\",x_numpy)\n",
        "print (\"x_torch:\\n\",x_torch)\n",
        "print (\"y_torch:\\n\",y_torch)\n",
        "print (\"y_numpy:\\n\",y_numpy)"
      ],
      "execution_count": null,
      "outputs": [
        {
          "output_type": "stream",
          "name": "stdout",
          "text": [
            "x_numpy:\n",
            " [[0.82785203 0.11815127 0.68750486 ... 0.67214255 0.70939849 0.02217569]\n",
            " [0.20956447 0.3554494  0.37368543 ... 0.2580676  0.90565503 0.85229906]]\n",
            "x_torch:\n",
            " tensor([[0.8279, 0.1182, 0.6875,  ..., 0.6721, 0.7094, 0.0222],\n",
            "        [0.2096, 0.3554, 0.3737,  ..., 0.2581, 0.9057, 0.8523]],\n",
            "       device='cuda:0')\n",
            "y_torch:\n",
            " tensor([[-0.8972,  0.1681, -1.0923, -0.3501,  0.2337,  1.6131, -0.7149, -0.1661,\n",
            "         -1.8113,  0.5979],\n",
            "        [-0.4365, -0.2328, -0.7792, -0.6170,  0.3747,  1.8177, -0.6667, -0.3116,\n",
            "         -2.0661,  0.6464]], device='cuda:0', grad_fn=<AddmmBackward0>)\n",
            "y_numpy:\n",
            " [[-0.8972395   0.16809453 -1.0922543  -0.35005623  0.23370047  1.6131176\n",
            "  -0.7149389  -0.16609868 -1.8112602   0.5978712 ]\n",
            " [-0.4365401  -0.23276095 -0.7792221  -0.61696887  0.37465492  1.8177046\n",
            "  -0.6666707  -0.31159705 -2.0660946   0.64639866]]\n"
          ]
        }
      ]
    },
    {
      "cell_type": "markdown",
      "metadata": {
        "id": "zzd12JKl7NpX"
      },
      "source": [
        "### Check Parameters"
      ]
    },
    {
      "cell_type": "code",
      "metadata": {
        "id": "3Rmd2r_kw1s0",
        "outputId": "12598d5b-d192-4f8b-8cf0-f80aad05448d",
        "colab": {
          "base_uri": "https://localhost:8080/"
        }
      },
      "source": [
        "np.set_printoptions(precision=3)\n",
        "n_param = 0\n",
        "for p_idx,(param_name,param) in enumerate(M.named_parameters()):\n",
        "    param_numpy = param.detach().cpu().numpy()\n",
        "    n_param += len(param_numpy.reshape(-1))\n",
        "    print (\"[%d] name:[%s] shape:[%s].\"%(p_idx,param_name,param_numpy.shape))\n",
        "    print (\"    val:%s\"%(param_numpy.reshape(-1)[:5]))\n",
        "print (\"Total number of parameters:[%s].\"%(format(n_param,',d')))"
      ],
      "execution_count": null,
      "outputs": [
        {
          "output_type": "stream",
          "name": "stdout",
          "text": [
            "[0] name:[lin_1.weight] shape:[(256, 784)].\n",
            "    val:[ 0.011 -0.018  0.035  0.036 -0.017]\n",
            "[1] name:[lin_1.bias] shape:[(256,)].\n",
            "    val:[0. 0. 0. 0. 0.]\n",
            "[2] name:[lin_2.weight] shape:[(10, 256)].\n",
            "    val:[ 0.12  -0.012  0.113 -0.091  0.079]\n",
            "[3] name:[lin_2.bias] shape:[(10,)].\n",
            "    val:[0. 0. 0. 0. 0.]\n",
            "Total number of parameters:[203,530].\n"
          ]
        }
      ]
    },
    {
      "cell_type": "markdown",
      "metadata": {
        "id": "VVaqrcXUA5EB"
      },
      "source": [
        "### Evaluation Function"
      ]
    },
    {
      "cell_type": "code",
      "metadata": {
        "id": "SxXyYXH75Veq",
        "outputId": "5b2447f4-3bf3-476b-a3da-0786d7210799",
        "colab": {
          "base_uri": "https://localhost:8080/"
        }
      },
      "source": [
        "def func_eval(model,data_iter,device):\n",
        "    with torch.no_grad():\n",
        "        model.eval() # evaluate (affects DropOut and BN)\n",
        "        n_total,n_correct = 0,0\n",
        "        for batch_in,batch_out in data_iter:\n",
        "            y_trgt = batch_out.to(device)\n",
        "            model_pred = model(\n",
        "                # FILL IN HERE\n",
        "                batch_in.view(-1,28*28).to(device)\n",
        "            )\n",
        "            _,y_pred = torch.max(model_pred.data,1)\n",
        "            n_correct += (\n",
        "                # FILL IN HERE\n",
        "                y_pred==y_trgt\n",
        "            ).sum().item()\n",
        "            n_total += batch_in.size(0)\n",
        "        val_accr = (n_correct/n_total)\n",
        "        model.train() # back to train mode \n",
        "    return val_accr\n",
        "print (\"Done\")"
      ],
      "execution_count": null,
      "outputs": [
        {
          "output_type": "stream",
          "name": "stdout",
          "text": [
            "Done\n"
          ]
        }
      ]
    },
    {
      "cell_type": "markdown",
      "metadata": {
        "id": "WmmJjAFKKOrB"
      },
      "source": [
        "### Initial Evaluation"
      ]
    },
    {
      "cell_type": "code",
      "metadata": {
        "id": "pNlGD1TlA4T8",
        "outputId": "9eb84b8b-90dc-42ba-f584-275a59e249e8",
        "colab": {
          "base_uri": "https://localhost:8080/"
        }
      },
      "source": [
        "M.init_param() # initialize parameters\n",
        "train_accr = func_eval(M,train_iter,device)\n",
        "test_accr = func_eval(M,test_iter,device)\n",
        "print (\"train_accr:[%.3f] test_accr:[%.3f].\"%(train_accr,test_accr))"
      ],
      "execution_count": null,
      "outputs": [
        {
          "output_type": "stream",
          "name": "stdout",
          "text": [
            "train_accr:[0.109] test_accr:[0.103].\n"
          ]
        }
      ]
    },
    {
      "cell_type": "markdown",
      "metadata": {
        "id": "yT_r2wMZLjTm"
      },
      "source": [
        "### Train"
      ]
    },
    {
      "cell_type": "code",
      "metadata": {
        "id": "3AS5BdrMw1E9",
        "outputId": "74748913-a110-4502-b415-44bd26d06937",
        "colab": {
          "base_uri": "https://localhost:8080/"
        }
      },
      "source": [
        "print (\"Start training.\")\n",
        "M.init_param() # initialize parameters\n",
        "M.train()\n",
        "EPOCHS,print_every = 10,1\n",
        "for epoch in range(EPOCHS):\n",
        "    loss_val_sum = 0\n",
        "    for batch_in,batch_out in train_iter:\n",
        "        # Forward path\n",
        "        y_pred = M.forward(batch_in.view(-1, 28*28).to(device))\n",
        "        loss_out = loss(y_pred,batch_out.to(device))\n",
        "        # Update\n",
        "        optm.zero_grad()      # reset gradient \n",
        "        loss_out.backward()      # backpropagate\n",
        "        optm.step()      # optimizer update\n",
        "        loss_val_sum += loss_out\n",
        "    loss_val_avg = loss_val_sum/len(train_iter)\n",
        "    # Print\n",
        "    if ((epoch%print_every)==0) or (epoch==(EPOCHS-1)):\n",
        "        train_accr = func_eval(M,train_iter,device)\n",
        "        test_accr = func_eval(M,test_iter,device)\n",
        "        print (\"epoch:[%d] loss:[%.3f] train_accr:[%.3f] test_accr:[%.3f].\"%\n",
        "               (epoch,loss_val_avg,train_accr,test_accr))\n",
        "print (\"Done\")        "
      ],
      "execution_count": null,
      "outputs": [
        {
          "output_type": "stream",
          "name": "stdout",
          "text": [
            "Start training.\n",
            "epoch:[0] loss:[0.382] train_accr:[0.945] test_accr:[0.943].\n",
            "epoch:[1] loss:[0.165] train_accr:[0.965] test_accr:[0.962].\n",
            "epoch:[2] loss:[0.118] train_accr:[0.974] test_accr:[0.967].\n",
            "epoch:[3] loss:[0.090] train_accr:[0.980] test_accr:[0.972].\n",
            "epoch:[4] loss:[0.072] train_accr:[0.984] test_accr:[0.976].\n",
            "epoch:[5] loss:[0.057] train_accr:[0.988] test_accr:[0.977].\n",
            "epoch:[6] loss:[0.048] train_accr:[0.990] test_accr:[0.976].\n",
            "epoch:[7] loss:[0.041] train_accr:[0.992] test_accr:[0.977].\n",
            "epoch:[8] loss:[0.033] train_accr:[0.994] test_accr:[0.978].\n",
            "epoch:[9] loss:[0.028] train_accr:[0.995] test_accr:[0.979].\n",
            "Done\n"
          ]
        }
      ]
    },
    {
      "cell_type": "markdown",
      "metadata": {
        "id": "NHQIhg-aNok5"
      },
      "source": [
        "### Test"
      ]
    },
    {
      "cell_type": "code",
      "metadata": {
        "id": "52zoFQxdMWRU",
        "outputId": "21adbc28-8a0d-47c4-f844-7e032f1a3297",
        "colab": {
          "base_uri": "https://localhost:8080/",
          "height": 608
        }
      },
      "source": [
        "n_sample = 25\n",
        "sample_indices = np.random.choice(len(mnist_test.targets), n_sample, replace=False)\n",
        "test_x = mnist_test.data[sample_indices]\n",
        "test_y = mnist_test.targets[sample_indices]\n",
        "with torch.no_grad():\n",
        "    y_pred = M.forward(test_x.view(-1, 28*28).type(torch.float).to(device)/255.)\n",
        "y_pred = y_pred.argmax(axis=1)\n",
        "plt.figure(figsize=(10,10))\n",
        "for idx in range(n_sample):\n",
        "    plt.subplot(5, 5, idx+1)\n",
        "    plt.imshow(test_x[idx], cmap='gray')\n",
        "    plt.axis('off')\n",
        "    plt.title(\"Pred:%d, Label:%d\"%(y_pred[idx],test_y[idx]))\n",
        "plt.show()    \n",
        "print (\"Done\")"
      ],
      "execution_count": null,
      "outputs": [
        {
          "output_type": "display_data",
          "data": {
            "image/png": "[encoded data removed]",
            "text/plain": [
              "<Figure size 720x720 with 25 Axes>"
            ]
          },
          "metadata": {
            "image/png": {
              "width": 569,
              "height": 573
            },
            "needs_background": "light"
          }
        },
        {
          "output_type": "stream",
          "name": "stdout",
          "text": [
            "Done\n"
          ]
        }
      ]
    },
    {
      "cell_type": "code",
      "metadata": {
        "id": "Ikf5C7uV_ExD"
      },
      "source": [
        ""
      ],
      "execution_count": null,
      "outputs": []
    }
  ]
}