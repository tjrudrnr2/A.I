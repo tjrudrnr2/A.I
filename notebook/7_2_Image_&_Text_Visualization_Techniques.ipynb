{
  "nbformat": 4,
  "nbformat_minor": 0,
  "metadata": {
    "kernelspec": {
      "display_name": "Python 3",
      "language": "python",
      "name": "python3"
    },
    "language_info": {
      "codemirror_mode": {
        "name": "ipython",
        "version": 3
      },
      "file_extension": ".py",
      "mimetype": "text/x-python",
      "name": "python",
      "nbconvert_exporter": "python",
      "pygments_lexer": "ipython3",
      "version": "3.9.2"
    },
    "colab": {
      "name": "7-2. Image & Text Visualization Techniques.ipynb",
      "provenance": [],
      "include_colab_link": true
    }
  },
  "cells": [
    {
      "cell_type": "markdown",
      "metadata": {
        "id": "view-in-github",
        "colab_type": "text"
      },
      "source": [
        "<a href=\"https://colab.research.google.com/github/tjrudrnr2/A.I/blob/main/notebook/7_2_Image_%26_Text_Visualization_Techniques.ipynb\" target=\"_parent\"><img src=\"https://colab.research.google.com/assets/colab-badge.svg\" alt=\"Open In Colab\"/></a>"
      ]
    },
    {
      "cell_type": "code",
      "metadata": {
        "id": "By5FMxUmneUn"
      },
      "source": [
        "import numpy as np\n",
        "import pandas as pd\n",
        "import matplotlib as mpl\n",
        "import matplotlib.pyplot as plt\n",
        "import seaborn as sns"
      ],
      "execution_count": null,
      "outputs": []
    },
    {
      "cell_type": "markdown",
      "metadata": {
        "id": "jxtMeEafneUp"
      },
      "source": [
        "## 1. 비정형 데이터셋에 사용할 수 있는 EDA & Visualization\n",
        "\n",
        "앞서서 배운 matplotlib / seaborn / plotly (express)를 사용하면 목적에 맞게 시각화를 할 수 있습니다.\n",
        "\n",
        "일반적으로 비정형 데이터셋 (AI task)에서 시각화는 다음과 같은 시각화를 진행할 수 있습니다.\n",
        "\n",
        "1. **dataset meta data visualization**\n",
        "    - target distribution \n",
        "        - 훈련 상에서 발생할 수 있는 문제점 예측\n",
        "        - augmentation 방법론 및 모델 선택 시 도움\n",
        "2. **dataset listup**\n",
        "    - only dataset\n",
        "        - 데이터셋의 일부를 리스트업하여\n",
        "    - datset-target(bounding box 등)\n",
        "        - gt, prediction 등을 정답 데이터와 비교하여 문제점 발견 가능\n",
        "3. **visual analytics**\n",
        "    - dimension reduction(pca, lda, tsne, umap) + scatter plot (2d, 3d)\n",
        "        - text의 경우에는 word2vec 등의 과정을 거쳐야함\n",
        "    - data-data relation  network visualization\n",
        "3. **train/inference visualization**\n",
        "    - loss graph\n",
        "        - wandb / tensorboard 등 다양한 툴로 모델의 훈련과정 확인\n",
        "    - result  \n",
        "4. **etc**\n",
        "    - XAI : \n",
        "        - [Visual Analytics in Deep Learning: An Interrogative Survey for the Next Frontiers](https://arxiv.org/abs/1801.06889)\n",
        "        - XAI using torch : https://captum.ai/\n",
        "        - saliency map (heatmap visualization)\n",
        "    - node-link diagram (network visualization)\n",
        "        - http://alexlenail.me/NN-SVG/\n",
        "        - https://github.com/HarisIqbal88/PlotNeuralNet\n",
        "        - http://ethereon.github.io/netscope/quickstart.html\n",
        "\n",
        "이 과정에서 다음과 같은 고민을 병행할 수 있습니다.\n",
        "\n",
        "- Interaction의 필요성\n",
        "    - jupyter notebook : 함수형으로 1번에 1개를 만드는 방식\n",
        "    - web demo : 모든 내용을 한 번에 db에 올려서 사용 (느릴 수 있음)\n",
        "- 데이터셋의 배치\n",
        "- 적절한 색과 투명도 사용"
      ]
    },
    {
      "cell_type": "markdown",
      "metadata": {
        "id": "-7gr1JmOneUq"
      },
      "source": [
        "## 2. Image Dataset Visualization\n",
        "\n",
        "이미지 데이터는 시각적으로 보여줄 수 있는 요소가 많으면서도 적습니다.\n",
        "\n",
        "### 2-1. 이미지 나열\n",
        "\n",
        "대표적인 이미지 나열에는 Google에서 발표한 Facet이 대표적입니다.\n",
        "\n",
        "- Facet : https://pair-code.github.io/facets/\n",
        "\n",
        "간단한 숫자 데이터로 실험을 해보겠습니다."
      ]
    },
    {
      "cell_type": "code",
      "metadata": {
        "id": "NQNyn-uHneUr"
      },
      "source": [
        "from sklearn.datasets import load_digits\n",
        "digits = load_digits()\n",
        "data = digits['data']\n",
        "target = digits['target']"
      ],
      "execution_count": null,
      "outputs": []
    },
    {
      "cell_type": "markdown",
      "metadata": {
        "id": "2LYw1IXwneUr"
      },
      "source": [
        "`ax.imshow`를 사용하여 일반적인 시각화를 진행할 수 있습니다. (또는 `sns.heatmap`, `px.imshow`)"
      ]
    },
    {
      "cell_type": "code",
      "metadata": {
        "id": "_Tv-09mjneUr"
      },
      "source": [
        "fig, axes = plt.subplots(2, 5, figsize=(20, 8))\n",
        "axes = axes.flatten()\n",
        "for i in range(10):\n",
        "    axes[i].imshow(data[i].reshape(8, 8), \n",
        "                   cmap='gray_r'\n",
        "                  )\n",
        "\n",
        "    axes[i].set_title(target[i], fontweight='bold')\n",
        "    axes[i].spines[['top', 'bottom', 'left', 'right']].set_color('red')\n",
        "    axes[i].spines[['top', 'bottom', 'left', 'right']].set_linewidth(2)\n",
        "    axes[i].set_xticks([])\n",
        "    axes[i].set_yticks([])\n",
        "#     axes[i].axis('off')\n",
        "\n",
        "# margin 조정\n",
        "fig.subplots_adjust(left=0.125,\n",
        "                    bottom=0.1, \n",
        "                    right=0.9, \n",
        "                    top=0.9, \n",
        "                    wspace=0, \n",
        "                    hspace=0)\n",
        "\n",
        "fig.tight_layout()\n",
        "\n",
        "plt.show()"
      ],
      "execution_count": null,
      "outputs": []
    },
    {
      "cell_type": "markdown",
      "metadata": {
        "id": "tQ7VuEyIneUs"
      },
      "source": [
        "### 2-2. Patch 사용하기"
      ]
    },
    {
      "cell_type": "code",
      "metadata": {
        "id": "GsjnrMT_neUt"
      },
      "source": [
        "import matplotlib.patches as patches\n",
        "\n",
        "fig, ax = plt.subplots(1, 1, figsize=(5, 5))\n",
        "\n",
        "ax.imshow(data[0].reshape(8, 8), cmap='gray_r')\n",
        "# ax.axis('off')\n",
        "\n",
        "rect = patches.Rectangle((1, 2), \n",
        "                         3, 4, \n",
        "                         linewidth=2, edgecolor='r', facecolor='red', alpha=0.3)\n",
        "\n",
        "ax.add_patch(rect)\n",
        "plt.show()"
      ],
      "execution_count": null,
      "outputs": []
    },
    {
      "cell_type": "markdown",
      "metadata": {
        "id": "Vc7wWnPNneUt"
      },
      "source": [
        "- Baseline Code by 송원호 마스터님 / 김현우 마스터님"
      ]
    },
    {
      "cell_type": "code",
      "metadata": {
        "id": "m8IPW8JjneUt"
      },
      "source": [
        "import skimage.io as io\n",
        "import json\n",
        "from matplotlib.collections import PatchCollection\n",
        "from matplotlib.patches import Polygon\n",
        "\n",
        "dataset_path = './input/data'\n",
        "anns_file_path = dataset_path + '/' + 'train.json'\n",
        "\n",
        "# Read annotations\n",
        "with open(anns_file_path, 'r') as f:\n",
        "    dataset = json.loads(f.read())\n",
        "\n",
        "categories = dataset['categories']\n",
        "anns = dataset['annotations']\n",
        "imgs = dataset['images']\n",
        "nr_cats = len(categories)\n",
        "nr_annotations = len(anns)\n",
        "nr_images = len(imgs)\n",
        "\n",
        "# Load categories and super categories\n",
        "cat_names = []\n",
        "super_cat_names = []\n",
        "super_cat_ids = {}\n",
        "super_cat_last_name = ''\n",
        "nr_super_cats = 0\n",
        "for cat_it in categories:\n",
        "    cat_names.append(cat_it['name'])\n",
        "    super_cat_name = cat_it['supercategory']\n",
        "    # Adding new supercat\n",
        "    if super_cat_name != super_cat_last_name:\n",
        "        super_cat_names.append(super_cat_name)\n",
        "        super_cat_ids[super_cat_name] = nr_super_cats\n",
        "        super_cat_last_name = super_cat_name\n",
        "        nr_super_cats += 1\n",
        "\n",
        "cat_histogram = np.zeros(nr_cats,dtype=int)\n",
        "for ann in anns:\n",
        "    cat_histogram[ann['category_id']] += 1\n",
        "\n",
        "df = pd.DataFrame({'Categories': cat_names, 'Number of annotations': cat_histogram})\n",
        "df = df.sort_values('Number of annotations', 0, False)\n",
        "# category labeling \n",
        "sorted_temp_df = df.sort_index()\n",
        "\n",
        "# background = 0 에 해당되는 label 추가 후 기존들을 모두 label + 1 로 설정\n",
        "sorted_df = pd.DataFrame([\"Backgroud\"], columns = [\"Categories\"])\n",
        "sorted_df = sorted_df.append(sorted_temp_df, ignore_index=True)"
      ],
      "execution_count": null,
      "outputs": []
    },
    {
      "cell_type": "code",
      "metadata": {
        "id": "KV5uc7X4neUu"
      },
      "source": [
        "import warnings \n",
        "warnings.filterwarnings('ignore')\n",
        "\n",
        "import torch\n",
        "import torch.nn as nn\n",
        "from torch.utils.data import Dataset, DataLoader\n",
        "import cv2\n",
        "import os\n",
        "from pycocotools.coco import COCO\n",
        "import torchvision\n",
        "import torchvision.transforms as transforms\n",
        "\n",
        "category_names = list(sorted_df.Categories)\n",
        "\n",
        "def get_classname(classID, cats):\n",
        "    for i in range(len(cats)):\n",
        "        if cats[i]['id']==classID:\n",
        "            return cats[i]['name']\n",
        "    return \"None\"\n",
        "\n",
        "class CustomDataLoader(Dataset):\n",
        "    \"\"\"COCO format\"\"\"\n",
        "    def __init__(self, data_dir, mode = 'train', transform = None):\n",
        "        super().__init__()\n",
        "        self.mode = mode\n",
        "        self.transform = transform\n",
        "        self.coco = COCO(data_dir)\n",
        "        \n",
        "    def __getitem__(self, index: int):\n",
        "        # dataset이 index되어 list처럼 동작\n",
        "        image_id = self.coco.getImgIds(imgIds=index)\n",
        "        image_infos = self.coco.loadImgs(image_id)[0]\n",
        "        \n",
        "        # cv2 를 활용하여 image 불러오기\n",
        "        images = cv2.imread(os.path.join(dataset_path, image_infos['file_name']))\n",
        "        images = cv2.cvtColor(images, cv2.COLOR_BGR2RGB).astype(np.float32)\n",
        "        images /= 255.0\n",
        "        \n",
        "        if (self.mode in ('train', 'val')):\n",
        "            ann_ids = self.coco.getAnnIds(imgIds=image_infos['id'])\n",
        "            anns = self.coco.loadAnns(ann_ids)\n",
        "\n",
        "            # Load the categories in a variable\n",
        "            cat_ids = self.coco.getCatIds()\n",
        "            cats = self.coco.loadCats(cat_ids)\n",
        "\n",
        "            # masks : size가 (height x width)인 2D\n",
        "            # 각각의 pixel 값에는 \"category id + 1\" 할당\n",
        "            # Background = 0\n",
        "            masks = np.zeros((image_infos[\"height\"], image_infos[\"width\"]))\n",
        "            # Unknown = 1, General trash = 2, ... , Cigarette = 11\n",
        "            for i in range(len(anns)):\n",
        "                className = get_classname(anns[i]['category_id'], cats)\n",
        "                pixel_value = category_names.index(className)\n",
        "                masks = np.maximum(self.coco.annToMask(anns[i])*pixel_value, masks)\n",
        "            masks = masks.astype(np.float32)\n",
        "\n",
        "            # transform -> albumentations 라이브러리 활용\n",
        "            if self.transform is not None:\n",
        "                transformed = self.transform(image=images, mask=masks)\n",
        "                images = transformed[\"image\"]\n",
        "                masks = transformed[\"mask\"]\n",
        "            return images, masks, image_infos\n",
        "        \n",
        "    \n",
        "    \n",
        "    def __len__(self) -> int:\n",
        "        # 전체 dataset의 size를 return\n",
        "        return len(self.coco.getImgIds())"
      ],
      "execution_count": null,
      "outputs": []
    },
    {
      "cell_type": "code",
      "metadata": {
        "id": "7CAWQoZ3neUv"
      },
      "source": [
        "train_path = dataset_path + '/train.json'\n",
        "train_dataset = CustomDataLoader(data_dir=train_path, mode='train')"
      ],
      "execution_count": null,
      "outputs": []
    },
    {
      "cell_type": "code",
      "metadata": {
        "id": "iUExSSN0neUv"
      },
      "source": [
        "images, masks, image_infos = train_dataset[0]\n",
        "\n",
        "fig, ax = plt.subplots(1, 2, figsize=(12, 7))\n",
        "ax[0].imshow(images)\n",
        "ax[1].imshow(masks)\n",
        "\n",
        "plt.show()"
      ],
      "execution_count": null,
      "outputs": []
    },
    {
      "cell_type": "markdown",
      "metadata": {
        "id": "KqET8ddIneUv"
      },
      "source": [
        "기본적으로는 해당 부분을 겹쳐서 보여주는 방법이 있습니다. 이는 투명도로 조정할 수 있습니다."
      ]
    },
    {
      "cell_type": "code",
      "metadata": {
        "id": "LeB-aIcdneUv"
      },
      "source": [
        "images, masks, image_infos = train_dataset[0]\n",
        "\n",
        "fig, ax = plt.subplots(1, 1, figsize=(10, 10))\n",
        "ax.imshow(images)\n",
        "ax.imshow(masks, alpha=0.5, cmap='gray')\n",
        "\n",
        "\n",
        "plt.show()"
      ],
      "execution_count": null,
      "outputs": []
    },
    {
      "cell_type": "code",
      "metadata": {
        "id": "AVO7o4edneUw"
      },
      "source": [
        "import plotly.express as px\n",
        "fig = px.imshow(images)\n",
        "fig.show()"
      ],
      "execution_count": null,
      "outputs": []
    },
    {
      "cell_type": "markdown",
      "metadata": {
        "id": "hPfZDRnqneUw"
      },
      "source": [
        "- mask를 추출하는 부분은 base코드가 있으니 이를 사용하여 interaction추가도 가능"
      ]
    },
    {
      "cell_type": "code",
      "metadata": {
        "id": "vei-HFtlneUw"
      },
      "source": [
        "import plotly.graph_objects as go\n",
        "from PIL import Image \n",
        "\n",
        "def interactive_mask(img_title, img, msk):\n",
        "    img_width, img_height = 512, 512\n",
        "    scale_factor = 1.0\n",
        "    fig = go.Figure()\n",
        "    image = Image.fromarray((img*255).astype('uint8'))\n",
        "    fig.add_layout_image(\n",
        "        dict(\n",
        "            x=0,\n",
        "        sizex=img_width * scale_factor,\n",
        "        y=img_height * scale_factor,\n",
        "        sizey=img_height * scale_factor,\n",
        "        xref=\"x\",\n",
        "        yref=\"y\",\n",
        "            source=image,\n",
        "            layer=\"below\",\n",
        "            sizing=\"stretch\",\n",
        "        )\n",
        "    )\n",
        "    \n",
        "    fig.add_trace(\n",
        "        go.Heatmap(z=msk[::-1], colorscale=\"viridis\", opacity=0.5, showscale=False)\n",
        "    )\n",
        " \n",
        "    \n",
        "    fig.update_layout(\n",
        "        updatemenus=[\n",
        "            go.layout.Updatemenu(\n",
        "            type=\"buttons\",\n",
        "            buttons=list([\n",
        "                dict(label=\"Sementation\",\n",
        "                     method=\"update\",\n",
        "                     args=[{\"visible\": [True]}]),\n",
        "                dict(label=\"Raw\",\n",
        "                     method=\"update\",\n",
        "                     args=[{\"visible\": [False]}]),\n",
        "            ]),\n",
        "        )])\n",
        "            \n",
        "    \n",
        "    \n",
        "\n",
        "\n",
        "    fig.update_xaxes( visible=False, range=[0, img_width * scale_factor] )\n",
        "    fig.update_yaxes( visible=False, range=[0, img_height * scale_factor], scaleanchor=\"x\")\n",
        "    \n",
        "\n",
        "    fig.show()"
      ],
      "execution_count": null,
      "outputs": []
    },
    {
      "cell_type": "code",
      "metadata": {
        "scrolled": false,
        "id": "CRdH9jxnneUw"
      },
      "source": [
        "interactive_mask('a', images, masks)"
      ],
      "execution_count": null,
      "outputs": []
    },
    {
      "cell_type": "markdown",
      "metadata": {
        "id": "hxvB7BOHneUx"
      },
      "source": [
        "- slider를 사용하여 opacity를 변경할 수 있게 제공\n",
        "- segmentation별 버튼 생성\n",
        "- 기본적으로 wandb 등에서 진행할 수 있으니 기존 툴 사용하는 것을 더 추천\n",
        "    - https://wandb.ai/stacey/deep-drive/reports/Image-Masks-for-Semantic-Segmentation--Vmlldzo4MTUwMw\n",
        "    - https://neptune.ai/blog/data-exploration-for-image-segmentation-and-object-detection\n",
        "        - https://github.com/i008/COCO-dataset-explorer"
      ]
    },
    {
      "cell_type": "markdown",
      "metadata": {
        "id": "b25mOnt4neUx"
      },
      "source": [
        "### 2-3. Dimension Reduction + Scatter Plot\n",
        "\n",
        "TSNE, UMAP 등을 통해 데이터셋의 경향성을 살펴볼 수 있습니다.\n",
        "\n",
        "일반적으로 cluster가 이뤄지는 지 체크하는 것이 일반적입니다,"
      ]
    },
    {
      "cell_type": "code",
      "metadata": {
        "id": "DyVQi0u2neUx"
      },
      "source": [
        "# pip install umap-learn"
      ],
      "execution_count": null,
      "outputs": []
    },
    {
      "cell_type": "code",
      "metadata": {
        "id": "Vz8D2BxRneUx"
      },
      "source": [
        "from umap import UMAP\n",
        "\n",
        "data = digits['data']\n",
        "target = digits['target']\n",
        "\n",
        "umap = UMAP(random_state=0)\n",
        "data_dr = umap.fit_transform(data, target)"
      ],
      "execution_count": null,
      "outputs": []
    },
    {
      "cell_type": "code",
      "metadata": {
        "id": "43KqLRXsneUx"
      },
      "source": [
        "from matplotlib.colors import ListedColormap\n",
        "colors = plt.cm.get_cmap('tab10').colors\n",
        "colors"
      ],
      "execution_count": null,
      "outputs": []
    },
    {
      "cell_type": "code",
      "metadata": {
        "id": "GnYkOTQxneUx"
      },
      "source": [
        "fig = plt.figure(figsize=(12, 12))\n",
        "gs = fig.add_gridspec(6, 5)\n",
        "ax = fig.add_subplot(gs[1:-1,1:-1])\n",
        "\n",
        "\n",
        "\n",
        "sub_axes = [None] * 10\n",
        "for idx in range(10): \n",
        "    sub_axes[idx] = fig.add_subplot(gs[0-idx//5,idx%5])\n",
        "\n",
        "for idx in range(10):\n",
        "    ax.scatter(x=data_dr[:,0][target==idx], y=data_dr[:,1][target==idx],\n",
        "              s=10, alpha=0.1, color=colors[idx]\n",
        "              )\n",
        "\n",
        "    for j in range(10):\n",
        "        sub_axes[j].scatter(x=data_dr[:,0][target==idx], y=data_dr[:,1][target==idx],\n",
        "                            s=10, alpha = 0.4 if idx==j else 0.008, \n",
        "                            color = (colors[j]) if idx==j else 'lightgray',\n",
        "                            zorder=(idx==j)\n",
        "                           )\n",
        "        \n",
        "    \n",
        "    inset_ax = sub_axes[idx].inset_axes([0.81, 0.79, 0.2, 0.2])\n",
        "    inset_ax.axis('off')\n",
        "    \n",
        "    \n",
        "    num_idx = target.tolist().index(idx)\n",
        "    inset_ax.imshow(data[num_idx].reshape(8, 8), cmap='gray')\n",
        "    \n",
        "    sub_axes[idx].set_xticks([])\n",
        "    sub_axes[idx].set_yticks([])\n",
        "    sub_axes[idx].set_xlabel('')\n",
        "    sub_axes[idx].set_ylabel('')\n",
        "    sub_axes[idx].spines['right'].set_visible(True)\n",
        "    sub_axes[idx].spines['top'].set_visible(True)\n",
        "\n",
        "\n",
        "ax.set_xticks([])\n",
        "ax.set_yticks([])\n",
        "ax.set_xlabel('')\n",
        "ax.set_ylabel('')\n",
        "ax.axis('off')\n",
        "\n",
        "fig.tight_layout()\n",
        "plt.show()"
      ],
      "execution_count": null,
      "outputs": []
    },
    {
      "cell_type": "markdown",
      "metadata": {
        "id": "DxM7-WyKneUy"
      },
      "source": [
        "## 3. Text Dataset Visualization\n",
        "\n",
        "### 3-1. Console output에 Highlight\n",
        "\n",
        "- https://stackoverflow.com/questions/287871/how-to-print-colored-text-to-the-terminal\n",
        "    - https://github.com/ikalnytskyi/termcolor\n",
        "    - https://github.com/feluxe/sty\n",
        "    - https://github.com/erikrose/blessings\n",
        "    - https://github.com/willmcgugan/rich"
      ]
    },
    {
      "cell_type": "code",
      "metadata": {
        "id": "8XFaOlBmneUy"
      },
      "source": [
        "# pip install termcolor"
      ],
      "execution_count": null,
      "outputs": []
    },
    {
      "cell_type": "code",
      "metadata": {
        "id": "O0FwS5I-neUy"
      },
      "source": [
        "from termcolor import colored, cprint\n",
        "\n",
        "print(colored('hello', 'red'), colored('world', 'green'))\n",
        "print(colored(\"hello red world\", 'red'))"
      ],
      "execution_count": null,
      "outputs": []
    },
    {
      "cell_type": "code",
      "metadata": {
        "id": "zDW7buSIneUy"
      },
      "source": [
        "def word_highligt(txt, word, color=None, highlight=None, attr=None):\n",
        "    if isinstance(word, str):\n",
        "        txt = txt.replace(word, colored(word, color, highlight))\n",
        "    else : \n",
        "        if not isinstance(color, list): \n",
        "            color = [color] * len(word)\n",
        "        if not isinstance(highlight, list):\n",
        "            highlight = [highlight] * len(word)\n",
        "        for w, c, h in zip(word, color, highlight):\n",
        "            txt = txt.replace(w, colored(w, c, h))\n",
        "    return txt"
      ],
      "execution_count": null,
      "outputs": []
    },
    {
      "cell_type": "code",
      "metadata": {
        "id": "QAEEW8AaneUy"
      },
      "source": [
        "lyrics = \"\"\"\n",
        "'Cause I-I-I'm in the stars tonight\n",
        "So watch me bring the fire and set the night alight\n",
        "Shoes on, get up in the morn'\n",
        "Cup of milk, let's rock and roll\n",
        "King Kong, kick the drum, rolling on like a Rolling Stone\n",
        "Sing song when I'm walking home\n",
        "Jump up to the top, LeBron\n",
        "Ding dong, call me on my phone\n",
        "Ice tea and a game of ping pong, huh\n",
        "This is getting heavy\n",
        "Can you hear the bass boom? I'm ready (woo hoo)\n",
        "Life is sweet as honey\n",
        "Yeah, this beat cha-ching like money, huh\n",
        "Disco overload, I'm into that, I'm good to go\n",
        "I'm diamond, you know I glow up\n",
        "Hey, so let's go\n",
        "'Cause I-I-I'm in the stars tonight\n",
        "So watch me bring the fire and set the night alight (hey)\n",
        "Shining through the city with a little funk and soul\n",
        "So I'ma light it up like dynamite, whoa oh oh\n",
        "Bring a friend, join the crowd\n",
        "Whoever wanna come along\n",
        "Word up, talk the talk\n",
        "Just move like we off the wall\n",
        "Day or night, the sky's alight\n",
        "So we dance to the break of dawn\n",
        "Ladies and gentlemen, I got the medicine\n",
        "So you should keep ya eyes on the ball, huh\n",
        "This is getting heavy\n",
        "Can you hear the bass boom? I'm ready (woo hoo)\n",
        "Life is sweet as honey\n",
        "Yeah, this beat cha-ching like money\n",
        "Disco overload, I'm into that, I'm good to go\n",
        "I'm diamond, you know I glow up\n",
        "Let's go\n",
        "'Cause I-I-I'm in the stars tonight\n",
        "So watch me bring the fire and set the night alight (hey)\n",
        "Shining through the city with a little funk and soul\n",
        "So I'ma light it up like dynamite, whoa oh oh\n",
        "Dy-na-na-na, na-na, na-na-na, na-na-na, life is dynamite\n",
        "Dy-na-na-na, na-na, na-na-na, na-na-na, life is dynamite\n",
        "Shining through the city with a little funk and soul\n",
        "So I'ma light it up like dynamite, whoa oh oh\n",
        "Dy-na-na-na, na-na, na-na, ayy\n",
        "Dy-na-na-na, na-na, na-na, ayy\n",
        "Dy-na-na-na, na-na, na-na, ayy\n",
        "Light it up like dynamite\n",
        "Dy-na-na-na, na-na, na-na, ayy\n",
        "Dy-na-na-na, na-na, na-na, ayy\n",
        "Dy-na-na-na, na-na, na-na, ayy\n",
        "Light it up like dynamite\n",
        "'Cause I-I-I'm in the stars tonight\n",
        "So watch me bring the fire and set the night alight\n",
        "Shining through the city with a little funk and soul\n",
        "So I'ma light it up like dynamite (this is ah)\n",
        "'Cause I-I-I'm in the stars tonight\n",
        "So watch me bring the fire and set the night alight (alight, oh)\n",
        "Shining through the city with a little funk and soul\n",
        "So I'ma light it up like dynamite, whoa (light it up like dynamite)\n",
        "Dy-na-na-na, na-na, na-na-na, na-na-na, life is dynamite\n",
        "Dy-na-na-na, na-na, na-na-na, na-na-na, life is dynamite\n",
        "Shining through the city with a little funk and soul\n",
        "So I'ma light it up like dynamite, whoa oh oh\n",
        "\"\"\""
      ],
      "execution_count": null,
      "outputs": []
    },
    {
      "cell_type": "code",
      "metadata": {
        "id": "hJSe3udIneUy"
      },
      "source": [
        "print(word_highligt(lyrics, 'me', None, 'on_red'))"
      ],
      "execution_count": null,
      "outputs": []
    },
    {
      "cell_type": "code",
      "metadata": {
        "id": "-aqbEwbtneUz"
      },
      "source": [
        "print(word_highligt(lyrics,  ['to', 'I'], [None, 'cyan'], ['on_red', None]))"
      ],
      "execution_count": null,
      "outputs": []
    },
    {
      "cell_type": "markdown",
      "metadata": {
        "id": "JOsKRAMBneUz"
      },
      "source": [
        "### 3-2. IPython의 HTML의 활용"
      ]
    },
    {
      "cell_type": "code",
      "metadata": {
        "id": "q9Tr4CTjneUz"
      },
      "source": [
        "from IPython.core.display import HTML\n",
        "HTML(\"<span style='color:red'>hello</span> word\")"
      ],
      "execution_count": null,
      "outputs": []
    },
    {
      "cell_type": "code",
      "metadata": {
        "id": "ndaEAuwQneUz"
      },
      "source": [
        "def word_highligt_html(txt, word, color='black', highlight=None, attr=None):\n",
        "    if isinstance(word, str):\n",
        "        txt = txt.replace(word, f'<span style=\"color: {color}; background-color:{highlight}\">{word}</span>')\n",
        "    else : \n",
        "        if not isinstance(color, list): \n",
        "            color = [color] * len(word)\n",
        "        if not isinstance(highlight, list):\n",
        "            highlight = [highlight] * len(word)\n",
        "        for w, c, h in zip(word, color, highlight):\n",
        "\n",
        "            txt = txt.replace(w, f'<span style=\"color: {c}; background-color:{h}\">{w}</span>')\n",
        "    return txt"
      ],
      "execution_count": null,
      "outputs": []
    },
    {
      "cell_type": "code",
      "metadata": {
        "id": "lE7YlzphneUz"
      },
      "source": [
        "HTML(word_highligt_html(lyrics, ['and', 'Yeah'], ['red', 'white'],  [None, '#B19CD9']))"
      ],
      "execution_count": null,
      "outputs": []
    },
    {
      "cell_type": "markdown",
      "metadata": {
        "id": "0TILHRcWneUz"
      },
      "source": [
        "이런 범용 툴 및 라이브러리 소스들이 있으니 살펴보면 좋습니다.\n",
        "\n",
        "- LIT : https://github.com/PAIR-code/lit\n",
        "    - interactive model-understanding tool for NLP models\n",
        "- Ecco : https://www.eccox.io/\n",
        "    - Ecco is a python library that creates interactive visualizations allowing you to explore what your NLP Language Model is thinking.\n",
        "- https://github.com/jessevig/bertviz\n",
        "- https://github.com/jbesomi/texthero\n",
        "- https://github.com/bmabey/pyLDAvis\n",
        "- https://github.com/JasonKessler/scattertext\n",
        "- https://github.com/ryanjgallagher/shifterator"
      ]
    },
    {
      "cell_type": "markdown",
      "metadata": {
        "id": "PtjF0C_-neUz"
      },
      "source": [
        "## Further Reading \n",
        "\n",
        "딥러닝/머신러닝을 공부하는 분들에게 마지막 전달하는 AI + Visualization 자료\n",
        "\n",
        "\n",
        "\n",
        "- Distill.pub : https://distill.pub/\n",
        "- Poloclub : https://poloclub.github.io/\n",
        "- Google Pair : https://pair.withgoogle.com/\n",
        "- Open AI Blog : https://openai.com/blog/\n",
        "\n",
        "---\n",
        "\n",
        "그 외 visualization 아이디어를 얻을 수 있는 소스\n",
        "\n",
        "- Observable : https://observablehq.com/\n",
        "- https://textvis.lnu.se/\n",
        "- https://visimages.github.io/visimages-explorer/\n",
        "\n",
        "좋은 프로젝트 / 좋은 연구를 응원합니다!!"
      ]
    },
    {
      "cell_type": "code",
      "metadata": {
        "id": "BxS7waqtneUz"
      },
      "source": [
        ""
      ],
      "execution_count": null,
      "outputs": []
    }
  ]
}